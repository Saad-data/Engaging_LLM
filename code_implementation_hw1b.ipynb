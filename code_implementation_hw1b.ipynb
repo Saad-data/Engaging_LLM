{
  "cells": [
    {
      "cell_type": "markdown",
      "source": [
        "# **Implementation for Homework 1b**"
      ],
      "metadata": {
        "id": "EsADOnvcI9dR"
      }
    },
    {
      "cell_type": "markdown",
      "source": [
        "## Introduction:\n",
        "This code file is designed to carry out Homework 1b, which involves training and evaluating a Bidirectional Long Short-Term Memory (BiLSTM) model for text classification. The initial steps consist of setting up the environment, arranging the data, defining the model using pre-trained Word2Vec embeddings, training and evaluating the model using a Trainer class, managing hyperparameters with HyperParametersClass, and visualising performance metrics (loss, accuracy, precision, recall, F1 score) throughout the training epochs. The notebook provides a comprehensive workflow complemented by detailed notes and visual representations.\n",
        "\n"
      ],
      "metadata": {
        "id": "imEC69IiICSo"
      }
    },
    {
      "cell_type": "markdown",
      "source": [
        "## Authors\n",
        "- **Syed Saad Hasan**  \n",
        "  Email: [hasan.2106512@studenti.uniroma1.it]\n",
        "\n",
        "---"
      ],
      "metadata": {
        "id": "4hnEpViIH_qo"
      }
    },
    {
      "cell_type": "markdown",
      "metadata": {
        "id": "z2RWylX89ilB"
      },
      "source": [
        "# Getting the Environment Ready"
      ]
    },
    {
      "cell_type": "markdown",
      "metadata": {
        "id": "brQX4Xm-ZzVk"
      },
      "source": [
        "Begining from the checks for the required packages (numpy, torch, etc.) and installs any that are missing, and it also installs the Italian language model (it_core_news_sm) for spaCy.\n",
        "\n",
        "\n"
      ]
    },
    {
      "cell_type": "code",
      "execution_count": 13,
      "metadata": {
        "colab": {
          "base_uri": "https://localhost:8080/"
        },
        "id": "K4FyaNWf-0VX",
        "outputId": "fbc32558-3a47-45ac-ca85-6bf1118668d2"
      },
      "outputs": [
        {
          "output_type": "stream",
          "name": "stdout",
          "text": [
            "numpy (1.25.2) is installed\n",
            "torch (2.3.0+cu121) is installed\n",
            "torchtext (0.18.0) is installed\n",
            "scikit-learn (1.2.2) is installed\n",
            "tabulate (0.9.0) is installed\n",
            "tqdm (4.66.4) is installed\n",
            "gensim (4.3.2) is installed\n",
            "huggingface-hub (0.23.4) is installed\n",
            "matplotlib (3.7.1) is installed\n",
            "gdown (5.1.0) is installed\n",
            "it_core_news_sm has been installed correctly!\n"
          ]
        }
      ],
      "source": [
        "import pkg_resources\n",
        "from subprocess import call, check_output, CalledProcessError\n",
        "\n",
        "# List of required packages\n",
        "packages = [\n",
        "    \"numpy\", \"torch\", \"torchtext\", \"scikit-learn\", \"tabulate\",\n",
        "    \"tqdm\", \"gensim\", \"huggingface_hub\", \"matplotlib\", \"gdown\"\n",
        "]\n",
        "\n",
        "# Check and install packages if not already installed\n",
        "for p in packages:\n",
        "    try:\n",
        "        # Check if the package is already installed\n",
        "        dist = pkg_resources.get_distribution(p)\n",
        "        print(f'{dist.key} ({dist.version}) is installed')\n",
        "    except pkg_resources.DistributionNotFound:\n",
        "        # Install the package if not installed\n",
        "        print(f'{p} is NOT installed')\n",
        "        call(f\"pip install {p}\", shell=True)\n",
        "\n",
        "# Try to install the Italian language model for spaCy\n",
        "try:\n",
        "    check_output('python -m spacy download it_core_news_sm', shell=True)\n",
        "    print(\"it_core_news_sm has been installed correctly!\")\n",
        "except CalledProcessError as e:\n",
        "    print(\"Error: \", e.output)"
      ]
    },
    {
      "cell_type": "code",
      "execution_count": 14,
      "metadata": {
        "id": "4jwhpdq32bkm"
      },
      "outputs": [],
      "source": [
        "#The %%capture command suppresses the output of this cell in a Jupyter Notebook\n",
        "%%capture\n",
        "\n",
        "# Import necessary libraries\n",
        "import json\n",
        "from google.colab import drive\n",
        "import zipfile\n",
        "import random\n",
        "import numpy as np\n",
        "from collections import Counter\n",
        "import torch\n",
        "from torch import nn\n",
        "from torch.nn.utils.rnn import pad_sequence\n",
        "from torch.utils.data import Dataset, DataLoader\n",
        "from torchtext.data.utils import get_tokenizer\n",
        "from torchtext.vocab import Vocab, vocab\n",
        "from torch.nn.utils.rnn import pack_padded_sequence\n",
        "import copy\n",
        "from sklearn.metrics import accuracy_score,precision_score, recall_score, f1_score,log_loss\n",
        "from tabulate import tabulate\n",
        "from sklearn.model_selection import train_test_split\n",
        "from tqdm import tqdm\n",
        "from gensim.models import KeyedVectors\n",
        "from huggingface_hub import hf_hub_download\n",
        "import matplotlib.pyplot as plt\n",
        "import gdown"
      ]
    },
    {
      "cell_type": "markdown",
      "metadata": {
        "id": "igYVxDcY9uAV"
      },
      "source": [
        "**Code Functionality**\n",
        "This script installs required packages (numpy, torch, etc.) and the Italian language model (it_core_news_sm) for spaCy.\n",
        "\n",
        "**Device Configuration**\n",
        "It checks for an NVIDIA GPU and sets the device to cuda if available, otherwise cpu. The chosen device is printed."
      ]
    },
    {
      "cell_type": "code",
      "execution_count": 15,
      "metadata": {
        "colab": {
          "base_uri": "https://localhost:8080/"
        },
        "id": "xyNJN0db_Xno",
        "outputId": "6f4aa1bf-1e7e-4a62-f1c6-97d48c1df60e"
      },
      "outputs": [
        {
          "output_type": "stream",
          "name": "stdout",
          "text": [
            "We will use the device: cuda\n"
          ]
        }
      ],
      "source": [
        "# Check if NVIDIA GPU is available\n",
        "try:\n",
        "    subprocess.check_output('nvidia-smi', shell=True)\n",
        "    DEVICE = 'cuda'  # Set device to GPU if available\n",
        "except subprocess.CalledProcessError:\n",
        "    DEVICE = 'cpu'  # Fall back to CPU if GPU is not available\n",
        "\n",
        "# Print the device that will be used for computation\n",
        "print(\"We will use the device:\", DEVICE)"
      ]
    },
    {
      "cell_type": "markdown",
      "metadata": {
        "id": "TQw6YhyY_JRr"
      },
      "source": [
        "Now we're good to go and sets a random seed for reproducibility across Python, NumPy, and PyTorch, ensuring deterministic behavior for CuDNN on GPUs.."
      ]
    },
    {
      "cell_type": "code",
      "execution_count": 16,
      "metadata": {
        "id": "0LmcQAXJtTK4",
        "colab": {
          "base_uri": "https://localhost:8080/"
        },
        "outputId": "8e3b960a-3759-4b62-9f88-d24b9f1a32df"
      },
      "outputs": [
        {
          "output_type": "stream",
          "name": "stdout",
          "text": [
            "Random seeds set for reproducibility.\n"
          ]
        }
      ],
      "source": [
        "# Set a random seed for reproducibility\n",
        "SEED = 98766789\n",
        "\n",
        "# Set the seed for Python's random module\n",
        "random.seed(SEED)\n",
        "np.random.seed(SEED)\n",
        "torch.manual_seed(SEED)\n",
        "\n",
        "# Ensure deterministic behavior for CuDNN (GPU)\n",
        "torch.backends.cudnn.deterministic = True\n",
        "\n",
        "# Confirm seed setting\n",
        "print(\"Random seeds set for reproducibility.\")"
      ]
    },
    {
      "cell_type": "markdown",
      "metadata": {
        "id": "TVM6-2J-_dwn"
      },
      "source": [
        "Finally we import the italian word2vec model that we will use for both models"
      ]
    },
    {
      "cell_type": "code",
      "execution_count": 17,
      "metadata": {
        "colab": {
          "base_uri": "https://localhost:8080/"
        },
        "id": "jHRadoRD0eZ6",
        "outputId": "832e57ab-106e-45fd-ae4b-bdac9e79e43b"
      },
      "outputs": [
        {
          "output_type": "stream",
          "name": "stdout",
          "text": [
            "Word2Vec model loaded and converted to tensor. Embedding dimension: 300\n"
          ]
        }
      ],
      "source": [
        "# Import the Italian Word2Vec model from Hugging Face Hub\n",
        "# (https://huggingface.co/Word2vec/wikipedia2vec_itwiki_20180420_300d)\n",
        "word2vec_model = KeyedVectors.load_word2vec_format(\n",
        "    hf_hub_download(\n",
        "        repo_id=\"Word2vec/wikipedia2vec_itwiki_20180420_300d\",\n",
        "        filename=\"itwiki_20180420_300d.txt\"\n",
        "    )\n",
        ")\n",
        "\n",
        "# Convert the Word2Vec embedding vectors to a PyTorch tensor\n",
        "word_embeddings = torch.FloatTensor(word2vec_model.vectors)\n",
        "\n",
        "# Store the embedding dimension size for later use\n",
        "embedding_dim = word2vec_model.vector_size\n",
        "\n",
        "# Print confirmation of successful loading and conversion\n",
        "print(\"Word2Vec model loaded and converted to tensor. Embedding dimension:\", embedding_dim)"
      ]
    },
    {
      "cell_type": "markdown",
      "metadata": {
        "id": "yn0gfcVl_qIO"
      },
      "source": [
        "# Process the data\n"
      ]
    },
    {
      "cell_type": "markdown",
      "metadata": {
        "id": "RbATvrYc0fgc"
      },
      "source": [
        "Initially, we get the data from the Drive folder, as accomplished in hw1_a."
      ]
    },
    {
      "cell_type": "code",
      "execution_count": 20,
      "metadata": {
        "colab": {
          "base_uri": "https://localhost:8080/"
        },
        "id": "SiN8MxoMzw9k",
        "outputId": "7f6e936c-b9d1-4e4f-f48b-e3420a8d0e53"
      },
      "outputs": [
        {
          "output_type": "stream",
          "name": "stdout",
          "text": [
            "Drive already mounted at /content/drive; to attempt to forcibly remount, call drive.mount(\"/content/drive\", force_remount=True).\n"
          ]
        },
        {
          "output_type": "stream",
          "name": "stderr",
          "text": [
            "Downloading...\n",
            "From: https://drive.google.com/uc?id=1dMJghnFWehHexyEFUvrNgtzZigDmRo36\n",
            "To: /content/v2-HM1_A-2121502.zip\n",
            "100%|██████████| 916k/916k [00:00<00:00, 119MB/s]"
          ]
        },
        {
          "output_type": "stream",
          "name": "stdout",
          "text": [
            "Training and test JSONL files have been successfully loaded.\n"
          ]
        },
        {
          "output_type": "stream",
          "name": "stderr",
          "text": [
            "\n"
          ]
        }
      ],
      "source": [
        "# Mount Google Drive to access files stored in it\n",
        "drive.mount('/content/drive')\n",
        "\n",
        "# URL of the homework zip file stored in Google Drive\n",
        "hw1a_url = 'https://drive.google.com/uc?id=1dMJghnFWehHexyEFUvrNgtzZigDmRo36'\n",
        "\n",
        "# Download the zip file of homework 1a using gdown\n",
        "gdown.download(hw1a_url)\n",
        "\n",
        "# Path where the zip file is saved after download\n",
        "zip_path = '/content/v2-HM1_A-2121502.zip'\n",
        "\n",
        "# Extract the contents of the zip file to a specified directory\n",
        "with zipfile.ZipFile(zip_path, 'r') as zip_ref:\n",
        "    zip_ref.extractall('/content/hw1b')\n",
        "\n",
        "# Path to access the extracted jsonl files\n",
        "data_path = '/content/hw1b/HM1_A-2121502/task-21-ironita'\n",
        "\n",
        "# Load and parse the training jsonl file into a list\n",
        "trainJSONL = []\n",
        "with open(data_path + '/ironita-task1-train.jsonl', 'r') as f:\n",
        "    for line in f:\n",
        "        trainJSONL.append(json.loads(line))\n",
        "\n",
        "# Load and parse the test jsonl file into a list\n",
        "testJSONL = []\n",
        "with open(data_path + '/ironita-task1-test.jsonl', 'r') as f:\n",
        "    for line in f:\n",
        "        testJSONL.append(json.loads(line))\n",
        "\n",
        "# Print confirmation that the files have been successfully loaded\n",
        "print(\"Training and test JSONL files have been successfully loaded.\")"
      ]
    },
    {
      "cell_type": "code",
      "execution_count": 21,
      "metadata": {
        "colab": {
          "base_uri": "https://localhost:8080/"
        },
        "id": "J32Fyv4P3Q1F",
        "outputId": "1f808770-ba7a-4470-e7cc-51f135daeaf2"
      },
      "outputs": [
        {
          "output_type": "stream",
          "name": "stdout",
          "text": [
            "3977\n",
            "872\n",
            "{'sentence': 'Zurigo, trovato morto il presunto autore della sparatoria nel centro islamico #20dicembre <URL>', 'choices': ['non ironia', 'ironia'], 'label': 0}\n",
            "{'sentence': '-Prendere i libri in copisteria-Fare la spesa-Spararmi in bocca-Farmi la doccia', 'choices': ['non ironia', 'ironia'], 'label': 1}\n"
          ]
        }
      ],
      "source": [
        "# See the number of items of each jsonl\n",
        "print(len(trainJSONL))\n",
        "print(len(testJSONL))\n",
        "\n",
        "# Check they have not the same information\n",
        "print(trainJSONL[0])\n",
        "print(testJSONL[0])"
      ]
    },
    {
      "cell_type": "markdown",
      "metadata": {
        "id": "jXB7S-ZS_01u"
      },
      "source": [
        "Create a validation set (in README of task 21 we were only asked to do train and test)"
      ]
    },
    {
      "cell_type": "code",
      "execution_count": 22,
      "metadata": {
        "id": "eC6cqqRyIFwX",
        "colab": {
          "base_uri": "https://localhost:8080/"
        },
        "outputId": "e3d6f930-0af9-420e-a09f-872b4308caac"
      },
      "outputs": [
        {
          "output_type": "stream",
          "name": "stdout",
          "text": [
            "3977\n",
            "436\n",
            "436\n"
          ]
        }
      ],
      "source": [
        "# Extract from the train jsonl the valid jsonl\n",
        "testJSONL, validJSONL = train_test_split(testJSONL, test_size=len(testJSONL)//2)\n",
        "# Now we have train validation and test datasets\n",
        "print(len(trainJSONL))\n",
        "print(len(testJSONL))\n",
        "print(len(validJSONL))"
      ]
    },
    {
      "cell_type": "code",
      "execution_count": 23,
      "metadata": {
        "id": "UC2td7qsJXun",
        "colab": {
          "base_uri": "https://localhost:8080/"
        },
        "outputId": "82e7d0d8-44a2-4966-fc41-f9ed7aa2046d"
      },
      "outputs": [
        {
          "output_type": "stream",
          "name": "stdout",
          "text": [
            "Train, test, and validation JSONL files have been successfully saved.\n"
          ]
        }
      ],
      "source": [
        "# Save the new JSONL datasets to files\n",
        "\n",
        "# Save the training data to train.jsonl\n",
        "with open('/content/hw1b/train.jsonl', 'w') as f:\n",
        "    for entry in trainJSONL:\n",
        "        f.write(json.dumps(entry) + '\\n')\n",
        "\n",
        "# Save the test data to test.jsonl\n",
        "with open('/content/hw1b/test.jsonl', 'w') as f:\n",
        "    for entry in testJSONL:\n",
        "        f.write(json.dumps(entry) + '\\n')\n",
        "\n",
        "# Save the validation data to valid.jsonl\n",
        "with open('/content/hw1b/valid.jsonl', 'w') as f:\n",
        "    for entry in validJSONL:\n",
        "        f.write(json.dumps(entry) + '\\n')\n",
        "\n",
        "# Print confirmation that files have been saved\n",
        "print(\"Train, test, and validation JSONL files have been successfully saved.\")"
      ]
    },
    {
      "cell_type": "markdown",
      "metadata": {
        "id": "UdldKojWQ0Mc"
      },
      "source": [
        "# Managing Dataset Class"
      ]
    },
    {
      "cell_type": "code",
      "execution_count": 24,
      "metadata": {
        "id": "x6GxF5s-lAxn"
      },
      "outputs": [],
      "source": [
        "# Create a class to contain hyperparameters for different classes\n",
        "# This allows flexible hyperparameter management without altering the class itself\n",
        "\n",
        "class HyperParametersClass:\n",
        "    def __init__(self, **kwargs):\n",
        "        # Initialize the class with any number of hyperparameters passed as keyword arguments\n",
        "        for key, value in kwargs.items():\n",
        "            # Set each hyperparameter as an attribute of the class instance\n",
        "            setattr(self, key, value)\n",
        "\n",
        "# Example usage:\n",
        "# params = HyperParametersClass(learning_rate=0.001, batch_size=32, num_epochs=10)\n",
        "# This will create an instance with attributes: params.learning_rate, params.batch_size, params.num_epochs"
      ]
    },
    {
      "cell_type": "markdown",
      "source": [
        "Sets the hyperparameters for the (hw1b_Dataset) class using the (HyperParametersClass) to allow flexible and easy configuration"
      ],
      "metadata": {
        "id": "A4V69oZc4E41"
      }
    },
    {
      "cell_type": "code",
      "execution_count": 28,
      "metadata": {
        "id": "MItJqHHUoGF5",
        "colab": {
          "base_uri": "https://localhost:8080/"
        },
        "outputId": "ef8d9d5b-dd75-4a3b-a51d-bf1d66c22c20"
      },
      "outputs": [
        {
          "output_type": "stream",
          "name": "stdout",
          "text": [
            "Hyperparameters for HW1b_Dataset have been set.\n"
          ]
        }
      ],
      "source": [
        "# Initialize specific hyperparameters for hw1b_Dataset\n",
        "hw1b_Dataset_HP = HyperParametersClass(\n",
        "    path=\"\",                # Path to the dataset (string)\n",
        "    max_length=1028,        # Maximum length of sequences (integer)\n",
        "    device=DEVICE,          # Device to be used (string: 'cuda' or 'cpu')\n",
        "    pad_token=\"<pad>\",      # Padding token (string)\n",
        "    unk_token=\"<unk>\",      # Unknown token (string)\n",
        "    extra_tokens=[]         # List of extra tokens (list of strings)\n",
        ")\n",
        "\n",
        "# Print confirmation that hyperparameters have been set\n",
        "print(\"Hyperparameters for HW1b_Dataset have been set.\")"
      ]
    },
    {
      "cell_type": "code",
      "source": [
        "# Define a class for the datasets of the task\n",
        "class hw1b_Dataset(Dataset):\n",
        "    def __init__(self, hp: HyperParametersClass):\n",
        "        # Initialize the dataset with hyperparameters from HyperParametersClass\n",
        "\n",
        "        # Get an Italian tokenizer\n",
        "        self.tokenizer = get_tokenizer(\"spacy\", language='it')\n",
        "\n",
        "        self.samples = self._load_samples(hp.path)\n",
        "        self.vocabulary = self._build_vocabulary(hp)\n",
        "        self.indexed_data = self._index_data(self.samples, self.vocabulary)\n",
        "\n",
        "        # Set other class attributes\n",
        "        self.max_length = hp.max_length\n",
        "        self.device = torch.device(hp.device)\n",
        "        self.padding_id = self.vocabulary([hp.pad_token])[0]\n",
        "\n",
        "    def _load_samples(self, path):\n",
        "        # Load and tokenize samples from the JSONL file\n",
        "        samples = []\n",
        "        token_list = []\n",
        "\n",
        "        with open(path, \"r\") as f:\n",
        "            for line in f:\n",
        "                sample = json.loads(line)\n",
        "                sample[\"tokens\"] = self.tokenizer(sample[\"sentence\"])\n",
        "                samples.append(sample)\n",
        "                token_list.extend(sample[\"tokens\"])\n",
        "\n",
        "        self.token_list = token_list\n",
        "        return samples\n",
        "\n",
        "    def _build_vocabulary(self, hp):\n",
        "        # Build vocabulary from tokens\n",
        "        counter = Counter(self.token_list)\n",
        "        vocab_obj = vocab(counter, min_freq=1, specials=[hp.pad_token, hp.unk_token, *hp.extra_tokens])\n",
        "        vocab_obj.set_default_index(vocab_obj[hp.unk_token])\n",
        "        return vocab_obj\n",
        "\n",
        "    def _index_data(self, samples, vocabulary):\n",
        "        # Index the data using the vocabulary\n",
        "        return [{\"input_ids\": vocabulary(sample[\"tokens\"]), \"label\": sample[\"label\"]} for sample in samples]\n",
        "\n",
        "    def __len__(self) -> int:\n",
        "        # Return the number of samples in the dataset\n",
        "        return len(self.samples)\n",
        "\n",
        "    def __getitem__(self, idx: int) -> dict:\n",
        "        # Get the sample at the specified index\n",
        "        return self.indexed_data[idx]\n",
        "\n",
        "    def _collate_fn(self, raw_batch: list[dict]) -> tuple[torch.Tensor, torch.Tensor, torch.Tensor]:\n",
        "\n",
        "        # Save the length of each batch sample in a tensor\n",
        "        sequence_lengths = torch.tensor([len(sample[\"input_ids\"]) for sample in raw_batch], dtype=torch.long)\n",
        "\n",
        "        # Save the padded sequence of input_ids in a tensor\n",
        "        padded_sequence = pad_sequence(\n",
        "            [torch.tensor(sample[\"input_ids\"], dtype=torch.long, device=self.device) for sample in raw_batch],\n",
        "            batch_first=True,\n",
        "            padding_value=self.padding_id\n",
        "        )\n",
        "\n",
        "        # Save the labels of each batch sample in a tensor\n",
        "        labels = torch.tensor([sample[\"label\"] for sample in raw_batch], device=self.device, dtype=torch.long)\n",
        "\n",
        "        return sequence_lengths, padded_sequence, labels"
      ],
      "metadata": {
        "id": "9bstuvKE5IaR"
      },
      "execution_count": 29,
      "outputs": []
    },
    {
      "cell_type": "markdown",
      "source": [
        "**Code initializes hyperparameters, creates datasets, and sets up DataLoaders for training, validation, and testing.**"
      ],
      "metadata": {
        "id": "jCgHTTsJ6Nem"
      }
    },
    {
      "cell_type": "code",
      "execution_count": 30,
      "metadata": {
        "colab": {
          "base_uri": "https://localhost:8080/"
        },
        "id": "t3cBJ4MOoLRe",
        "outputId": "09cebf24-40ad-4a5f-c94e-5fdee4c6e182"
      },
      "outputs": [
        {
          "output_type": "stream",
          "name": "stderr",
          "text": [
            "/usr/local/lib/python3.10/dist-packages/torchtext/data/utils.py:105: UserWarning: Spacy model \"it\" could not be loaded, trying \"it_core_news_sm\" instead\n",
            "  warnings.warn(\n"
          ]
        },
        {
          "output_type": "stream",
          "name": "stdout",
          "text": [
            "DataLoaders for training, validation, and testing have been successfully created.\n"
          ]
        }
      ],
      "source": [
        "# Create the hyperparameters for each Dataset by copying the base hyperparameters\n",
        "hw1b_Dataset_HP_train = copy.deepcopy(hw1b_Dataset_HP)\n",
        "hw1b_Dataset_HP_test = copy.deepcopy(hw1b_Dataset_HP)\n",
        "hw1b_Dataset_HP_valid = copy.deepcopy(hw1b_Dataset_HP)\n",
        "\n",
        "# Set the path for the training, testing, and validation datasets\n",
        "hw1b_Dataset_HP_train.path = \"/content/hw1b/train.jsonl\"\n",
        "hw1b_Dataset_HP_test.path = \"/content/hw1b/test.jsonl\"\n",
        "hw1b_Dataset_HP_valid.path = \"/content/hw1b/valid.jsonl\"\n",
        "\n",
        "# Create hw1b_Dataset objects for each dataset\n",
        "train_dataset = hw1b_Dataset(hw1b_Dataset_HP_train)\n",
        "validation_dataset = hw1b_Dataset(hw1b_Dataset_HP_test)\n",
        "test_dataset = hw1b_Dataset(hw1b_Dataset_HP_valid)\n",
        "\n",
        "# Create DataLoader objects for batching and shuffling the datasets\n",
        "training_dataloader = DataLoader(train_dataset, batch_size=128, shuffle=True, collate_fn=train_dataset._collate_fn)\n",
        "validation_dataloader = DataLoader(validation_dataset, batch_size=128, shuffle=False, collate_fn=validation_dataset._collate_fn)\n",
        "test_dataloader = DataLoader(test_dataset, batch_size=128, shuffle=False, collate_fn=test_dataset._collate_fn)\n",
        "\n",
        "# Print confirmation that DataLoaders have been created\n",
        "print(\"DataLoaders for training, validation, and testing have been successfully created.\")"
      ]
    },
    {
      "cell_type": "markdown",
      "metadata": {
        "id": "h8ewb2kmhLtb"
      },
      "source": [
        "**Generate lists of labels and predictions for evaluation**"
      ]
    },
    {
      "cell_type": "code",
      "execution_count": 31,
      "metadata": {
        "id": "wLiAUb7hhLBz",
        "colab": {
          "base_uri": "https://localhost:8080/"
        },
        "outputId": "a2296e5f-43f9-4bd1-8073-79136b55a43a"
      },
      "outputs": [
        {
          "output_type": "stream",
          "name": "stdout",
          "text": [
            "Label and prediction lists have been successfully created.\n"
          ]
        }
      ],
      "source": [
        "# Extract all labels from the training DataLoader\n",
        "labels_list = [label for _, _, labels in training_dataloader for label in labels.tolist()]\n",
        "\n",
        "# Create a list with random choices between 0 and 1 for each label\n",
        "random_choice = [random.randint(0, 1) for _ in range(len(labels_list))]\n",
        "\n",
        "# Create a list where each prediction is always 1\n",
        "always_1 = [1] * len(labels_list)\n",
        "\n",
        "# Create a list where each prediction is always 0\n",
        "always_0 = [0] * len(labels_list)\n",
        "\n",
        "# Print confirmation of list creation\n",
        "print(\"Label and prediction lists have been successfully created.\")"
      ]
    },
    {
      "cell_type": "code",
      "execution_count": 32,
      "metadata": {
        "id": "7P-hvbZgiNMP",
        "colab": {
          "base_uri": "https://localhost:8080/"
        },
        "outputId": "2d5d1d0a-ce85-4511-91f2-1be22638442e"
      },
      "outputs": [
        {
          "output_type": "stream",
          "name": "stdout",
          "text": [
            "Accuracy for random choice predictions: 0.5109\n",
            "Accuracy for always predicting 1: 0.5087\n",
            "Accuracy for always predicting 0: 0.4913\n"
          ]
        }
      ],
      "source": [
        "# Calculate the accuracy of different prediction strategies\n",
        "# Calculate the accuracy for the random choices between 0 and 1\n",
        "random_choice_accuracy = accuracy_score(labels_list, random_choice)\n",
        "# Calculate the accuracy for the strategy that always predicts 1\n",
        "always_1_accuracy = accuracy_score(labels_list, always_1)\n",
        "# Calculate the accuracy for the strategy that always predicts 0\n",
        "always_0_accuracy = accuracy_score(labels_list, always_0)\n",
        "\n",
        "# Print the accuracies for comparison\n",
        "print(f\"Accuracy for random choice predictions: {random_choice_accuracy:.4f}\")\n",
        "print(f\"Accuracy for always predicting 1: {always_1_accuracy:.4f}\")\n",
        "print(f\"Accuracy for always predicting 0: {always_0_accuracy:.4f}\")\n"
      ]
    },
    {
      "cell_type": "markdown",
      "metadata": {
        "id": "io_EqJTUQ4mq"
      },
      "source": [
        "# Script involves LSTM models"
      ]
    },
    {
      "cell_type": "markdown",
      "source": [
        "Create the hyperparameter object for the LSTM model\n",
        "\n"
      ],
      "metadata": {
        "id": "khFXKArq7v1E"
      }
    },
    {
      "cell_type": "code",
      "execution_count": 42,
      "metadata": {
        "id": "pVKwLoha06aq",
        "colab": {
          "base_uri": "https://localhost:8080/"
        },
        "outputId": "e68eb03d-57d1-45ac-b7b5-d53438c1ec35"
      },
      "outputs": [
        {
          "output_type": "stream",
          "name": "stdout",
          "text": [
            "Hyperparameters for the LSTM model have been successfully created.\n"
          ]
        }
      ],
      "source": [
        "LSTM_HP = HyperParametersClass(\n",
        "    embedding_dim=embedding_dim,       # Dimension of the word embeddings\n",
        "    hidden_dim=64,                     # Number of hidden units in the LSTM\n",
        "    bilstm_layers=2,                   # Number of BiLSTM layers\n",
        "    bilstm_dropout=0.5,                # Dropout rate for BiLSTM layers\n",
        "    num_classes=2,                     # Number of output classes\n",
        "    padding_id=train_dataset.padding_id, # Padding token ID\n",
        "    device=DEVICE,                     # Device to run the model on (CPU or GPU)\n",
        "    bidirectional=True,                # Use bidirectional LSTM\n",
        "    word2vec_embeddings=word_embeddings # Pre-trained Word2Vec embeddings\n",
        ")\n",
        "\n",
        "# Print confirmation that the hyperparameters for the LSTM model have been set\n",
        "print(\"Hyperparameters for the LSTM model have been successfully created.\")"
      ]
    },
    {
      "cell_type": "code",
      "execution_count": 43,
      "metadata": {
        "id": "7oTbgHD9LIdz",
        "colab": {
          "base_uri": "https://localhost:8080/"
        },
        "outputId": "5d0f66d9-81e5-467b-c2a4-351af5091950"
      },
      "outputs": [
        {
          "output_type": "stream",
          "name": "stdout",
          "text": [
            "BiLSTM model class has been successfully created.\n"
          ]
        }
      ],
      "source": [
        "# Define a BiLSTM model class\n",
        "class BiLSTMModel(nn.Module):\n",
        "    def __init__(self, hparams) -> None:\n",
        "        super().__init__()\n",
        "\n",
        "        # Save hyperparameters in the object (self)\n",
        "        self.hparams = hparams\n",
        "\n",
        "        # Create an embedding layer with the Word2Vec embeddings, and set the padding index\n",
        "        self.embedding = nn.Embedding.from_pretrained(\n",
        "            self.hparams.word2vec_embeddings,\n",
        "            padding_idx=self.hparams.padding_id,\n",
        "            freeze=True  # Ensure embeddings are not trainable\n",
        "        ).to(self.hparams.device)\n",
        "\n",
        "        # Create the LSTM (or BiLSTM) layers based on hyperparameters\n",
        "        self.bilstm = nn.LSTM(\n",
        "            input_size=self.hparams.embedding_dim,\n",
        "            hidden_size=self.hparams.hidden_dim,\n",
        "            num_layers=self.hparams.bilstm_layers,\n",
        "            batch_first=True,\n",
        "            dropout=self.hparams.bilstm_dropout,\n",
        "            bidirectional=self.hparams.bidirectional,\n",
        "            device=self.hparams.device\n",
        "        )\n",
        "\n",
        "        # Create a dropout layer to prevent overfitting\n",
        "        self.dropout = nn.Dropout(self.hparams.bilstm_dropout)\n",
        "\n",
        "        # Determine LSTM output dimensions based on whether LSTM is bidirectional\n",
        "        lstm_output_dim = self.hparams.hidden_dim * 2 if self.hparams.bidirectional else self.hparams.hidden_dim\n",
        "\n",
        "        # Create a linear projection layer for classification\n",
        "        self.projection = nn.Linear(\n",
        "            in_features=lstm_output_dim,\n",
        "            out_features=self.hparams.num_classes,\n",
        "            device=self.hparams.device\n",
        "        )\n",
        "\n",
        "    def forward(self, batch: tuple[torch.Tensor, torch.Tensor]) -> torch.Tensor:\n",
        "        # Get the sequence lengths and input ids from the batch\n",
        "        sequence_lengths, input_ids = batch\n",
        "\n",
        "        #Embed the input tokens\n",
        "        embeds = self.embedding(input_ids)\n",
        "\n",
        "        #Apply dropout to the embeddings\n",
        "        embeds = self.dropout(embeds)\n",
        "\n",
        "        #Pack the padded sequence\n",
        "        packed = pack_padded_sequence(embeds, sequence_lengths, batch_first=True, enforce_sorted=False)\n",
        "\n",
        "        #Pass the packed sequence through the BiLSTM layer\n",
        "        packed_output, (hidden_state, _) = self.bilstm(packed)\n",
        "\n",
        "        #Reshape the outputs of the BiLSTM layer\n",
        "        if self.hparams.bidirectional:\n",
        "            hidden = torch.cat((hidden_state[-2, :, :], hidden_state[-1, :, :]), dim=1)\n",
        "        else:\n",
        "            hidden = hidden_state[-1, :, :]\n",
        "\n",
        "        #Apply dropout to the hidden states\n",
        "        hidden = self.dropout(hidden)\n",
        "\n",
        "        #Pass the hidden states through the projection layer to get the logits\n",
        "        logits = self.projection(hidden)\n",
        "\n",
        "        return logits\n",
        "#Print confirmation that the BiLSTM model class has been created\n",
        "print(\"BiLSTM model class has been successfully created.\")"
      ]
    },
    {
      "cell_type": "markdown",
      "metadata": {
        "id": "j_25EkDjQ9eb"
      },
      "source": [
        "Here **Trainer** class for training and evaluating a neural network model, including functionality for logging, early stopping, and saving the best model based on validation accuracy."
      ]
    },
    {
      "cell_type": "code",
      "execution_count": 44,
      "metadata": {
        "id": "qXB-t7YaLiSE"
      },
      "outputs": [],
      "source": [
        "class Trainer():\n",
        "    def __init__(\n",
        "        self,\n",
        "        model: nn.Module,\n",
        "        optimizer: torch.optim.Optimizer,\n",
        "        log_level: int = 3\n",
        "    ):\n",
        "        # Save the model, the optimizer and the loss function\n",
        "        self.model = model\n",
        "        self.optimizer = optimizer\n",
        "        self.loss_function = nn.CrossEntropyLoss() # this is the default loss used nearly everywhere in NLP\n",
        "\n",
        "        # Save the log level\n",
        "        self.log_level = log_level\n",
        "\n",
        "        # The log level determines how much information is shown\n",
        "        # 0: NOTHING is shown\n",
        "        # 1: Shows anounces, progress bar for each epoch and the final train and validation loss and accuracy of each epoch\n",
        "        # 2: Shows the previously metioned things and the evolving train accuracy and loss for each epoch\n",
        "        # 3: Shows the previously metioned things, the evolving train recall, precision and f1 for each epoch\n",
        "        #    and a table with all the train and validation metrics for each epoch\n",
        "\n",
        "    def train(\n",
        "        self,\n",
        "        train_dataloader: DataLoader,\n",
        "        valid_dataloader: DataLoader,\n",
        "        epochs: int = 1,\n",
        "        early_stopper = 0,\n",
        "        best_val_acc = False\n",
        "    ) :\n",
        "        \"\"\"\n",
        "        Args:\n",
        "            train_dataloader: a DataLoader instance containing the training instances.\n",
        "            valid_dataloader: a DataLoader instance used to evaluate learning progress.\n",
        "            epochs: the number of times to iterate over train_dataset.\n",
        "            early_stopper: an integer to apply the early stopper callback. It means that when you have not improved your validation accuracy for x epochs, the training is stopped.\n",
        "            best_val_acc: a boolean indicating if you want to keep the weights with the best validation accuracy (True) or you prefeer to keep the last weigths (False)\n",
        "        Returns:\n",
        "            train_metrics: a dictionary with some metrics of the model on the trainig dataset (loss, accuracy, precision, recall, f1)\n",
        "            val_metrics:  a dictionary with some metrics of the model on the validaion dataset (loss, accuracy, precision, recall, f1)\n",
        "        \"\"\"\n",
        "        # Check that the epoch value is correct\n",
        "        assert epochs >= 1 and isinstance(epochs, int)\n",
        "\n",
        "        if self.log_level > 0:\n",
        "            # Anounce the start of the training\n",
        "            print('Training ...')\n",
        "\n",
        "        # Set the training loss value\n",
        "        train_loss = 0.0\n",
        "\n",
        "        # Create the empty dictionaries fo train and validation metrics\n",
        "        train_metrics = {\n",
        "            \"train_losses\": [],\n",
        "            \"train_acc\": [],\n",
        "            \"train_precision\": [],\n",
        "            \"train_recall\": [],\n",
        "            \"train_f1\": [],\n",
        "        }\n",
        "\n",
        "        val_metrics = {\n",
        "            \"val_losses\": [],\n",
        "            \"val_acc\": [],\n",
        "            \"val_precision\": [],\n",
        "            \"val_recall\": [],\n",
        "            \"val_f1\": [],\n",
        "        }\n",
        "\n",
        "        if best_val_acc:\n",
        "          # Prepare the variables to keep the best validation accuracy, its epoch and its wheights\n",
        "          best_acc = 0.0\n",
        "          best_acc_epoch = 0\n",
        "          best_model_wts = copy.deepcopy(self.model.state_dict())\n",
        "\n",
        "\n",
        "        for epoch in range(1, epochs + 1):\n",
        "            if self.log_level > 0:\n",
        "                # Anounce the epoch\n",
        "                print(\"#\"*100)\n",
        "                print(' Epoch {:2d}'.format(epoch))\n",
        "\n",
        "            # Set the metrics variables of the epoch\n",
        "            epoch_loss = 0.0\n",
        "            epoch_acc = 0.0\n",
        "            epoch_precision = 0.0\n",
        "            epoch_f1 = 0.0\n",
        "            epoch_recall = 0.0\n",
        "\n",
        "            # Train the model\n",
        "            self.model.train()\n",
        "\n",
        "            # Creates a progress bar with the batches to control how training is progressing\n",
        "            if self.log_level >0:\n",
        "              progress_bar = tqdm(train_dataloader)\n",
        "            else:\n",
        "              progress_bar = train_dataloader\n",
        "\n",
        "            for step, (sequence_lengths, inputs, labels) in enumerate(progress_bar):\n",
        "                # Set the gradient to 0\n",
        "                self.optimizer.zero_grad()\n",
        "\n",
        "                # Obtain the predictions and then the losses of the model\n",
        "                predictions = self.model((sequence_lengths, inputs))\n",
        "                sample_loss = self.loss_function(predictions, labels)\n",
        "\n",
        "                # Train the model\n",
        "                sample_loss.backward()\n",
        "                self.optimizer.step()\n",
        "\n",
        "                ## Sum the metrics to the epoch variable\n",
        "                # Loss\n",
        "                epoch_loss += sample_loss.cpu().tolist()\n",
        "\n",
        "                # Accuracy\n",
        "                sample_acc = self._compute_acc(predictions, labels)\n",
        "                epoch_acc += sample_acc\n",
        "\n",
        "                # Precision\n",
        "                sample_precision = self._compute_precision(predictions,labels)\n",
        "                epoch_precision += sample_precision\n",
        "\n",
        "                # Recall\n",
        "                sample_recall = self._compute_recall(predictions,labels)\n",
        "                epoch_recall += sample_recall\n",
        "\n",
        "                # F1\n",
        "                sample_f1 = self._compute_f1(predictions,labels)\n",
        "                epoch_f1 += sample_f1\n",
        "\n",
        "                # Log level 3 (print all metrics)\n",
        "                if self.log_level >2:\n",
        "                    progress_bar.set_description(\"Train Loss: {:0.4f}\\tTrain accuracy: {:0.4f}\\tTrain precision: {:0.4f}\\tTrain recall: {:0.4f}\\tTrain F1: {:0.4f}\".format(sample_loss,sample_acc,sample_precision,sample_recall,sample_f1))\n",
        "\n",
        "                # Log level 2 (print loss and accuracy)\n",
        "                elif self.log_level >1:\n",
        "                    progress_bar.set_description(\"Train Loss: {:0.4f}\\tTrain accuracy: {:0.4f}\\t\\t\".format(sample_loss,sample_acc))\n",
        "\n",
        "            # Calculate the average of the metrics\n",
        "            avg_train_loss = epoch_loss / len(train_dataloader)\n",
        "            avg_train_acc = epoch_acc / len(train_dataloader)\n",
        "            avg_train_precision = epoch_precision / len(train_dataloader)\n",
        "            avg_train_recall = epoch_recall / len(train_dataloader)\n",
        "            avg_train_f1 = epoch_f1 / len(train_dataloader)\n",
        "\n",
        "            # Calculate the validation average of the metrics\n",
        "            avg_valid_loss,avg_valid_acc,avg_valid_precision,avg_valid_recall,avg_valid_f1 = self.evaluate(valid_dataloader)\n",
        "\n",
        "            # Callback: Early stopping (stop the training)\n",
        "            if early_stopper != 0 and len(val_metrics[\"val_acc\"]) > early_stopper and  avg_valid_acc < best_acc and best_acc_epoch + early_stopper < epoch:\n",
        "              if self.log_level > 0:\n",
        "                print(f\"Early stopping on epoch {epoch}\")\n",
        "\n",
        "              if best_val_acc:\n",
        "                # Save the best validation accuracy weights on the model before finishing the training\n",
        "                self.model.load_state_dict(best_model_wts)\n",
        "                if self.log_level > 0:\n",
        "                  print(f\"Keeping best accuracy validation weights (epoch {best_acc_epoch})\")\n",
        "\n",
        "              return (train_metrics,val_metrics)\n",
        "\n",
        "            # Callback: Keep best validation accuracy weights\n",
        "            if avg_valid_acc > best_acc and best_val_acc:\n",
        "                # Update the best accuracy variables\n",
        "                best_acc = avg_valid_acc\n",
        "                best_acc_epoch = epoch\n",
        "                best_model_wts = copy.deepcopy(self.model.state_dict())\n",
        "\n",
        "            # Save both training  an validation metrics\n",
        "            train_metrics[\"train_losses\"].append(avg_train_loss)\n",
        "            train_metrics[\"train_acc\"].append(avg_train_acc)\n",
        "            train_metrics[\"train_precision\"].append(avg_train_precision)\n",
        "            train_metrics[\"train_recall\"].append(avg_train_recall)\n",
        "            train_metrics[\"train_f1\"].append(avg_train_f1)\n",
        "\n",
        "            val_metrics[\"val_losses\"].append(avg_valid_loss)\n",
        "            val_metrics[\"val_acc\"].append(avg_valid_acc)\n",
        "            val_metrics[\"val_precision\"].append(avg_valid_precision)\n",
        "            val_metrics[\"val_recall\"].append(avg_valid_recall)\n",
        "            val_metrics[\"val_f1\"].append(avg_valid_f1)\n",
        "\n",
        "            if self.log_level > 2:\n",
        "              # Print a table with the metrics of this epoch\n",
        "              table = [[avg_train_loss,avg_valid_loss],[avg_train_acc,avg_valid_acc],[avg_train_precision,avg_valid_precision],[avg_train_recall,avg_valid_recall],[avg_train_f1,avg_valid_f1]]\n",
        "              table = [[round(val, 3) if isinstance(val, float) else val for val in sublist] for sublist in table]\n",
        "              headers = ['  TRAIN   ', 'VALIDATION']\n",
        "              rows = [\"Loss\", \"Accuracy\", \"Precision\", \"Recall\", \"F1\"]\n",
        "              print(tabulate(table, headers,showindex = rows, tablefmt='pretty'))\n",
        "\n",
        "            if self.log_level > 0:\n",
        "                # Print the loss and accuracy of each epoch\n",
        "                print('\\n\\t[Epoch: {:2d}] train loss = {:0.4f} \\t train accuracy = {:0.4f}'.format(epoch, avg_train_loss,avg_train_acc))\n",
        "                print('\\t[Epoch: {:2d}] valid loss = {:0.4f} \\t valid accuracy = {:0.4f}\\n'.format(epoch, avg_valid_loss, avg_valid_acc))\n",
        "\n",
        "        if self.log_level > 0:\n",
        "            # Anounce the end of the training\n",
        "            print('... Done!')\n",
        "        if best_val_acc:\n",
        "            # Keep the best validation accuracy weights\n",
        "            self.model.load_state_dict(best_model_wts)\n",
        "            if self.log_level > 0:\n",
        "              print(f\"Keeping best accuracy validation weights (epoch {best_acc_epoch})\")\n",
        "\n",
        "\n",
        "        return (train_metrics,val_metrics)\n",
        "\n",
        "\n",
        "    def _compute_acc(self, logits: torch.Tensor, labels: torch.Tensor) -> float:\n",
        "        # Compute the predictions\n",
        "        predictions = torch.argmax(logits, dim=1)\n",
        "\n",
        "        # Compare the predicted labels with the correct labels, tranform them to float,\n",
        "        # obtain the mean and transform the tensor to a python list\n",
        "        return torch.mean((predictions == labels).float()).tolist()\n",
        "\n",
        "    def _compute_precision(self, logits: torch.Tensor, labels: torch.Tensor) -> float:\n",
        "        # Compute the predictions\n",
        "        predictions = torch.argmax(logits, dim=1)\n",
        "        # Tranform the predicted labels and the correct labels tensors to python\n",
        "        # lists and compute the precision score\n",
        "        return precision_score(predictions.tolist(),labels.tolist())\n",
        "\n",
        "    def _compute_recall(self, logits: torch.Tensor, labels: torch.Tensor) -> float:\n",
        "        # Compute the predictions\n",
        "        predictions = torch.argmax(logits, dim=1)\n",
        "        # Tranform the predicted labels and the correct labels tensors to python\n",
        "        # lists and compute the recall score\n",
        "        return recall_score(predictions.tolist(),labels.tolist())\n",
        "\n",
        "    def _compute_f1(self, logits: torch.Tensor, labels: torch.Tensor) -> float:\n",
        "        # Compute the predictions\n",
        "        predictions = torch.argmax(logits, dim=1)\n",
        "        # Tranform the predicted labels and the correct labels tensors to python\n",
        "        # lists and compute the f1 score\n",
        "        return f1_score(predictions.tolist(),labels.tolist())\n",
        "\n",
        "    def evaluate(self, valid_dataloader: DataLoader) -> tuple[float, float]:\n",
        "        \"\"\"\n",
        "        Args:\n",
        "            valid_dataloader: the DataLoader to use to evaluate the model.\n",
        "\n",
        "        Returns:\n",
        "            avg_valid_loss: the average validation loss over valid_dataloader.\n",
        "        \"\"\"\n",
        "        # Set the metrics initial values\n",
        "        valid_loss = 0.0\n",
        "        valid_acc = 0.0\n",
        "        valid_precision = 0.0\n",
        "        valid_recall = 0.0\n",
        "        valid_f1 = 0.0\n",
        "\n",
        "        # Set the model in evaluation mode (avoid training the model)\n",
        "        self.model.eval()\n",
        "        with torch.no_grad():\n",
        "            for batch in valid_dataloader:\n",
        "                # Obtain the elements of the batch\n",
        "                sequence_lengths, inputs, labels = batch\n",
        "\n",
        "                # Calculate the logits\n",
        "                logits = self.model((sequence_lengths, inputs))\n",
        "\n",
        "                # Calculate and sum each metric\n",
        "                # Loss\n",
        "                sample_loss = self.loss_function(logits, labels)\n",
        "                valid_loss += sample_loss.tolist()\n",
        "\n",
        "                # Accuracy\n",
        "                sample_acc = self._compute_acc(logits, labels)\n",
        "                valid_acc += sample_acc\n",
        "\n",
        "                # Precision\n",
        "                sample_precision = self._compute_precision(logits,labels)#1#precision_score(logits.detach().numpy(), labels)\n",
        "                valid_precision += sample_precision\n",
        "\n",
        "                # Recall\n",
        "                sample_recall = self._compute_recall(logits,labels)#1#recall_score(logits, labels)\n",
        "                valid_recall += sample_recall\n",
        "\n",
        "                # F1\n",
        "                sample_f1 = self._compute_f1(logits,labels)#1#f1_score(logits, labels)\n",
        "                valid_f1 += sample_f1\n",
        "\n",
        "        # Obtain the average value of each metric\n",
        "        avg_valid_loss = valid_loss/len(valid_dataloader)\n",
        "        avg_valid_acc = valid_acc/len(valid_dataloader)\n",
        "        avg_valid_precision = valid_precision/len(valid_dataloader)\n",
        "        avg_valid_recall = valid_recall/len(valid_dataloader)\n",
        "        avg_valid_f1 = valid_f1/len(valid_dataloader)\n",
        "\n",
        "        # Return the average value of each metric\n",
        "        return avg_valid_loss,avg_valid_acc,avg_valid_precision,avg_valid_recall,avg_valid_f1\n",
        "\n",
        "    def predict(self, batch: tuple[torch.Tensor, torch.Tensor]) -> tuple[torch.Tensor, torch.Tensor]:\n",
        "        \"\"\"\n",
        "        Args:\n",
        "            batch: a tuple of tensors\n",
        "        Returns:\n",
        "            A tuple composed of:\n",
        "            - the logits of each class, 0 and 1\n",
        "            - the prediction for each sample in the batch\n",
        "        \"\"\"\n",
        "        # Set the model in evaluation mode\n",
        "        self.model.eval()\n",
        "        with torch.no_grad():\n",
        "          # Compute the logits and their predictions of the batch\n",
        "            sequence_lengths, inputs = batch\n",
        "            logits = self.model(sequence_lengths, inputs)\n",
        "            predictions = torch.argmax(logits, -1)\n",
        "            return logits, predictions"
      ]
    },
    {
      "cell_type": "markdown",
      "metadata": {
        "id": "ol1JtiAMPUjI"
      },
      "source": [
        "# Training LSTM"
      ]
    },
    {
      "cell_type": "code",
      "execution_count": 45,
      "metadata": {
        "id": "AeX_eexgNe_c",
        "colab": {
          "base_uri": "https://localhost:8080/"
        },
        "outputId": "42c3b77f-e06f-44af-cefb-1471de915e0e"
      },
      "outputs": [
        {
          "output_type": "stream",
          "name": "stdout",
          "text": [
            "LSTM model (irony tagger) has been successfully created.\n"
          ]
        }
      ],
      "source": [
        "# Create the LSTM model using the defined hyperparameters\n",
        "irony_tagger = BiLSTMModel(LSTM_HP)\n",
        "\n",
        "# Print confirmation that the LSTM model has been created\n",
        "print(\"LSTM model (irony tagger) has been successfully created.\")"
      ]
    },
    {
      "cell_type": "code",
      "execution_count": 46,
      "metadata": {
        "id": "ncmTgJAmQDv4",
        "colab": {
          "base_uri": "https://localhost:8080/"
        },
        "outputId": "c25381f1-ce92-42d1-c402-9f166ea37439"
      },
      "outputs": [
        {
          "output_type": "stream",
          "name": "stdout",
          "text": [
            "Trainer for the LSTM model has been successfully created.\n"
          ]
        }
      ],
      "source": [
        "# Create the trainer for the LSTM model\n",
        "\n",
        "# Initialize the Trainer with the irony tagger model, an Adam optimizer, and a log level\n",
        "trainer = Trainer(\n",
        "    model=irony_tagger,\n",
        "    optimizer=torch.optim.Adam(irony_tagger.parameters(), lr=0.0001),\n",
        "    log_level=3\n",
        ")\n",
        "\n",
        "# Print confirmation that the Trainer has been created\n",
        "print(\"Trainer for the LSTM model has been successfully created.\")"
      ]
    },
    {
      "cell_type": "code",
      "execution_count": 47,
      "metadata": {
        "colab": {
          "base_uri": "https://localhost:8080/"
        },
        "id": "s8p8YPscQJd_",
        "outputId": "50d2772f-5cb0-455c-e187-fe754dac6b61"
      },
      "outputs": [
        {
          "output_type": "stream",
          "name": "stdout",
          "text": [
            "Training ...\n",
            "####################################################################################################\n",
            " Epoch  1\n"
          ]
        },
        {
          "output_type": "stream",
          "name": "stderr",
          "text": [
            "Train Loss: 0.7080\tTrain accuracy: 0.4444\tTrain precision: 0.7500\tTrain recall: 0.4286\tTrain F1: 0.5455: 100%|██████████| 32/32 [00:00<00:00, 45.33it/s]\n"
          ]
        },
        {
          "output_type": "stream",
          "name": "stdout",
          "text": [
            "+-----------+------------+------------+\n",
            "|           |   TRAIN    | VALIDATION |\n",
            "+-----------+------------+------------+\n",
            "|   Loss    |   0.693    |   0.691    |\n",
            "| Accuracy  |   0.511    |   0.512    |\n",
            "| Precision |   0.804    |   0.992    |\n",
            "|  Recall   |   0.512    |   0.505    |\n",
            "|    F1     |   0.624    |   0.669    |\n",
            "+-----------+------------+------------+\n",
            "\n",
            "\t[Epoch:  1] train loss = 0.6933 \t train accuracy = 0.5107\n",
            "\t[Epoch:  1] valid loss = 0.6913 \t valid accuracy = 0.5116\n",
            "\n",
            "####################################################################################################\n",
            " Epoch  2\n"
          ]
        },
        {
          "output_type": "stream",
          "name": "stderr",
          "text": [
            "Train Loss: 0.6821\tTrain accuracy: 0.6667\tTrain precision: 0.7500\tTrain recall: 0.6000\tTrain F1: 0.6667: 100%|██████████| 32/32 [00:00<00:00, 46.06it/s]\n"
          ]
        },
        {
          "output_type": "stream",
          "name": "stdout",
          "text": [
            "+-----------+------------+------------+\n",
            "|           |   TRAIN    | VALIDATION |\n",
            "+-----------+------------+------------+\n",
            "|   Loss    |   0.691    |   0.691    |\n",
            "| Accuracy  |   0.535    |   0.505    |\n",
            "| Precision |    0.76    |   0.935    |\n",
            "|  Recall   |   0.529    |   0.502    |\n",
            "|    F1     |   0.623    |   0.653    |\n",
            "+-----------+------------+------------+\n",
            "\n",
            "\t[Epoch:  2] train loss = 0.6906 \t train accuracy = 0.5345\n",
            "\t[Epoch:  2] valid loss = 0.6905 \t valid accuracy = 0.5048\n",
            "\n",
            "####################################################################################################\n",
            " Epoch  3\n"
          ]
        },
        {
          "output_type": "stream",
          "name": "stderr",
          "text": [
            "Train Loss: 0.6728\tTrain accuracy: 0.6667\tTrain precision: 0.4000\tTrain recall: 1.0000\tTrain F1: 0.5714: 100%|██████████| 32/32 [00:00<00:00, 48.02it/s]\n"
          ]
        },
        {
          "output_type": "stream",
          "name": "stdout",
          "text": [
            "+-----------+------------+------------+\n",
            "|           |   TRAIN    | VALIDATION |\n",
            "+-----------+------------+------------+\n",
            "|   Loss    |   0.688    |   0.689    |\n",
            "| Accuracy  |   0.569    |   0.608    |\n",
            "| Precision |   0.671    |   0.808    |\n",
            "|  Recall   |   0.575    |   0.576    |\n",
            "|    F1     |   0.611    |   0.672    |\n",
            "+-----------+------------+------------+\n",
            "\n",
            "\t[Epoch:  3] train loss = 0.6875 \t train accuracy = 0.5692\n",
            "\t[Epoch:  3] valid loss = 0.6894 \t valid accuracy = 0.6079\n",
            "\n",
            "####################################################################################################\n",
            " Epoch  4\n"
          ]
        },
        {
          "output_type": "stream",
          "name": "stderr",
          "text": [
            "Train Loss: 0.6812\tTrain accuracy: 0.7778\tTrain precision: 1.0000\tTrain recall: 0.7778\tTrain F1: 0.8750: 100%|██████████| 32/32 [00:00<00:00, 45.34it/s]\n"
          ]
        },
        {
          "output_type": "stream",
          "name": "stdout",
          "text": [
            "+-----------+------------+------------+\n",
            "|           |   TRAIN    | VALIDATION |\n",
            "+-----------+------------+------------+\n",
            "|   Loss    |   0.686    |   0.688    |\n",
            "| Accuracy  |   0.581    |   0.603    |\n",
            "| Precision |   0.686    |   0.791    |\n",
            "|  Recall   |   0.576    |   0.574    |\n",
            "|    F1     |   0.625    |   0.665    |\n",
            "+-----------+------------+------------+\n",
            "\n",
            "\t[Epoch:  4] train loss = 0.6859 \t train accuracy = 0.5809\n",
            "\t[Epoch:  4] valid loss = 0.6880 \t valid accuracy = 0.6031\n",
            "\n",
            "####################################################################################################\n",
            " Epoch  5\n"
          ]
        },
        {
          "output_type": "stream",
          "name": "stderr",
          "text": [
            "Train Loss: 0.6663\tTrain accuracy: 0.5556\tTrain precision: 0.6667\tTrain recall: 0.6667\tTrain F1: 0.6667: 100%|██████████| 32/32 [00:00<00:00, 46.23it/s]\n"
          ]
        },
        {
          "output_type": "stream",
          "name": "stdout",
          "text": [
            "+-----------+------------+------------+\n",
            "|           |   TRAIN    | VALIDATION |\n",
            "+-----------+------------+------------+\n",
            "|   Loss    |   0.681    |   0.686    |\n",
            "| Accuracy  |   0.612    |   0.601    |\n",
            "| Precision |   0.738    |   0.795    |\n",
            "|  Recall   |   0.599    |   0.572    |\n",
            "|    F1     |   0.659    |   0.665    |\n",
            "+-----------+------------+------------+\n",
            "\n",
            "\t[Epoch:  5] train loss = 0.6806 \t train accuracy = 0.6116\n",
            "\t[Epoch:  5] valid loss = 0.6857 \t valid accuracy = 0.6011\n",
            "\n",
            "####################################################################################################\n",
            " Epoch  6\n"
          ]
        },
        {
          "output_type": "stream",
          "name": "stderr",
          "text": [
            "Train Loss: 0.6745\tTrain accuracy: 0.6667\tTrain precision: 0.7500\tTrain recall: 0.6000\tTrain F1: 0.6667: 100%|██████████| 32/32 [00:00<00:00, 47.16it/s]\n"
          ]
        },
        {
          "output_type": "stream",
          "name": "stdout",
          "text": [
            "+-----------+------------+------------+\n",
            "|           |   TRAIN    | VALIDATION |\n",
            "+-----------+------------+------------+\n",
            "|   Loss    |   0.673    |   0.681    |\n",
            "| Accuracy  |   0.637    |   0.628    |\n",
            "| Precision |   0.739    |   0.736    |\n",
            "|  Recall   |   0.619    |   0.604    |\n",
            "|    F1     |   0.673    |   0.663    |\n",
            "+-----------+------------+------------+\n",
            "\n",
            "\t[Epoch:  6] train loss = 0.6730 \t train accuracy = 0.6368\n",
            "\t[Epoch:  6] valid loss = 0.6807 \t valid accuracy = 0.6283\n",
            "\n",
            "####################################################################################################\n",
            " Epoch  7\n"
          ]
        },
        {
          "output_type": "stream",
          "name": "stderr",
          "text": [
            "Train Loss: 0.6403\tTrain accuracy: 0.6667\tTrain precision: 1.0000\tTrain recall: 0.5000\tTrain F1: 0.6667: 100%|██████████| 32/32 [00:00<00:00, 47.64it/s]\n"
          ]
        },
        {
          "output_type": "stream",
          "name": "stdout",
          "text": [
            "+-----------+------------+------------+\n",
            "|           |   TRAIN    | VALIDATION |\n",
            "+-----------+------------+------------+\n",
            "|   Loss    |   0.657    |   0.671    |\n",
            "| Accuracy  |   0.643    |   0.618    |\n",
            "| Precision |   0.692    |   0.734    |\n",
            "|  Recall   |   0.636    |   0.595    |\n",
            "|    F1     |   0.657    |   0.657    |\n",
            "+-----------+------------+------------+\n",
            "\n",
            "\t[Epoch:  7] train loss = 0.6566 \t train accuracy = 0.6431\n",
            "\t[Epoch:  7] valid loss = 0.6712 \t valid accuracy = 0.6178\n",
            "\n",
            "####################################################################################################\n",
            " Epoch  8\n"
          ]
        },
        {
          "output_type": "stream",
          "name": "stderr",
          "text": [
            "Train Loss: 0.6298\tTrain accuracy: 0.6667\tTrain precision: 0.6667\tTrain recall: 0.8000\tTrain F1: 0.7273: 100%|██████████| 32/32 [00:00<00:00, 44.28it/s]\n"
          ]
        },
        {
          "output_type": "stream",
          "name": "stdout",
          "text": [
            "+-----------+------------+------------+\n",
            "|           |   TRAIN    | VALIDATION |\n",
            "+-----------+------------+------------+\n",
            "|   Loss    |   0.634    |   0.657    |\n",
            "| Accuracy  |   0.664    |   0.588    |\n",
            "| Precision |    0.74    |   0.724    |\n",
            "|  Recall   |   0.653    |   0.569    |\n",
            "|    F1     |   0.691    |   0.637    |\n",
            "+-----------+------------+------------+\n",
            "\n",
            "\t[Epoch:  8] train loss = 0.6338 \t train accuracy = 0.6637\n",
            "\t[Epoch:  8] valid loss = 0.6570 \t valid accuracy = 0.5877\n",
            "\n",
            "####################################################################################################\n",
            " Epoch  9\n"
          ]
        },
        {
          "output_type": "stream",
          "name": "stderr",
          "text": [
            "Train Loss: 0.5964\tTrain accuracy: 0.6667\tTrain precision: 0.7500\tTrain recall: 0.6000\tTrain F1: 0.6667: 100%|██████████| 32/32 [00:00<00:00, 38.80it/s]\n"
          ]
        },
        {
          "output_type": "stream",
          "name": "stdout",
          "text": [
            "+-----------+------------+------------+\n",
            "|           |   TRAIN    | VALIDATION |\n",
            "+-----------+------------+------------+\n",
            "|   Loss    |   0.621    |   0.655    |\n",
            "| Accuracy  |   0.667    |   0.602    |\n",
            "| Precision |   0.764    |    0.67    |\n",
            "|  Recall   |   0.646    |    0.59    |\n",
            "|    F1     |   0.698    |   0.627    |\n",
            "+-----------+------------+------------+\n",
            "\n",
            "\t[Epoch:  9] train loss = 0.6206 \t train accuracy = 0.6671\n",
            "\t[Epoch:  9] valid loss = 0.6554 \t valid accuracy = 0.6023\n",
            "\n",
            "####################################################################################################\n",
            " Epoch 10\n"
          ]
        },
        {
          "output_type": "stream",
          "name": "stderr",
          "text": [
            "Train Loss: 0.3726\tTrain accuracy: 0.8889\tTrain precision: 1.0000\tTrain recall: 0.5000\tTrain F1: 0.6667: 100%|██████████| 32/32 [00:00<00:00, 34.66it/s]\n"
          ]
        },
        {
          "output_type": "stream",
          "name": "stdout",
          "text": [
            "+-----------+------------+------------+\n",
            "|           |   TRAIN    | VALIDATION |\n",
            "+-----------+------------+------------+\n",
            "|   Loss    |   0.605    |   0.659    |\n",
            "| Accuracy  |   0.687    |   0.613    |\n",
            "| Precision |   0.775    |   0.611    |\n",
            "|  Recall   |   0.656    |   0.612    |\n",
            "|    F1     |   0.708    |   0.611    |\n",
            "+-----------+------------+------------+\n",
            "\n",
            "\t[Epoch: 10] train loss = 0.6052 \t train accuracy = 0.6874\n",
            "\t[Epoch: 10] valid loss = 0.6589 \t valid accuracy = 0.6128\n",
            "\n",
            "####################################################################################################\n",
            " Epoch 11\n"
          ]
        },
        {
          "output_type": "stream",
          "name": "stderr",
          "text": [
            "Train Loss: 0.5134\tTrain accuracy: 0.8889\tTrain precision: 1.0000\tTrain recall: 0.8571\tTrain F1: 0.9231: 100%|██████████| 32/32 [00:00<00:00, 34.01it/s]\n"
          ]
        },
        {
          "output_type": "stream",
          "name": "stdout",
          "text": [
            "+-----------+------------+------------+\n",
            "|           |   TRAIN    | VALIDATION |\n",
            "+-----------+------------+------------+\n",
            "|   Loss    |   0.606    |   0.662    |\n",
            "| Accuracy  |   0.679    |   0.611    |\n",
            "| Precision |   0.745    |   0.619    |\n",
            "|  Recall   |   0.666    |   0.606    |\n",
            "|    F1     |    0.7     |   0.612    |\n",
            "+-----------+------------+------------+\n",
            "\n",
            "\t[Epoch: 11] train loss = 0.6059 \t train accuracy = 0.6791\n",
            "\t[Epoch: 11] valid loss = 0.6615 \t valid accuracy = 0.6109\n",
            "\n",
            "####################################################################################################\n",
            " Epoch 12\n"
          ]
        },
        {
          "output_type": "stream",
          "name": "stderr",
          "text": [
            "Train Loss: 0.4905\tTrain accuracy: 0.7778\tTrain precision: 1.0000\tTrain recall: 0.7143\tTrain F1: 0.8333: 100%|██████████| 32/32 [00:00<00:00, 33.27it/s]\n"
          ]
        },
        {
          "output_type": "stream",
          "name": "stdout",
          "text": [
            "+-----------+------------+------------+\n",
            "|           |   TRAIN    | VALIDATION |\n",
            "+-----------+------------+------------+\n",
            "|   Loss    |   0.599    |   0.664    |\n",
            "| Accuracy  |    0.68    |   0.586    |\n",
            "| Precision |   0.768    |    0.77    |\n",
            "|  Recall   |    0.66    |   0.562    |\n",
            "|    F1     |   0.708    |    0.65    |\n",
            "+-----------+------------+------------+\n",
            "\n",
            "\t[Epoch: 12] train loss = 0.5993 \t train accuracy = 0.6798\n",
            "\t[Epoch: 12] valid loss = 0.6645 \t valid accuracy = 0.5856\n",
            "\n",
            "####################################################################################################\n",
            " Epoch 13\n"
          ]
        },
        {
          "output_type": "stream",
          "name": "stderr",
          "text": [
            "Train Loss: 0.3840\tTrain accuracy: 0.8889\tTrain precision: 1.0000\tTrain recall: 0.7500\tTrain F1: 0.8571: 100%|██████████| 32/32 [00:00<00:00, 41.88it/s]\n"
          ]
        },
        {
          "output_type": "stream",
          "name": "stdout",
          "text": [
            "+-----------+------------+------------+\n",
            "|           |   TRAIN    | VALIDATION |\n",
            "+-----------+------------+------------+\n",
            "|   Loss    |   0.593    |   0.665    |\n",
            "| Accuracy  |    0.68    |   0.632    |\n",
            "| Precision |   0.754    |   0.588    |\n",
            "|  Recall   |   0.661    |   0.641    |\n",
            "|    F1     |   0.703    |   0.613    |\n",
            "+-----------+------------+------------+\n",
            "\n",
            "\t[Epoch: 13] train loss = 0.5930 \t train accuracy = 0.6799\n",
            "\t[Epoch: 13] valid loss = 0.6653 \t valid accuracy = 0.6321\n",
            "\n",
            "####################################################################################################\n",
            " Epoch 14\n"
          ]
        },
        {
          "output_type": "stream",
          "name": "stderr",
          "text": [
            "Train Loss: 0.6146\tTrain accuracy: 0.6667\tTrain precision: 0.6000\tTrain recall: 0.7500\tTrain F1: 0.6667: 100%|██████████| 32/32 [00:00<00:00, 45.25it/s]\n"
          ]
        },
        {
          "output_type": "stream",
          "name": "stdout",
          "text": [
            "+-----------+------------+------------+\n",
            "|           |   TRAIN    | VALIDATION |\n",
            "+-----------+------------+------------+\n",
            "|   Loss    |   0.589    |   0.672    |\n",
            "| Accuracy  |   0.686    |   0.613    |\n",
            "| Precision |   0.735    |   0.538    |\n",
            "|  Recall   |    0.68    |   0.629    |\n",
            "|    F1     |   0.703    |   0.579    |\n",
            "+-----------+------------+------------+\n",
            "\n",
            "\t[Epoch: 14] train loss = 0.5890 \t train accuracy = 0.6856\n",
            "\t[Epoch: 14] valid loss = 0.6716 \t valid accuracy = 0.6127\n",
            "\n",
            "####################################################################################################\n",
            " Epoch 15\n"
          ]
        },
        {
          "output_type": "stream",
          "name": "stderr",
          "text": [
            "Train Loss: 0.5847\tTrain accuracy: 0.5556\tTrain precision: 0.5000\tTrain recall: 0.7500\tTrain F1: 0.6000: 100%|██████████| 32/32 [00:00<00:00, 48.32it/s]\n"
          ]
        },
        {
          "output_type": "stream",
          "name": "stdout",
          "text": [
            "+-----------+------------+------------+\n",
            "|           |   TRAIN    | VALIDATION |\n",
            "+-----------+------------+------------+\n",
            "|   Loss    |   0.588    |   0.671    |\n",
            "| Accuracy  |   0.684    |   0.608    |\n",
            "| Precision |   0.721    |   0.583    |\n",
            "|  Recall   |   0.684    |   0.611    |\n",
            "|    F1     |   0.698    |   0.596    |\n",
            "+-----------+------------+------------+\n",
            "\n",
            "\t[Epoch: 15] train loss = 0.5884 \t train accuracy = 0.6841\n",
            "\t[Epoch: 15] valid loss = 0.6710 \t valid accuracy = 0.6079\n",
            "\n",
            "####################################################################################################\n",
            " Epoch 16\n"
          ]
        },
        {
          "output_type": "stream",
          "name": "stderr",
          "text": [
            "Train Loss: 0.5262\tTrain accuracy: 0.8889\tTrain precision: 1.0000\tTrain recall: 0.8333\tTrain F1: 0.9091: 100%|██████████| 32/32 [00:00<00:00, 46.20it/s]\n"
          ]
        },
        {
          "output_type": "stream",
          "name": "stdout",
          "text": [
            "+-----------+------------+------------+\n",
            "|           |   TRAIN    | VALIDATION |\n",
            "+-----------+------------+------------+\n",
            "|   Loss    |   0.583    |    0.67    |\n",
            "| Accuracy  |   0.694    |   0.613    |\n",
            "| Precision |   0.753    |   0.576    |\n",
            "|  Recall   |   0.681    |   0.618    |\n",
            "|    F1     |   0.712    |   0.596    |\n",
            "+-----------+------------+------------+\n",
            "\n",
            "\t[Epoch: 16] train loss = 0.5826 \t train accuracy = 0.6938\n",
            "\t[Epoch: 16] valid loss = 0.6703 \t valid accuracy = 0.6127\n",
            "\n",
            "####################################################################################################\n",
            " Epoch 17\n"
          ]
        },
        {
          "output_type": "stream",
          "name": "stderr",
          "text": [
            "Train Loss: 0.5035\tTrain accuracy: 0.6667\tTrain precision: 0.6667\tTrain recall: 0.5000\tTrain F1: 0.5714: 100%|██████████| 32/32 [00:00<00:00, 45.97it/s]\n"
          ]
        },
        {
          "output_type": "stream",
          "name": "stdout",
          "text": [
            "+-----------+------------+------------+\n",
            "|           |   TRAIN    | VALIDATION |\n",
            "+-----------+------------+------------+\n",
            "|   Loss    |   0.579    |   0.676    |\n",
            "| Accuracy  |   0.679    |   0.604    |\n",
            "| Precision |   0.712    |    0.47    |\n",
            "|  Recall   |   0.672    |   0.638    |\n",
            "|    F1     |   0.689    |   0.541    |\n",
            "+-----------+------------+------------+\n",
            "\n",
            "\t[Epoch: 17] train loss = 0.5789 \t train accuracy = 0.6793\n",
            "\t[Epoch: 17] valid loss = 0.6763 \t valid accuracy = 0.6040\n",
            "\n",
            "####################################################################################################\n",
            " Epoch 18\n"
          ]
        },
        {
          "output_type": "stream",
          "name": "stderr",
          "text": [
            "Train Loss: 0.4442\tTrain accuracy: 0.8889\tTrain precision: 0.7500\tTrain recall: 1.0000\tTrain F1: 0.8571: 100%|██████████| 32/32 [00:00<00:00, 46.90it/s]\n"
          ]
        },
        {
          "output_type": "stream",
          "name": "stdout",
          "text": [
            "+-----------+------------+------------+\n",
            "|           |   TRAIN    | VALIDATION |\n",
            "+-----------+------------+------------+\n",
            "|   Loss    |   0.577    |   0.672    |\n",
            "| Accuracy  |   0.691    |   0.615    |\n",
            "| Precision |    0.72    |   0.568    |\n",
            "|  Recall   |   0.691    |   0.623    |\n",
            "|    F1     |   0.702    |   0.593    |\n",
            "+-----------+------------+------------+\n",
            "\n",
            "\t[Epoch: 18] train loss = 0.5766 \t train accuracy = 0.6906\n",
            "\t[Epoch: 18] valid loss = 0.6716 \t valid accuracy = 0.6146\n",
            "\n",
            "####################################################################################################\n",
            " Epoch 19\n"
          ]
        },
        {
          "output_type": "stream",
          "name": "stderr",
          "text": [
            "Train Loss: 0.6691\tTrain accuracy: 0.6667\tTrain precision: 0.5000\tTrain recall: 0.6667\tTrain F1: 0.5714: 100%|██████████| 32/32 [00:00<00:00, 49.19it/s]\n"
          ]
        },
        {
          "output_type": "stream",
          "name": "stdout",
          "text": [
            "+-----------+------------+------------+\n",
            "|           |   TRAIN    | VALIDATION |\n",
            "+-----------+------------+------------+\n",
            "|   Loss    |    0.58    |   0.679    |\n",
            "| Accuracy  |   0.683    |   0.596    |\n",
            "| Precision |   0.718    |   0.446    |\n",
            "|  Recall   |   0.675    |   0.633    |\n",
            "|    F1     |   0.693    |   0.523    |\n",
            "+-----------+------------+------------+\n",
            "\n",
            "\t[Epoch: 19] train loss = 0.5798 \t train accuracy = 0.6827\n",
            "\t[Epoch: 19] valid loss = 0.6786 \t valid accuracy = 0.5962\n",
            "\n",
            "####################################################################################################\n",
            " Epoch 20\n"
          ]
        },
        {
          "output_type": "stream",
          "name": "stderr",
          "text": [
            "Train Loss: 0.7209\tTrain accuracy: 0.4444\tTrain precision: 0.3333\tTrain recall: 0.2500\tTrain F1: 0.2857: 100%|██████████| 32/32 [00:00<00:00, 44.97it/s]\n"
          ]
        },
        {
          "output_type": "stream",
          "name": "stdout",
          "text": [
            "+-----------+------------+------------+\n",
            "|           |   TRAIN    | VALIDATION |\n",
            "+-----------+------------+------------+\n",
            "|   Loss    |   0.577    |   0.682    |\n",
            "| Accuracy  |   0.683    |   0.598    |\n",
            "| Precision |   0.708    |   0.414    |\n",
            "|  Recall   |   0.673    |   0.651    |\n",
            "|    F1     |   0.688    |   0.506    |\n",
            "+-----------+------------+------------+\n",
            "\n",
            "\t[Epoch: 20] train loss = 0.5773 \t train accuracy = 0.6831\n",
            "\t[Epoch: 20] valid loss = 0.6818 \t valid accuracy = 0.5981\n",
            "\n",
            "####################################################################################################\n",
            " Epoch 21\n"
          ]
        },
        {
          "output_type": "stream",
          "name": "stderr",
          "text": [
            "Train Loss: 0.7585\tTrain accuracy: 0.4444\tTrain precision: 0.0000\tTrain recall: 0.0000\tTrain F1: 0.0000: 100%|██████████| 32/32 [00:00<00:00, 45.56it/s]\n"
          ]
        },
        {
          "output_type": "stream",
          "name": "stdout",
          "text": [
            "+-----------+------------+------------+\n",
            "|           |   TRAIN    | VALIDATION |\n",
            "+-----------+------------+------------+\n",
            "|   Loss    |   0.581    |   0.682    |\n",
            "| Accuracy  |   0.682    |   0.588    |\n",
            "| Precision |   0.686    |   0.391    |\n",
            "|  Recall   |   0.671    |   0.642    |\n",
            "|    F1     |   0.675    |   0.485    |\n",
            "+-----------+------------+------------+\n",
            "\n",
            "\t[Epoch: 21] train loss = 0.5808 \t train accuracy = 0.6823\n",
            "\t[Epoch: 21] valid loss = 0.6820 \t valid accuracy = 0.5883\n",
            "\n",
            "####################################################################################################\n",
            " Epoch 22\n"
          ]
        },
        {
          "output_type": "stream",
          "name": "stderr",
          "text": [
            "Train Loss: 0.8231\tTrain accuracy: 0.6667\tTrain precision: 0.6667\tTrain recall: 0.8000\tTrain F1: 0.7273: 100%|██████████| 32/32 [00:00<00:00, 45.88it/s]\n"
          ]
        },
        {
          "output_type": "stream",
          "name": "stdout",
          "text": [
            "+-----------+------------+------------+\n",
            "|           |   TRAIN    | VALIDATION |\n",
            "+-----------+------------+------------+\n",
            "|   Loss    |   0.578    |   0.679    |\n",
            "| Accuracy  |   0.683    |   0.598    |\n",
            "| Precision |    0.7     |   0.476    |\n",
            "|  Recall   |   0.689    |   0.627    |\n",
            "|    F1     |   0.692    |   0.541    |\n",
            "+-----------+------------+------------+\n",
            "\n",
            "\t[Epoch: 22] train loss = 0.5782 \t train accuracy = 0.6829\n",
            "\t[Epoch: 22] valid loss = 0.6793 \t valid accuracy = 0.5981\n",
            "\n",
            "####################################################################################################\n",
            " Epoch 23\n"
          ]
        },
        {
          "output_type": "stream",
          "name": "stderr",
          "text": [
            "Train Loss: 0.6260\tTrain accuracy: 0.7778\tTrain precision: 1.0000\tTrain recall: 0.3333\tTrain F1: 0.5000: 100%|██████████| 32/32 [00:00<00:00, 48.67it/s]\n"
          ]
        },
        {
          "output_type": "stream",
          "name": "stdout",
          "text": [
            "+-----------+------------+------------+\n",
            "|           |   TRAIN    | VALIDATION |\n",
            "+-----------+------------+------------+\n",
            "|   Loss    |   0.569    |   0.685    |\n",
            "| Accuracy  |   0.697    |   0.581    |\n",
            "| Precision |   0.742    |   0.394    |\n",
            "|  Recall   |   0.678    |   0.624    |\n",
            "|    F1     |   0.702    |   0.483    |\n",
            "+-----------+------------+------------+\n",
            "\n",
            "\t[Epoch: 23] train loss = 0.5691 \t train accuracy = 0.6967\n",
            "\t[Epoch: 23] valid loss = 0.6847 \t valid accuracy = 0.5805\n",
            "\n",
            "####################################################################################################\n",
            " Epoch 24\n"
          ]
        },
        {
          "output_type": "stream",
          "name": "stderr",
          "text": [
            "Train Loss: 0.7148\tTrain accuracy: 0.5556\tTrain precision: 0.8000\tTrain recall: 0.5714\tTrain F1: 0.6667: 100%|██████████| 32/32 [00:00<00:00, 45.24it/s]\n"
          ]
        },
        {
          "output_type": "stream",
          "name": "stdout",
          "text": [
            "+-----------+------------+------------+\n",
            "|           |   TRAIN    | VALIDATION |\n",
            "+-----------+------------+------------+\n",
            "|   Loss    |   0.573    |   0.676    |\n",
            "| Accuracy  |   0.688    |   0.604    |\n",
            "| Precision |   0.695    |   0.571    |\n",
            "|  Recall   |   0.695    |   0.609    |\n",
            "|    F1     |   0.691    |   0.589    |\n",
            "+-----------+------------+------------+\n",
            "\n",
            "\t[Epoch: 24] train loss = 0.5734 \t train accuracy = 0.6880\n",
            "\t[Epoch: 24] valid loss = 0.6761 \t valid accuracy = 0.6040\n",
            "\n",
            "####################################################################################################\n",
            " Epoch 25\n"
          ]
        },
        {
          "output_type": "stream",
          "name": "stderr",
          "text": [
            "Train Loss: 0.5418\tTrain accuracy: 0.7778\tTrain precision: 1.0000\tTrain recall: 0.5000\tTrain F1: 0.6667: 100%|██████████| 32/32 [00:00<00:00, 43.24it/s]\n"
          ]
        },
        {
          "output_type": "stream",
          "name": "stdout",
          "text": [
            "+-----------+------------+------------+\n",
            "|           |   TRAIN    | VALIDATION |\n",
            "+-----------+------------+------------+\n",
            "|   Loss    |   0.567    |   0.675    |\n",
            "| Accuracy  |   0.684    |   0.604    |\n",
            "| Precision |    0.71    |    0.54    |\n",
            "|  Recall   |   0.679    |   0.619    |\n",
            "|    F1     |   0.688    |   0.576    |\n",
            "+-----------+------------+------------+\n",
            "\n",
            "\t[Epoch: 25] train loss = 0.5666 \t train accuracy = 0.6845\n",
            "\t[Epoch: 25] valid loss = 0.6753 \t valid accuracy = 0.6041\n",
            "\n",
            "####################################################################################################\n",
            " Epoch 26\n"
          ]
        },
        {
          "output_type": "stream",
          "name": "stderr",
          "text": [
            "Train Loss: 0.7556\tTrain accuracy: 0.5556\tTrain precision: 0.5000\tTrain recall: 1.0000\tTrain F1: 0.6667: 100%|██████████| 32/32 [00:00<00:00, 39.13it/s]\n"
          ]
        },
        {
          "output_type": "stream",
          "name": "stdout",
          "text": [
            "+-----------+------------+------------+\n",
            "|           |   TRAIN    | VALIDATION |\n",
            "+-----------+------------+------------+\n",
            "|   Loss    |   0.574    |   0.675    |\n",
            "| Accuracy  |   0.685    |    0.6     |\n",
            "| Precision |   0.681    |   0.579    |\n",
            "|  Recall   |   0.712    |   0.603    |\n",
            "|    F1     |    0.69    |    0.59    |\n",
            "+-----------+------------+------------+\n",
            "\n",
            "\t[Epoch: 26] train loss = 0.5737 \t train accuracy = 0.6848\n",
            "\t[Epoch: 26] valid loss = 0.6752 \t valid accuracy = 0.6001\n",
            "\n",
            "####################################################################################################\n",
            " Epoch 27\n"
          ]
        },
        {
          "output_type": "stream",
          "name": "stderr",
          "text": [
            "Train Loss: 0.3462\tTrain accuracy: 1.0000\tTrain precision: 1.0000\tTrain recall: 1.0000\tTrain F1: 1.0000: 100%|██████████| 32/32 [00:00<00:00, 33.96it/s]\n"
          ]
        },
        {
          "output_type": "stream",
          "name": "stdout",
          "text": [
            "+-----------+------------+------------+\n",
            "|           |   TRAIN    | VALIDATION |\n",
            "+-----------+------------+------------+\n",
            "|   Loss    |   0.557    |   0.676    |\n",
            "| Accuracy  |   0.704    |   0.612    |\n",
            "| Precision |   0.762    |   0.479    |\n",
            "|  Recall   |   0.691    |   0.651    |\n",
            "|    F1     |   0.722    |   0.551    |\n",
            "+-----------+------------+------------+\n",
            "\n",
            "\t[Epoch: 27] train loss = 0.5574 \t train accuracy = 0.7043\n",
            "\t[Epoch: 27] valid loss = 0.6764 \t valid accuracy = 0.6118\n",
            "\n",
            "####################################################################################################\n",
            " Epoch 28\n"
          ]
        },
        {
          "output_type": "stream",
          "name": "stderr",
          "text": [
            "Train Loss: 0.4825\tTrain accuracy: 0.6667\tTrain precision: 0.5000\tTrain recall: 1.0000\tTrain F1: 0.6667: 100%|██████████| 32/32 [00:00<00:00, 33.41it/s]\n"
          ]
        },
        {
          "output_type": "stream",
          "name": "stdout",
          "text": [
            "+-----------+------------+------------+\n",
            "|           |   TRAIN    | VALIDATION |\n",
            "+-----------+------------+------------+\n",
            "|   Loss    |   0.558    |    0.68    |\n",
            "| Accuracy  |   0.704    |   0.603    |\n",
            "| Precision |   0.732    |   0.576    |\n",
            "|  Recall   |   0.711    |   0.606    |\n",
            "|    F1     |   0.716    |    0.59    |\n",
            "+-----------+------------+------------+\n",
            "\n",
            "\t[Epoch: 28] train loss = 0.5579 \t train accuracy = 0.7042\n",
            "\t[Epoch: 28] valid loss = 0.6801 \t valid accuracy = 0.6029\n",
            "\n",
            "####################################################################################################\n",
            " Epoch 29\n"
          ]
        },
        {
          "output_type": "stream",
          "name": "stderr",
          "text": [
            "Train Loss: 0.3602\tTrain accuracy: 0.8889\tTrain precision: 0.8000\tTrain recall: 1.0000\tTrain F1: 0.8889: 100%|██████████| 32/32 [00:00<00:00, 35.09it/s]\n"
          ]
        },
        {
          "output_type": "stream",
          "name": "stdout",
          "text": [
            "+-----------+------------+------------+\n",
            "|           |   TRAIN    | VALIDATION |\n",
            "+-----------+------------+------------+\n",
            "|   Loss    |    0.55    |    0.68    |\n",
            "| Accuracy  |   0.704    |   0.591    |\n",
            "| Precision |   0.723    |   0.629    |\n",
            "|  Recall   |   0.708    |   0.584    |\n",
            "|    F1     |   0.712    |   0.605    |\n",
            "+-----------+------------+------------+\n",
            "\n",
            "\t[Epoch: 29] train loss = 0.5501 \t train accuracy = 0.7043\n",
            "\t[Epoch: 29] valid loss = 0.6795 \t valid accuracy = 0.5913\n",
            "\n",
            "####################################################################################################\n",
            " Epoch 30\n"
          ]
        },
        {
          "output_type": "stream",
          "name": "stderr",
          "text": [
            "Train Loss: 0.3571\tTrain accuracy: 0.8889\tTrain precision: 1.0000\tTrain recall: 0.7500\tTrain F1: 0.8571: 100%|██████████| 32/32 [00:00<00:00, 36.42it/s]\n"
          ]
        },
        {
          "output_type": "stream",
          "name": "stdout",
          "text": [
            "+-----------+------------+------------+\n",
            "|           |   TRAIN    | VALIDATION |\n",
            "+-----------+------------+------------+\n",
            "|   Loss    |   0.553    |    0.68    |\n",
            "| Accuracy  |    0.71    |   0.594    |\n",
            "| Precision |   0.735    |   0.477    |\n",
            "|  Recall   |   0.704    |   0.621    |\n",
            "|    F1     |   0.717    |   0.538    |\n",
            "+-----------+------------+------------+\n",
            "\n",
            "\t[Epoch: 30] train loss = 0.5532 \t train accuracy = 0.7104\n",
            "\t[Epoch: 30] valid loss = 0.6801 \t valid accuracy = 0.5942\n",
            "\n",
            "####################################################################################################\n",
            " Epoch 31\n"
          ]
        },
        {
          "output_type": "stream",
          "name": "stderr",
          "text": [
            "Train Loss: 0.4501\tTrain accuracy: 0.7778\tTrain precision: 0.6000\tTrain recall: 1.0000\tTrain F1: 0.7500: 100%|██████████| 32/32 [00:00<00:00, 46.98it/s]\n"
          ]
        },
        {
          "output_type": "stream",
          "name": "stdout",
          "text": [
            "+-----------+------------+------------+\n",
            "|           |   TRAIN    | VALIDATION |\n",
            "+-----------+------------+------------+\n",
            "|   Loss    |   0.548    |   0.685    |\n",
            "| Accuracy  |   0.706    |   0.588    |\n",
            "| Precision |   0.718    |    0.44    |\n",
            "|  Recall   |   0.714    |   0.625    |\n",
            "|    F1     |   0.712    |   0.515    |\n",
            "+-----------+------------+------------+\n",
            "\n",
            "\t[Epoch: 31] train loss = 0.5477 \t train accuracy = 0.7059\n",
            "\t[Epoch: 31] valid loss = 0.6847 \t valid accuracy = 0.5883\n",
            "\n",
            "####################################################################################################\n",
            " Epoch 32\n"
          ]
        },
        {
          "output_type": "stream",
          "name": "stderr",
          "text": [
            "Train Loss: 0.5052\tTrain accuracy: 0.7778\tTrain precision: 1.0000\tTrain recall: 0.6000\tTrain F1: 0.7500: 100%|██████████| 32/32 [00:00<00:00, 46.59it/s]\n"
          ]
        },
        {
          "output_type": "stream",
          "name": "stdout",
          "text": [
            "+-----------+------------+------------+\n",
            "|           |   TRAIN    | VALIDATION |\n",
            "+-----------+------------+------------+\n",
            "|   Loss    |   0.556    |   0.681    |\n",
            "| Accuracy  |   0.698    |   0.586    |\n",
            "| Precision |   0.726    |   0.551    |\n",
            "|  Recall   |   0.697    |   0.592    |\n",
            "|    F1     |   0.707    |   0.569    |\n",
            "+-----------+------------+------------+\n",
            "\n",
            "\t[Epoch: 32] train loss = 0.5561 \t train accuracy = 0.6984\n",
            "\t[Epoch: 32] valid loss = 0.6807 \t valid accuracy = 0.5864\n",
            "\n",
            "####################################################################################################\n",
            " Epoch 33\n"
          ]
        },
        {
          "output_type": "stream",
          "name": "stderr",
          "text": [
            "Train Loss: 0.5835\tTrain accuracy: 0.6667\tTrain precision: 1.0000\tTrain recall: 0.5000\tTrain F1: 0.6667: 100%|██████████| 32/32 [00:00<00:00, 45.27it/s]\n"
          ]
        },
        {
          "output_type": "stream",
          "name": "stdout",
          "text": [
            "+-----------+------------+------------+\n",
            "|           |   TRAIN    | VALIDATION |\n",
            "+-----------+------------+------------+\n",
            "|   Loss    |   0.555    |    0.68    |\n",
            "| Accuracy  |   0.701    |   0.581    |\n",
            "| Precision |   0.721    |   0.637    |\n",
            "|  Recall   |    0.7     |   0.571    |\n",
            "|    F1     |   0.705    |   0.602    |\n",
            "+-----------+------------+------------+\n",
            "\n",
            "\t[Epoch: 33] train loss = 0.5545 \t train accuracy = 0.7008\n",
            "\t[Epoch: 33] valid loss = 0.6796 \t valid accuracy = 0.5807\n",
            "\n",
            "####################################################################################################\n",
            " Epoch 34\n"
          ]
        },
        {
          "output_type": "stream",
          "name": "stderr",
          "text": [
            "Train Loss: 0.6175\tTrain accuracy: 0.5556\tTrain precision: 0.7500\tTrain recall: 0.5000\tTrain F1: 0.6000: 100%|██████████| 32/32 [00:00<00:00, 45.32it/s]\n"
          ]
        },
        {
          "output_type": "stream",
          "name": "stdout",
          "text": [
            "+-----------+------------+------------+\n",
            "|           |   TRAIN    | VALIDATION |\n",
            "+-----------+------------+------------+\n",
            "|   Loss    |    0.55    |    0.69    |\n",
            "| Accuracy  |   0.708    |   0.583    |\n",
            "| Precision |   0.737    |   0.389    |\n",
            "|  Recall   |   0.707    |   0.633    |\n",
            "|    F1     |   0.718    |   0.481    |\n",
            "+-----------+------------+------------+\n",
            "\n",
            "\t[Epoch: 34] train loss = 0.5497 \t train accuracy = 0.7080\n",
            "\t[Epoch: 34] valid loss = 0.6904 \t valid accuracy = 0.5826\n",
            "\n",
            "####################################################################################################\n",
            " Epoch 35\n"
          ]
        },
        {
          "output_type": "stream",
          "name": "stderr",
          "text": [
            "Train Loss: 0.7324\tTrain accuracy: 0.4444\tTrain precision: 0.2000\tTrain recall: 0.5000\tTrain F1: 0.2857: 100%|██████████| 32/32 [00:00<00:00, 46.84it/s]\n"
          ]
        },
        {
          "output_type": "stream",
          "name": "stdout",
          "text": [
            "+-----------+------------+------------+\n",
            "|           |   TRAIN    | VALIDATION |\n",
            "+-----------+------------+------------+\n",
            "|   Loss    |   0.552    |   0.694    |\n",
            "| Accuracy  |   0.699    |   0.568    |\n",
            "| Precision |   0.684    |   0.731    |\n",
            "|  Recall   |   0.713    |    0.55    |\n",
            "|    F1     |   0.694    |   0.627    |\n",
            "+-----------+------------+------------+\n",
            "\n",
            "\t[Epoch: 35] train loss = 0.5524 \t train accuracy = 0.6992\n",
            "\t[Epoch: 35] valid loss = 0.6938 \t valid accuracy = 0.5681\n",
            "\n",
            "####################################################################################################\n",
            " Epoch 36\n"
          ]
        },
        {
          "output_type": "stream",
          "name": "stderr",
          "text": [
            "Train Loss: 0.5506\tTrain accuracy: 0.7778\tTrain precision: 0.8000\tTrain recall: 0.8000\tTrain F1: 0.8000: 100%|██████████| 32/32 [00:00<00:00, 46.98it/s]\n"
          ]
        },
        {
          "output_type": "stream",
          "name": "stdout",
          "text": [
            "+-----------+------------+------------+\n",
            "|           |   TRAIN    | VALIDATION |\n",
            "+-----------+------------+------------+\n",
            "|   Loss    |   0.557    |   0.681    |\n",
            "| Accuracy  |    0.7     |   0.586    |\n",
            "| Precision |   0.725    |   0.646    |\n",
            "|  Recall   |   0.701    |   0.575    |\n",
            "|    F1     |    0.71    |   0.608    |\n",
            "+-----------+------------+------------+\n",
            "\n",
            "\t[Epoch: 36] train loss = 0.5567 \t train accuracy = 0.6996\n",
            "\t[Epoch: 36] valid loss = 0.6811 \t valid accuracy = 0.5864\n",
            "\n",
            "####################################################################################################\n",
            " Epoch 37\n"
          ]
        },
        {
          "output_type": "stream",
          "name": "stderr",
          "text": [
            "Train Loss: 0.4113\tTrain accuracy: 0.8889\tTrain precision: 1.0000\tTrain recall: 0.7500\tTrain F1: 0.8571: 100%|██████████| 32/32 [00:00<00:00, 44.14it/s]\n"
          ]
        },
        {
          "output_type": "stream",
          "name": "stdout",
          "text": [
            "+-----------+------------+------------+\n",
            "|           |   TRAIN    | VALIDATION |\n",
            "+-----------+------------+------------+\n",
            "|   Loss    |   0.543    |   0.688    |\n",
            "| Accuracy  |   0.717    |    0.59    |\n",
            "| Precision |   0.741    |   0.461    |\n",
            "|  Recall   |   0.712    |   0.622    |\n",
            "|    F1     |   0.724    |   0.527    |\n",
            "+-----------+------------+------------+\n",
            "\n",
            "\t[Epoch: 37] train loss = 0.5434 \t train accuracy = 0.7172\n",
            "\t[Epoch: 37] valid loss = 0.6881 \t valid accuracy = 0.5903\n",
            "\n",
            "####################################################################################################\n",
            " Epoch 38\n"
          ]
        },
        {
          "output_type": "stream",
          "name": "stderr",
          "text": [
            "Train Loss: 0.5849\tTrain accuracy: 0.6667\tTrain precision: 0.6667\tTrain recall: 0.5000\tTrain F1: 0.5714: 100%|██████████| 32/32 [00:00<00:00, 46.19it/s]\n"
          ]
        },
        {
          "output_type": "stream",
          "name": "stdout",
          "text": [
            "+-----------+------------+------------+\n",
            "|           |   TRAIN    | VALIDATION |\n",
            "+-----------+------------+------------+\n",
            "|   Loss    |   0.546    |   0.695    |\n",
            "| Accuracy  |   0.714    |   0.592    |\n",
            "| Precision |   0.714    |   0.448    |\n",
            "|  Recall   |   0.715    |   0.633    |\n",
            "|    F1     |   0.713    |   0.522    |\n",
            "+-----------+------------+------------+\n",
            "\n",
            "\t[Epoch: 38] train loss = 0.5462 \t train accuracy = 0.7139\n",
            "\t[Epoch: 38] valid loss = 0.6947 \t valid accuracy = 0.5922\n",
            "\n",
            "####################################################################################################\n",
            " Epoch 39\n"
          ]
        },
        {
          "output_type": "stream",
          "name": "stderr",
          "text": [
            "Train Loss: 0.5951\tTrain accuracy: 0.6667\tTrain precision: 0.6667\tTrain recall: 0.8000\tTrain F1: 0.7273: 100%|██████████| 32/32 [00:00<00:00, 47.05it/s]\n"
          ]
        },
        {
          "output_type": "stream",
          "name": "stdout",
          "text": [
            "+-----------+------------+------------+\n",
            "|           |   TRAIN    | VALIDATION |\n",
            "+-----------+------------+------------+\n",
            "|   Loss    |   0.547    |   0.689    |\n",
            "| Accuracy  |   0.707    |   0.566    |\n",
            "| Precision |   0.699    |   0.608    |\n",
            "|  Recall   |   0.722    |    0.56    |\n",
            "|    F1     |   0.708    |   0.582    |\n",
            "+-----------+------------+------------+\n",
            "\n",
            "\t[Epoch: 39] train loss = 0.5474 \t train accuracy = 0.7071\n",
            "\t[Epoch: 39] valid loss = 0.6886 \t valid accuracy = 0.5661\n",
            "\n",
            "####################################################################################################\n",
            " Epoch 40\n"
          ]
        },
        {
          "output_type": "stream",
          "name": "stderr",
          "text": [
            "Train Loss: 0.6624\tTrain accuracy: 0.6667\tTrain precision: 1.0000\tTrain recall: 0.5714\tTrain F1: 0.7273: 100%|██████████| 32/32 [00:00<00:00, 47.11it/s]\n"
          ]
        },
        {
          "output_type": "stream",
          "name": "stdout",
          "text": [
            "+-----------+------------+------------+\n",
            "|           |   TRAIN    | VALIDATION |\n",
            "+-----------+------------+------------+\n",
            "|   Loss    |   0.555    |   0.684    |\n",
            "| Accuracy  |   0.702    |   0.585    |\n",
            "| Precision |   0.723    |   0.552    |\n",
            "|  Recall   |   0.703    |   0.592    |\n",
            "|    F1     |   0.709    |   0.568    |\n",
            "+-----------+------------+------------+\n",
            "\n",
            "\t[Epoch: 40] train loss = 0.5545 \t train accuracy = 0.7022\n",
            "\t[Epoch: 40] valid loss = 0.6840 \t valid accuracy = 0.5855\n",
            "\n",
            "####################################################################################################\n",
            " Epoch 41\n"
          ]
        },
        {
          "output_type": "stream",
          "name": "stderr",
          "text": [
            "Train Loss: 0.6528\tTrain accuracy: 0.4444\tTrain precision: 0.3333\tTrain recall: 0.6667\tTrain F1: 0.4444: 100%|██████████| 32/32 [00:00<00:00, 45.10it/s]\n"
          ]
        },
        {
          "output_type": "stream",
          "name": "stdout",
          "text": [
            "+-----------+------------+------------+\n",
            "|           |   TRAIN    | VALIDATION |\n",
            "+-----------+------------+------------+\n",
            "|   Loss    |   0.542    |    0.69    |\n",
            "| Accuracy  |    0.71    |   0.587    |\n",
            "| Precision |   0.722    |   0.498    |\n",
            "|  Recall   |   0.717    |    0.61    |\n",
            "|    F1     |   0.715    |   0.545    |\n",
            "+-----------+------------+------------+\n",
            "\n",
            "\t[Epoch: 41] train loss = 0.5417 \t train accuracy = 0.7099\n",
            "\t[Epoch: 41] valid loss = 0.6899 \t valid accuracy = 0.5874\n",
            "\n",
            "####################################################################################################\n",
            " Epoch 42\n"
          ]
        },
        {
          "output_type": "stream",
          "name": "stderr",
          "text": [
            "Train Loss: 0.3928\tTrain accuracy: 0.7778\tTrain precision: 1.0000\tTrain recall: 0.6667\tTrain F1: 0.8000: 100%|██████████| 32/32 [00:00<00:00, 45.79it/s]\n"
          ]
        },
        {
          "output_type": "stream",
          "name": "stdout",
          "text": [
            "+-----------+------------+------------+\n",
            "|           |   TRAIN    | VALIDATION |\n",
            "+-----------+------------+------------+\n",
            "|   Loss    |   0.543    |   0.692    |\n",
            "| Accuracy  |   0.712    |   0.564    |\n",
            "| Precision |   0.739    |    0.67    |\n",
            "|  Recall   |   0.711    |   0.552    |\n",
            "|    F1     |    0.72    |   0.604    |\n",
            "+-----------+------------+------------+\n",
            "\n",
            "\t[Epoch: 42] train loss = 0.5426 \t train accuracy = 0.7123\n",
            "\t[Epoch: 42] valid loss = 0.6919 \t valid accuracy = 0.5642\n",
            "\n",
            "####################################################################################################\n",
            " Epoch 43\n"
          ]
        },
        {
          "output_type": "stream",
          "name": "stderr",
          "text": [
            "Train Loss: 0.3380\tTrain accuracy: 0.7778\tTrain precision: 0.6667\tTrain recall: 1.0000\tTrain F1: 0.8000: 100%|██████████| 32/32 [00:00<00:00, 45.49it/s]\n"
          ]
        },
        {
          "output_type": "stream",
          "name": "stdout",
          "text": [
            "+-----------+------------+------------+\n",
            "|           |   TRAIN    | VALIDATION |\n",
            "+-----------+------------+------------+\n",
            "|   Loss    |   0.529    |   0.696    |\n",
            "| Accuracy  |   0.718    |   0.571    |\n",
            "| Precision |   0.732    |   0.568    |\n",
            "|  Recall   |   0.724    |    0.57    |\n",
            "|    F1     |   0.725    |   0.567    |\n",
            "+-----------+------------+------------+\n",
            "\n",
            "\t[Epoch: 43] train loss = 0.5288 \t train accuracy = 0.7184\n",
            "\t[Epoch: 43] valid loss = 0.6956 \t valid accuracy = 0.5709\n",
            "\n",
            "####################################################################################################\n",
            " Epoch 44\n"
          ]
        },
        {
          "output_type": "stream",
          "name": "stderr",
          "text": [
            "Train Loss: 0.3247\tTrain accuracy: 0.8889\tTrain precision: 1.0000\tTrain recall: 0.8000\tTrain F1: 0.8889: 100%|██████████| 32/32 [00:00<00:00, 34.50it/s]\n"
          ]
        },
        {
          "output_type": "stream",
          "name": "stdout",
          "text": [
            "+-----------+------------+------------+\n",
            "|           |   TRAIN    | VALIDATION |\n",
            "+-----------+------------+------------+\n",
            "|   Loss    |   0.535    |   0.693    |\n",
            "| Accuracy  |   0.717    |   0.584    |\n",
            "| Precision |   0.734    |   0.519    |\n",
            "|  Recall   |   0.716    |   0.597    |\n",
            "|    F1     |   0.723    |   0.552    |\n",
            "+-----------+------------+------------+\n",
            "\n",
            "\t[Epoch: 44] train loss = 0.5348 \t train accuracy = 0.7172\n",
            "\t[Epoch: 44] valid loss = 0.6925 \t valid accuracy = 0.5835\n",
            "\n",
            "####################################################################################################\n",
            " Epoch 45\n"
          ]
        },
        {
          "output_type": "stream",
          "name": "stderr",
          "text": [
            "Train Loss: 0.4945\tTrain accuracy: 0.7778\tTrain precision: 0.8333\tTrain recall: 0.8333\tTrain F1: 0.8333: 100%|██████████| 32/32 [00:00<00:00, 35.59it/s]\n"
          ]
        },
        {
          "output_type": "stream",
          "name": "stdout",
          "text": [
            "+-----------+------------+------------+\n",
            "|           |   TRAIN    | VALIDATION |\n",
            "+-----------+------------+------------+\n",
            "|   Loss    |   0.541    |   0.691    |\n",
            "| Accuracy  |   0.716    |   0.565    |\n",
            "| Precision |   0.726    |   0.539    |\n",
            "|  Recall   |   0.722    |   0.568    |\n",
            "|    F1     |   0.722    |   0.551    |\n",
            "+-----------+------------+------------+\n",
            "\n",
            "\t[Epoch: 45] train loss = 0.5411 \t train accuracy = 0.7162\n",
            "\t[Epoch: 45] valid loss = 0.6914 \t valid accuracy = 0.5651\n",
            "\n",
            "####################################################################################################\n",
            " Epoch 46\n"
          ]
        },
        {
          "output_type": "stream",
          "name": "stderr",
          "text": [
            "Train Loss: 0.4307\tTrain accuracy: 0.7778\tTrain precision: 0.8571\tTrain recall: 0.8571\tTrain F1: 0.8571: 100%|██████████| 32/32 [00:00<00:00, 33.53it/s]\n"
          ]
        },
        {
          "output_type": "stream",
          "name": "stdout",
          "text": [
            "+-----------+------------+------------+\n",
            "|           |   TRAIN    | VALIDATION |\n",
            "+-----------+------------+------------+\n",
            "|   Loss    |   0.539    |   0.694    |\n",
            "| Accuracy  |   0.722    |   0.554    |\n",
            "| Precision |   0.736    |   0.604    |\n",
            "|  Recall   |   0.725    |   0.549    |\n",
            "|    F1     |   0.729    |   0.574    |\n",
            "+-----------+------------+------------+\n",
            "\n",
            "\t[Epoch: 46] train loss = 0.5389 \t train accuracy = 0.7221\n",
            "\t[Epoch: 46] valid loss = 0.6938 \t valid accuracy = 0.5544\n",
            "\n",
            "####################################################################################################\n",
            " Epoch 47\n"
          ]
        },
        {
          "output_type": "stream",
          "name": "stderr",
          "text": [
            "Train Loss: 0.6846\tTrain accuracy: 0.6667\tTrain precision: 0.6667\tTrain recall: 0.8000\tTrain F1: 0.7273: 100%|██████████| 32/32 [00:00<00:00, 32.15it/s]\n"
          ]
        },
        {
          "output_type": "stream",
          "name": "stdout",
          "text": [
            "+-----------+------------+------------+\n",
            "|           |   TRAIN    | VALIDATION |\n",
            "+-----------+------------+------------+\n",
            "|   Loss    |   0.543    |    0.7     |\n",
            "| Accuracy  |   0.722    |   0.556    |\n",
            "| Precision |   0.728    |    0.6     |\n",
            "|  Recall   |    0.73    |   0.551    |\n",
            "|    F1     |   0.727    |   0.573    |\n",
            "+-----------+------------+------------+\n",
            "\n",
            "\t[Epoch: 47] train loss = 0.5433 \t train accuracy = 0.7215\n",
            "\t[Epoch: 47] valid loss = 0.7000 \t valid accuracy = 0.5563\n",
            "\n",
            "####################################################################################################\n",
            " Epoch 48\n"
          ]
        },
        {
          "output_type": "stream",
          "name": "stderr",
          "text": [
            "Train Loss: 0.9010\tTrain accuracy: 0.4444\tTrain precision: 0.6667\tTrain recall: 0.3333\tTrain F1: 0.4444: 100%|██████████| 32/32 [00:00<00:00, 46.19it/s]\n"
          ]
        },
        {
          "output_type": "stream",
          "name": "stdout",
          "text": [
            "+-----------+------------+------------+\n",
            "|           |   TRAIN    | VALIDATION |\n",
            "+-----------+------------+------------+\n",
            "|   Loss    |   0.548    |   0.692    |\n",
            "| Accuracy  |   0.712    |    0.55    |\n",
            "| Precision |   0.731    |   0.547    |\n",
            "|  Recall   |   0.714    |    0.55    |\n",
            "|    F1     |   0.717    |   0.547    |\n",
            "+-----------+------------+------------+\n",
            "\n",
            "\t[Epoch: 48] train loss = 0.5479 \t train accuracy = 0.7121\n",
            "\t[Epoch: 48] valid loss = 0.6923 \t valid accuracy = 0.5505\n",
            "\n",
            "####################################################################################################\n",
            " Epoch 49\n"
          ]
        },
        {
          "output_type": "stream",
          "name": "stderr",
          "text": [
            "Train Loss: 0.7542\tTrain accuracy: 0.5556\tTrain precision: 0.4000\tTrain recall: 0.6667\tTrain F1: 0.5000: 100%|██████████| 32/32 [00:00<00:00, 44.67it/s]\n"
          ]
        },
        {
          "output_type": "stream",
          "name": "stdout",
          "text": [
            "+-----------+------------+------------+\n",
            "|           |   TRAIN    | VALIDATION |\n",
            "+-----------+------------+------------+\n",
            "|   Loss    |   0.545    |   0.695    |\n",
            "| Accuracy  |   0.713    |   0.558    |\n",
            "| Precision |   0.692    |   0.572    |\n",
            "|  Recall   |   0.734    |   0.556    |\n",
            "|    F1     |   0.709    |   0.562    |\n",
            "+-----------+------------+------------+\n",
            "\n",
            "\t[Epoch: 49] train loss = 0.5446 \t train accuracy = 0.7134\n",
            "\t[Epoch: 49] valid loss = 0.6950 \t valid accuracy = 0.5583\n",
            "\n",
            "####################################################################################################\n",
            " Epoch 50\n"
          ]
        },
        {
          "output_type": "stream",
          "name": "stderr",
          "text": [
            "Train Loss: 0.7048\tTrain accuracy: 0.6667\tTrain precision: 0.4000\tTrain recall: 1.0000\tTrain F1: 0.5714: 100%|██████████| 32/32 [00:00<00:00, 44.99it/s]\n"
          ]
        },
        {
          "output_type": "stream",
          "name": "stdout",
          "text": [
            "+-----------+------------+------------+\n",
            "|           |   TRAIN    | VALIDATION |\n",
            "+-----------+------------+------------+\n",
            "|   Loss    |   0.539    |   0.699    |\n",
            "| Accuracy  |   0.719    |   0.556    |\n",
            "| Precision |    0.72    |   0.588    |\n",
            "|  Recall   |   0.733    |   0.552    |\n",
            "|    F1     |   0.719    |   0.568    |\n",
            "+-----------+------------+------------+\n",
            "\n",
            "\t[Epoch: 50] train loss = 0.5386 \t train accuracy = 0.7191\n",
            "\t[Epoch: 50] valid loss = 0.6992 \t valid accuracy = 0.5563\n",
            "\n",
            "####################################################################################################\n",
            " Epoch 51\n"
          ]
        },
        {
          "output_type": "stream",
          "name": "stderr",
          "text": [
            "Train Loss: 0.6913\tTrain accuracy: 0.5556\tTrain precision: 0.3333\tTrain recall: 0.3333\tTrain F1: 0.3333: 100%|██████████| 32/32 [00:00<00:00, 44.52it/s]\n"
          ]
        },
        {
          "output_type": "stream",
          "name": "stdout",
          "text": [
            "+-----------+------------+------------+\n",
            "|           |   TRAIN    | VALIDATION |\n",
            "+-----------+------------+------------+\n",
            "|   Loss    |   0.546    |   0.699    |\n",
            "| Accuracy  |   0.709    |   0.568    |\n",
            "| Precision |    0.73    |   0.506    |\n",
            "|  Recall   |    0.7     |   0.579    |\n",
            "|    F1     |   0.712    |   0.537    |\n",
            "+-----------+------------+------------+\n",
            "\n",
            "\t[Epoch: 51] train loss = 0.5457 \t train accuracy = 0.7090\n",
            "\t[Epoch: 51] valid loss = 0.6988 \t valid accuracy = 0.5681\n",
            "\n",
            "####################################################################################################\n",
            " Epoch 52\n"
          ]
        },
        {
          "output_type": "stream",
          "name": "stderr",
          "text": [
            "Train Loss: 0.6114\tTrain accuracy: 0.6667\tTrain precision: 0.7500\tTrain recall: 0.6000\tTrain F1: 0.6667: 100%|██████████| 32/32 [00:00<00:00, 46.83it/s]\n"
          ]
        },
        {
          "output_type": "stream",
          "name": "stdout",
          "text": [
            "+-----------+------------+------------+\n",
            "|           |   TRAIN    | VALIDATION |\n",
            "+-----------+------------+------------+\n",
            "|   Loss    |    0.54    |   0.702    |\n",
            "| Accuracy  |   0.708    |   0.567    |\n",
            "| Precision |   0.704    |   0.455    |\n",
            "|  Recall   |   0.716    |   0.587    |\n",
            "|    F1     |   0.708    |   0.511    |\n",
            "+-----------+------------+------------+\n",
            "\n",
            "\t[Epoch: 52] train loss = 0.5405 \t train accuracy = 0.7081\n",
            "\t[Epoch: 52] valid loss = 0.7017 \t valid accuracy = 0.5670\n",
            "\n",
            "####################################################################################################\n",
            " Epoch 53\n"
          ]
        },
        {
          "output_type": "stream",
          "name": "stderr",
          "text": [
            "Train Loss: 0.6390\tTrain accuracy: 0.5556\tTrain precision: 0.5714\tTrain recall: 0.8000\tTrain F1: 0.6667: 100%|██████████| 32/32 [00:00<00:00, 47.21it/s]\n"
          ]
        },
        {
          "output_type": "stream",
          "name": "stdout",
          "text": [
            "+-----------+------------+------------+\n",
            "|           |   TRAIN    | VALIDATION |\n",
            "+-----------+------------+------------+\n",
            "|   Loss    |   0.539    |   0.699    |\n",
            "| Accuracy  |   0.713    |   0.564    |\n",
            "| Precision |   0.714    |   0.564    |\n",
            "|  Recall   |    0.73    |   0.562    |\n",
            "|    F1     |   0.719    |   0.562    |\n",
            "+-----------+------------+------------+\n",
            "\n",
            "\t[Epoch: 53] train loss = 0.5391 \t train accuracy = 0.7134\n",
            "\t[Epoch: 53] valid loss = 0.6987 \t valid accuracy = 0.5640\n",
            "\n",
            "####################################################################################################\n",
            " Epoch 54\n"
          ]
        },
        {
          "output_type": "stream",
          "name": "stderr",
          "text": [
            "Train Loss: 0.5174\tTrain accuracy: 0.6667\tTrain precision: 0.6667\tTrain recall: 0.8000\tTrain F1: 0.7273: 100%|██████████| 32/32 [00:00<00:00, 45.55it/s]\n"
          ]
        },
        {
          "output_type": "stream",
          "name": "stdout",
          "text": [
            "+-----------+------------+------------+\n",
            "|           |   TRAIN    | VALIDATION |\n",
            "+-----------+------------+------------+\n",
            "|   Loss    |   0.534    |   0.708    |\n",
            "| Accuracy  |   0.718    |   0.549    |\n",
            "| Precision |   0.718    |   0.673    |\n",
            "|  Recall   |    0.73    |   0.538    |\n",
            "|    F1     |   0.721    |   0.597    |\n",
            "+-----------+------------+------------+\n",
            "\n",
            "\t[Epoch: 54] train loss = 0.5337 \t train accuracy = 0.7183\n",
            "\t[Epoch: 54] valid loss = 0.7079 \t valid accuracy = 0.5487\n",
            "\n",
            "####################################################################################################\n",
            " Epoch 55\n"
          ]
        },
        {
          "output_type": "stream",
          "name": "stderr",
          "text": [
            "Train Loss: 0.5520\tTrain accuracy: 0.5556\tTrain precision: 0.6000\tTrain recall: 0.6000\tTrain F1: 0.6000: 100%|██████████| 32/32 [00:00<00:00, 44.01it/s]\n"
          ]
        },
        {
          "output_type": "stream",
          "name": "stdout",
          "text": [
            "+-----------+------------+------------+\n",
            "|           |   TRAIN    | VALIDATION |\n",
            "+-----------+------------+------------+\n",
            "|   Loss    |   0.536    |   0.702    |\n",
            "| Accuracy  |   0.713    |   0.556    |\n",
            "| Precision |   0.731    |   0.589    |\n",
            "|  Recall   |   0.715    |   0.552    |\n",
            "|    F1     |    0.72    |   0.568    |\n",
            "+-----------+------------+------------+\n",
            "\n",
            "\t[Epoch: 55] train loss = 0.5363 \t train accuracy = 0.7132\n",
            "\t[Epoch: 55] valid loss = 0.7017 \t valid accuracy = 0.5563\n",
            "\n",
            "####################################################################################################\n",
            " Epoch 56\n"
          ]
        },
        {
          "output_type": "stream",
          "name": "stderr",
          "text": [
            "Train Loss: 0.5360\tTrain accuracy: 0.6667\tTrain precision: 0.5714\tTrain recall: 1.0000\tTrain F1: 0.7273: 100%|██████████| 32/32 [00:00<00:00, 45.97it/s]\n"
          ]
        },
        {
          "output_type": "stream",
          "name": "stdout",
          "text": [
            "+-----------+------------+------------+\n",
            "|           |   TRAIN    | VALIDATION |\n",
            "+-----------+------------+------------+\n",
            "|   Loss    |   0.529    |   0.717    |\n",
            "| Accuracy  |   0.721    |    0.56    |\n",
            "| Precision |   0.721    |   0.747    |\n",
            "|  Recall   |   0.737    |   0.544    |\n",
            "|    F1     |   0.725    |   0.629    |\n",
            "+-----------+------------+------------+\n",
            "\n",
            "\t[Epoch: 56] train loss = 0.5287 \t train accuracy = 0.7205\n",
            "\t[Epoch: 56] valid loss = 0.7174 \t valid accuracy = 0.5604\n",
            "\n",
            "####################################################################################################\n",
            " Epoch 57\n"
          ]
        },
        {
          "output_type": "stream",
          "name": "stderr",
          "text": [
            "Train Loss: 0.2407\tTrain accuracy: 1.0000\tTrain precision: 1.0000\tTrain recall: 1.0000\tTrain F1: 1.0000: 100%|██████████| 32/32 [00:00<00:00, 47.68it/s]\n"
          ]
        },
        {
          "output_type": "stream",
          "name": "stdout",
          "text": [
            "+-----------+------------+------------+\n",
            "|           |   TRAIN    | VALIDATION |\n",
            "+-----------+------------+------------+\n",
            "|   Loss    |   0.519    |    0.71    |\n",
            "| Accuracy  |   0.732    |   0.554    |\n",
            "| Precision |   0.751    |   0.592    |\n",
            "|  Recall   |   0.731    |   0.549    |\n",
            "|    F1     |   0.738    |   0.569    |\n",
            "+-----------+------------+------------+\n",
            "\n",
            "\t[Epoch: 57] train loss = 0.5185 \t train accuracy = 0.7324\n",
            "\t[Epoch: 57] valid loss = 0.7101 \t valid accuracy = 0.5544\n",
            "\n",
            "####################################################################################################\n",
            " Epoch 58\n"
          ]
        },
        {
          "output_type": "stream",
          "name": "stderr",
          "text": [
            "Train Loss: 0.6407\tTrain accuracy: 0.6667\tTrain precision: 0.3333\tTrain recall: 0.5000\tTrain F1: 0.4000: 100%|██████████| 32/32 [00:00<00:00, 45.42it/s]\n"
          ]
        },
        {
          "output_type": "stream",
          "name": "stdout",
          "text": [
            "+-----------+------------+------------+\n",
            "|           |   TRAIN    | VALIDATION |\n",
            "+-----------+------------+------------+\n",
            "|   Loss    |   0.528    |   0.714    |\n",
            "| Accuracy  |   0.722    |   0.533    |\n",
            "| Precision |   0.725    |   0.501    |\n",
            "|  Recall   |   0.719    |   0.535    |\n",
            "|    F1     |    0.72    |   0.516    |\n",
            "+-----------+------------+------------+\n",
            "\n",
            "\t[Epoch: 58] train loss = 0.5278 \t train accuracy = 0.7225\n",
            "\t[Epoch: 58] valid loss = 0.7142 \t valid accuracy = 0.5331\n",
            "\n",
            "####################################################################################################\n",
            " Epoch 59\n"
          ]
        },
        {
          "output_type": "stream",
          "name": "stderr",
          "text": [
            "Train Loss: 0.5244\tTrain accuracy: 0.6667\tTrain precision: 0.7500\tTrain recall: 0.6000\tTrain F1: 0.6667: 100%|██████████| 32/32 [00:00<00:00, 44.19it/s]\n"
          ]
        },
        {
          "output_type": "stream",
          "name": "stdout",
          "text": [
            "+-----------+------------+------------+\n",
            "|           |   TRAIN    | VALIDATION |\n",
            "+-----------+------------+------------+\n",
            "|   Loss    |   0.527    |   0.713    |\n",
            "| Accuracy  |   0.722    |   0.539    |\n",
            "| Precision |   0.729    |   0.644    |\n",
            "|  Recall   |   0.726    |   0.532    |\n",
            "|    F1     |   0.725    |   0.582    |\n",
            "+-----------+------------+------------+\n",
            "\n",
            "\t[Epoch: 59] train loss = 0.5269 \t train accuracy = 0.7222\n",
            "\t[Epoch: 59] valid loss = 0.7130 \t valid accuracy = 0.5389\n",
            "\n",
            "####################################################################################################\n",
            " Epoch 60\n"
          ]
        },
        {
          "output_type": "stream",
          "name": "stderr",
          "text": [
            "Train Loss: 0.8133\tTrain accuracy: 0.5556\tTrain precision: 0.5000\tTrain recall: 0.5000\tTrain F1: 0.5000: 100%|██████████| 32/32 [00:00<00:00, 44.47it/s]\n"
          ]
        },
        {
          "output_type": "stream",
          "name": "stdout",
          "text": [
            "+-----------+------------+------------+\n",
            "|           |   TRAIN    | VALIDATION |\n",
            "+-----------+------------+------------+\n",
            "|   Loss    |    0.53    |   0.713    |\n",
            "| Accuracy  |   0.725    |   0.537    |\n",
            "| Precision |    0.72    |   0.648    |\n",
            "|  Recall   |   0.732    |    0.53    |\n",
            "|    F1     |   0.724    |   0.582    |\n",
            "+-----------+------------+------------+\n",
            "\n",
            "\t[Epoch: 60] train loss = 0.5299 \t train accuracy = 0.7249\n",
            "\t[Epoch: 60] valid loss = 0.7128 \t valid accuracy = 0.5370\n",
            "\n",
            "####################################################################################################\n",
            " Epoch 61\n"
          ]
        },
        {
          "output_type": "stream",
          "name": "stderr",
          "text": [
            "Train Loss: 0.4720\tTrain accuracy: 0.7656\tTrain precision: 0.8333\tTrain recall: 0.7432\tTrain F1: 0.7857:  88%|████████▊ | 28/32 [00:00<00:00, 34.14it/s]/usr/local/lib/python3.10/dist-packages/sklearn/metrics/_classification.py:1344: UndefinedMetricWarning: Precision is ill-defined and being set to 0.0 due to no predicted samples. Use `zero_division` parameter to control this behavior.\n",
            "  _warn_prf(average, modifier, msg_start, len(result))\n",
            "Train Loss: 0.7520\tTrain accuracy: 0.6667\tTrain precision: 0.0000\tTrain recall: 0.0000\tTrain F1: 0.0000: 100%|██████████| 32/32 [00:00<00:00, 33.77it/s]\n"
          ]
        },
        {
          "output_type": "stream",
          "name": "stdout",
          "text": [
            "+-----------+------------+------------+\n",
            "|           |   TRAIN    | VALIDATION |\n",
            "+-----------+------------+------------+\n",
            "|   Loss    |   0.529    |   0.716    |\n",
            "| Accuracy  |   0.727    |   0.553    |\n",
            "| Precision |    0.73    |   0.407    |\n",
            "|  Recall   |   0.704    |   0.574    |\n",
            "|    F1     |   0.714    |   0.476    |\n",
            "+-----------+------------+------------+\n",
            "\n",
            "\t[Epoch: 61] train loss = 0.5289 \t train accuracy = 0.7274\n",
            "\t[Epoch: 61] valid loss = 0.7157 \t valid accuracy = 0.5526\n",
            "\n",
            "####################################################################################################\n",
            " Epoch 62\n"
          ]
        },
        {
          "output_type": "stream",
          "name": "stderr",
          "text": [
            "Train Loss: 0.5147\tTrain accuracy: 0.5556\tTrain precision: 0.6667\tTrain recall: 0.4000\tTrain F1: 0.5000: 100%|██████████| 32/32 [00:00<00:00, 33.79it/s]\n"
          ]
        },
        {
          "output_type": "stream",
          "name": "stdout",
          "text": [
            "+-----------+------------+------------+\n",
            "|           |   TRAIN    | VALIDATION |\n",
            "+-----------+------------+------------+\n",
            "|   Loss    |   0.538    |   0.695    |\n",
            "| Accuracy  |   0.708    |   0.555    |\n",
            "| Precision |   0.685    |   0.542    |\n",
            "|  Recall   |   0.736    |   0.556    |\n",
            "|    F1     |   0.698    |   0.548    |\n",
            "+-----------+------------+------------+\n",
            "\n",
            "\t[Epoch: 62] train loss = 0.5378 \t train accuracy = 0.7080\n",
            "\t[Epoch: 62] valid loss = 0.6951 \t valid accuracy = 0.5554\n",
            "\n",
            "####################################################################################################\n",
            " Epoch 63\n"
          ]
        },
        {
          "output_type": "stream",
          "name": "stderr",
          "text": [
            "Train Loss: 0.2202\tTrain accuracy: 1.0000\tTrain precision: 1.0000\tTrain recall: 1.0000\tTrain F1: 1.0000: 100%|██████████| 32/32 [00:00<00:00, 33.54it/s]\n"
          ]
        },
        {
          "output_type": "stream",
          "name": "stdout",
          "text": [
            "+-----------+------------+------------+\n",
            "|           |   TRAIN    | VALIDATION |\n",
            "+-----------+------------+------------+\n",
            "|   Loss    |   0.511    |   0.713    |\n",
            "| Accuracy  |   0.736    |   0.543    |\n",
            "| Precision |   0.739    |   0.559    |\n",
            "|  Recall   |   0.741    |   0.541    |\n",
            "|    F1     |   0.738    |   0.548    |\n",
            "+-----------+------------+------------+\n",
            "\n",
            "\t[Epoch: 63] train loss = 0.5113 \t train accuracy = 0.7358\n",
            "\t[Epoch: 63] valid loss = 0.7128 \t valid accuracy = 0.5428\n",
            "\n",
            "####################################################################################################\n",
            " Epoch 64\n"
          ]
        },
        {
          "output_type": "stream",
          "name": "stderr",
          "text": [
            "Train Loss: 0.5966\tTrain accuracy: 0.6667\tTrain precision: 0.5000\tTrain recall: 0.6667\tTrain F1: 0.5714: 100%|██████████| 32/32 [00:01<00:00, 30.71it/s]\n"
          ]
        },
        {
          "output_type": "stream",
          "name": "stdout",
          "text": [
            "+-----------+------------+------------+\n",
            "|           |   TRAIN    | VALIDATION |\n",
            "+-----------+------------+------------+\n",
            "|   Loss    |   0.525    |   0.719    |\n",
            "| Accuracy  |   0.724    |   0.543    |\n",
            "| Precision |   0.722    |   0.612    |\n",
            "|  Recall   |   0.728    |   0.537    |\n",
            "|    F1     |   0.723    |   0.571    |\n",
            "+-----------+------------+------------+\n",
            "\n",
            "\t[Epoch: 64] train loss = 0.5253 \t train accuracy = 0.7237\n",
            "\t[Epoch: 64] valid loss = 0.7191 \t valid accuracy = 0.5428\n",
            "\n",
            "####################################################################################################\n",
            " Epoch 65\n"
          ]
        },
        {
          "output_type": "stream",
          "name": "stderr",
          "text": [
            "Train Loss: 0.5962\tTrain accuracy: 0.7778\tTrain precision: 0.6667\tTrain recall: 1.0000\tTrain F1: 0.8000: 100%|██████████| 32/32 [00:00<00:00, 40.77it/s]\n"
          ]
        },
        {
          "output_type": "stream",
          "name": "stdout",
          "text": [
            "+-----------+------------+------------+\n",
            "|           |   TRAIN    | VALIDATION |\n",
            "+-----------+------------+------------+\n",
            "|   Loss    |   0.525    |   0.715    |\n",
            "| Accuracy  |   0.731    |   0.549    |\n",
            "| Precision |   0.737    |   0.441    |\n",
            "|  Recall   |    0.74    |   0.561    |\n",
            "|    F1     |   0.734    |   0.494    |\n",
            "+-----------+------------+------------+\n",
            "\n",
            "\t[Epoch: 65] train loss = 0.5251 \t train accuracy = 0.7308\n",
            "\t[Epoch: 65] valid loss = 0.7155 \t valid accuracy = 0.5485\n",
            "\n",
            "####################################################################################################\n",
            " Epoch 66\n"
          ]
        },
        {
          "output_type": "stream",
          "name": "stderr",
          "text": [
            "Train Loss: 0.3714\tTrain accuracy: 0.7778\tTrain precision: 0.5000\tTrain recall: 1.0000\tTrain F1: 0.6667: 100%|██████████| 32/32 [00:00<00:00, 45.75it/s]\n"
          ]
        },
        {
          "output_type": "stream",
          "name": "stdout",
          "text": [
            "+-----------+------------+------------+\n",
            "|           |   TRAIN    | VALIDATION |\n",
            "+-----------+------------+------------+\n",
            "|   Loss    |   0.521    |   0.714    |\n",
            "| Accuracy  |   0.732    |   0.542    |\n",
            "| Precision |   0.731    |   0.492    |\n",
            "|  Recall   |   0.744    |   0.545    |\n",
            "|    F1     |   0.732    |   0.516    |\n",
            "+-----------+------------+------------+\n",
            "\n",
            "\t[Epoch: 66] train loss = 0.5205 \t train accuracy = 0.7318\n",
            "\t[Epoch: 66] valid loss = 0.7136 \t valid accuracy = 0.5418\n",
            "\n",
            "####################################################################################################\n",
            " Epoch 67\n"
          ]
        },
        {
          "output_type": "stream",
          "name": "stderr",
          "text": [
            "Train Loss: 0.5925\tTrain accuracy: 0.6667\tTrain precision: 0.8000\tTrain recall: 0.6667\tTrain F1: 0.7273: 100%|██████████| 32/32 [00:00<00:00, 44.94it/s]\n"
          ]
        },
        {
          "output_type": "stream",
          "name": "stdout",
          "text": [
            "+-----------+------------+------------+\n",
            "|           |   TRAIN    | VALIDATION |\n",
            "+-----------+------------+------------+\n",
            "|   Loss    |   0.527    |   0.709    |\n",
            "| Accuracy  |   0.723    |   0.546    |\n",
            "| Precision |   0.741    |    0.57    |\n",
            "|  Recall   |   0.726    |   0.544    |\n",
            "|    F1     |    0.73    |   0.556    |\n",
            "+-----------+------------+------------+\n",
            "\n",
            "\t[Epoch: 67] train loss = 0.5271 \t train accuracy = 0.7230\n",
            "\t[Epoch: 67] valid loss = 0.7090 \t valid accuracy = 0.5458\n",
            "\n",
            "####################################################################################################\n",
            " Epoch 68\n"
          ]
        },
        {
          "output_type": "stream",
          "name": "stderr",
          "text": [
            "Train Loss: 0.3881\tTrain accuracy: 0.7778\tTrain precision: 0.8000\tTrain recall: 0.8000\tTrain F1: 0.8000: 100%|██████████| 32/32 [00:00<00:00, 43.85it/s]\n"
          ]
        },
        {
          "output_type": "stream",
          "name": "stdout",
          "text": [
            "+-----------+------------+------------+\n",
            "|           |   TRAIN    | VALIDATION |\n",
            "+-----------+------------+------------+\n",
            "|   Loss    |   0.513    |   0.712    |\n",
            "| Accuracy  |   0.734    |   0.544    |\n",
            "| Precision |   0.736    |   0.641    |\n",
            "|  Recall   |   0.742    |   0.535    |\n",
            "|    F1     |   0.737    |   0.583    |\n",
            "+-----------+------------+------------+\n",
            "\n",
            "\t[Epoch: 68] train loss = 0.5134 \t train accuracy = 0.7343\n",
            "\t[Epoch: 68] valid loss = 0.7119 \t valid accuracy = 0.5437\n",
            "\n",
            "####################################################################################################\n",
            " Epoch 69\n"
          ]
        },
        {
          "output_type": "stream",
          "name": "stderr",
          "text": [
            "Train Loss: 0.4575\tTrain accuracy: 0.8889\tTrain precision: 1.0000\tTrain recall: 0.7500\tTrain F1: 0.8571: 100%|██████████| 32/32 [00:00<00:00, 44.05it/s]\n"
          ]
        },
        {
          "output_type": "stream",
          "name": "stdout",
          "text": [
            "+-----------+------------+------------+\n",
            "|           |   TRAIN    | VALIDATION |\n",
            "+-----------+------------+------------+\n",
            "|   Loss    |   0.519    |   0.722    |\n",
            "| Accuracy  |   0.732    |   0.537    |\n",
            "| Precision |   0.731    |   0.453    |\n",
            "|  Recall   |   0.736    |   0.544    |\n",
            "|    F1     |   0.731    |   0.494    |\n",
            "+-----------+------------+------------+\n",
            "\n",
            "\t[Epoch: 69] train loss = 0.5193 \t train accuracy = 0.7321\n",
            "\t[Epoch: 69] valid loss = 0.7217 \t valid accuracy = 0.5370\n",
            "\n",
            "####################################################################################################\n",
            " Epoch 70\n"
          ]
        },
        {
          "output_type": "stream",
          "name": "stderr",
          "text": [
            "Train Loss: 0.4646\tTrain accuracy: 0.5556\tTrain precision: 0.5000\tTrain recall: 0.5000\tTrain F1: 0.5000: 100%|██████████| 32/32 [00:00<00:00, 44.60it/s]\n"
          ]
        },
        {
          "output_type": "stream",
          "name": "stdout",
          "text": [
            "+-----------+------------+------------+\n",
            "|           |   TRAIN    | VALIDATION |\n",
            "+-----------+------------+------------+\n",
            "|   Loss    |    0.52    |    0.72    |\n",
            "| Accuracy  |   0.724    |   0.545    |\n",
            "| Precision |   0.716    |   0.666    |\n",
            "|  Recall   |   0.735    |   0.535    |\n",
            "|    F1     |   0.722    |   0.592    |\n",
            "+-----------+------------+------------+\n",
            "\n",
            "\t[Epoch: 70] train loss = 0.5204 \t train accuracy = 0.7241\n",
            "\t[Epoch: 70] valid loss = 0.7204 \t valid accuracy = 0.5446\n",
            "\n",
            "####################################################################################################\n",
            " Epoch 71\n"
          ]
        },
        {
          "output_type": "stream",
          "name": "stderr",
          "text": [
            "Train Loss: 0.6225\tTrain accuracy: 0.6667\tTrain precision: 0.5000\tTrain recall: 0.3333\tTrain F1: 0.4000: 100%|██████████| 32/32 [00:00<00:00, 47.25it/s]\n"
          ]
        },
        {
          "output_type": "stream",
          "name": "stdout",
          "text": [
            "+-----------+------------+------------+\n",
            "|           |   TRAIN    | VALIDATION |\n",
            "+-----------+------------+------------+\n",
            "|   Loss    |   0.519    |   0.721    |\n",
            "| Accuracy  |   0.733    |   0.537    |\n",
            "| Precision |   0.734    |   0.545    |\n",
            "|  Recall   |   0.727    |   0.537    |\n",
            "|    F1     |   0.728    |    0.54    |\n",
            "+-----------+------------+------------+\n",
            "\n",
            "\t[Epoch: 71] train loss = 0.5187 \t train accuracy = 0.7335\n",
            "\t[Epoch: 71] valid loss = 0.7208 \t valid accuracy = 0.5371\n",
            "\n",
            "####################################################################################################\n",
            " Epoch 72\n"
          ]
        },
        {
          "output_type": "stream",
          "name": "stderr",
          "text": [
            "Train Loss: 0.6135\tTrain accuracy: 0.5556\tTrain precision: 0.4000\tTrain recall: 0.6667\tTrain F1: 0.5000: 100%|██████████| 32/32 [00:00<00:00, 44.10it/s]\n"
          ]
        },
        {
          "output_type": "stream",
          "name": "stdout",
          "text": [
            "+-----------+------------+------------+\n",
            "|           |   TRAIN    | VALIDATION |\n",
            "+-----------+------------+------------+\n",
            "|   Loss    |   0.517    |   0.725    |\n",
            "| Accuracy  |   0.731    |   0.532    |\n",
            "| Precision |   0.724    |   0.661    |\n",
            "|  Recall   |   0.742    |   0.525    |\n",
            "|    F1     |    0.73    |   0.584    |\n",
            "+-----------+------------+------------+\n",
            "\n",
            "\t[Epoch: 72] train loss = 0.5172 \t train accuracy = 0.7307\n",
            "\t[Epoch: 72] valid loss = 0.7254 \t valid accuracy = 0.5320\n",
            "\n",
            "####################################################################################################\n",
            " Epoch 73\n"
          ]
        },
        {
          "output_type": "stream",
          "name": "stderr",
          "text": [
            "Train Loss: 0.8139\tTrain accuracy: 0.5556\tTrain precision: 0.5556\tTrain recall: 1.0000\tTrain F1: 0.7143: 100%|██████████| 32/32 [00:00<00:00, 44.18it/s]\n"
          ]
        },
        {
          "output_type": "stream",
          "name": "stdout",
          "text": [
            "+-----------+------------+------------+\n",
            "|           |   TRAIN    | VALIDATION |\n",
            "+-----------+------------+------------+\n",
            "|   Loss    |   0.525    |    0.73    |\n",
            "| Accuracy  |   0.725    |   0.543    |\n",
            "| Precision |   0.744    |   0.694    |\n",
            "|  Recall   |   0.737    |   0.532    |\n",
            "|    F1     |   0.737    |   0.601    |\n",
            "+-----------+------------+------------+\n",
            "\n",
            "\t[Epoch: 73] train loss = 0.5254 \t train accuracy = 0.7251\n",
            "\t[Epoch: 73] valid loss = 0.7305 \t valid accuracy = 0.5427\n",
            "\n",
            "####################################################################################################\n",
            " Epoch 74\n"
          ]
        },
        {
          "output_type": "stream",
          "name": "stderr",
          "text": [
            "Train Loss: 0.3823\tTrain accuracy: 0.8889\tTrain precision: 1.0000\tTrain recall: 0.6667\tTrain F1: 0.8000: 100%|██████████| 32/32 [00:00<00:00, 43.33it/s]\n"
          ]
        },
        {
          "output_type": "stream",
          "name": "stdout",
          "text": [
            "+-----------+------------+------------+\n",
            "|           |   TRAIN    | VALIDATION |\n",
            "+-----------+------------+------------+\n",
            "|   Loss    |   0.517    |   0.717    |\n",
            "| Accuracy  |   0.733    |   0.536    |\n",
            "| Precision |   0.741    |   0.661    |\n",
            "|  Recall   |   0.736    |   0.528    |\n",
            "|    F1     |   0.731    |   0.586    |\n",
            "+-----------+------------+------------+\n",
            "\n",
            "\t[Epoch: 74] train loss = 0.5174 \t train accuracy = 0.7333\n",
            "\t[Epoch: 74] valid loss = 0.7168 \t valid accuracy = 0.5359\n",
            "\n",
            "####################################################################################################\n",
            " Epoch 75\n"
          ]
        },
        {
          "output_type": "stream",
          "name": "stderr",
          "text": [
            "Train Loss: 0.6419\tTrain accuracy: 0.6667\tTrain precision: 0.7500\tTrain recall: 0.6000\tTrain F1: 0.6667: 100%|██████████| 32/32 [00:00<00:00, 46.43it/s]\n"
          ]
        },
        {
          "output_type": "stream",
          "name": "stdout",
          "text": [
            "+-----------+------------+------------+\n",
            "|           |   TRAIN    | VALIDATION |\n",
            "+-----------+------------+------------+\n",
            "|   Loss    |   0.518    |   0.724    |\n",
            "| Accuracy  |    0.73    |   0.528    |\n",
            "| Precision |   0.741    |   0.511    |\n",
            "|  Recall   |   0.733    |    0.53    |\n",
            "|    F1     |   0.735    |    0.52    |\n",
            "+-----------+------------+------------+\n",
            "\n",
            "\t[Epoch: 75] train loss = 0.5178 \t train accuracy = 0.7303\n",
            "\t[Epoch: 75] valid loss = 0.7239 \t valid accuracy = 0.5284\n",
            "\n",
            "####################################################################################################\n",
            " Epoch 76\n"
          ]
        },
        {
          "output_type": "stream",
          "name": "stderr",
          "text": [
            "Train Loss: 0.5058\tTrain accuracy: 0.5556\tTrain precision: 0.4000\tTrain recall: 0.6667\tTrain F1: 0.5000: 100%|██████████| 32/32 [00:00<00:00, 45.47it/s]\n"
          ]
        },
        {
          "output_type": "stream",
          "name": "stdout",
          "text": [
            "+-----------+------------+------------+\n",
            "|           |   TRAIN    | VALIDATION |\n",
            "+-----------+------------+------------+\n",
            "|   Loss    |   0.508    |   0.724    |\n",
            "| Accuracy  |   0.736    |   0.552    |\n",
            "| Precision |   0.731    |   0.625    |\n",
            "|  Recall   |   0.749    |   0.543    |\n",
            "|    F1     |   0.737    |   0.581    |\n",
            "+-----------+------------+------------+\n",
            "\n",
            "\t[Epoch: 76] train loss = 0.5080 \t train accuracy = 0.7361\n",
            "\t[Epoch: 76] valid loss = 0.7236 \t valid accuracy = 0.5515\n",
            "\n",
            "####################################################################################################\n",
            " Epoch 77\n"
          ]
        },
        {
          "output_type": "stream",
          "name": "stderr",
          "text": [
            "Train Loss: 0.4141\tTrain accuracy: 0.7778\tTrain precision: 1.0000\tTrain recall: 0.6667\tTrain F1: 0.8000: 100%|██████████| 32/32 [00:00<00:00, 44.11it/s]\n"
          ]
        },
        {
          "output_type": "stream",
          "name": "stdout",
          "text": [
            "+-----------+------------+------------+\n",
            "|           |   TRAIN    | VALIDATION |\n",
            "+-----------+------------+------------+\n",
            "|   Loss    |   0.505    |   0.727    |\n",
            "| Accuracy  |   0.745    |   0.532    |\n",
            "| Precision |   0.761    |   0.504    |\n",
            "|  Recall   |   0.743    |   0.534    |\n",
            "|    F1     |   0.749    |   0.518    |\n",
            "+-----------+------------+------------+\n",
            "\n",
            "\t[Epoch: 77] train loss = 0.5047 \t train accuracy = 0.7448\n",
            "\t[Epoch: 77] valid loss = 0.7266 \t valid accuracy = 0.5322\n",
            "\n",
            "####################################################################################################\n",
            " Epoch 78\n"
          ]
        },
        {
          "output_type": "stream",
          "name": "stderr",
          "text": [
            "Train Loss: 0.6086\tTrain accuracy: 0.6667\tTrain precision: 0.6000\tTrain recall: 0.7500\tTrain F1: 0.6667: 100%|██████████| 32/32 [00:00<00:00, 32.83it/s]\n"
          ]
        },
        {
          "output_type": "stream",
          "name": "stdout",
          "text": [
            "+-----------+------------+------------+\n",
            "|           |   TRAIN    | VALIDATION |\n",
            "+-----------+------------+------------+\n",
            "|   Loss    |   0.511    |   0.731    |\n",
            "| Accuracy  |   0.741    |   0.533    |\n",
            "| Precision |   0.736    |   0.532    |\n",
            "|  Recall   |   0.755    |   0.533    |\n",
            "|    F1     |   0.743    |   0.532    |\n",
            "+-----------+------------+------------+\n",
            "\n",
            "\t[Epoch: 78] train loss = 0.5108 \t train accuracy = 0.7410\n",
            "\t[Epoch: 78] valid loss = 0.7309 \t valid accuracy = 0.5332\n",
            "\n",
            "####################################################################################################\n",
            " Epoch 79\n"
          ]
        },
        {
          "output_type": "stream",
          "name": "stderr",
          "text": [
            "Train Loss: 0.4198\tTrain accuracy: 0.6667\tTrain precision: 0.6667\tTrain recall: 0.8000\tTrain F1: 0.7273: 100%|██████████| 32/32 [00:00<00:00, 33.35it/s]\n"
          ]
        },
        {
          "output_type": "stream",
          "name": "stdout",
          "text": [
            "+-----------+------------+------------+\n",
            "|           |   TRAIN    | VALIDATION |\n",
            "+-----------+------------+------------+\n",
            "|   Loss    |   0.504    |   0.741    |\n",
            "| Accuracy  |   0.734    |   0.506    |\n",
            "| Precision |   0.753    |   0.366    |\n",
            "|  Recall   |   0.736    |   0.505    |\n",
            "|    F1     |   0.743    |   0.423    |\n",
            "+-----------+------------+------------+\n",
            "\n",
            "\t[Epoch: 79] train loss = 0.5035 \t train accuracy = 0.7342\n",
            "\t[Epoch: 79] valid loss = 0.7410 \t valid accuracy = 0.5062\n",
            "\n",
            "####################################################################################################\n",
            " Epoch 80\n"
          ]
        },
        {
          "output_type": "stream",
          "name": "stderr",
          "text": [
            "Train Loss: 0.5151\tTrain accuracy: 0.7778\tTrain precision: 0.8571\tTrain recall: 0.8571\tTrain F1: 0.8571: 100%|██████████| 32/32 [00:00<00:00, 32.93it/s]\n"
          ]
        },
        {
          "output_type": "stream",
          "name": "stdout",
          "text": [
            "+-----------+------------+------------+\n",
            "|           |   TRAIN    | VALIDATION |\n",
            "+-----------+------------+------------+\n",
            "|   Loss    |   0.501    |   0.729    |\n",
            "| Accuracy  |   0.738    |   0.553    |\n",
            "| Precision |   0.744    |   0.616    |\n",
            "|  Recall   |   0.743    |   0.546    |\n",
            "|    F1     |   0.742    |   0.578    |\n",
            "+-----------+------------+------------+\n",
            "\n",
            "\t[Epoch: 80] train loss = 0.5010 \t train accuracy = 0.7379\n",
            "\t[Epoch: 80] valid loss = 0.7295 \t valid accuracy = 0.5526\n",
            "\n",
            "####################################################################################################\n",
            " Epoch 81\n"
          ]
        },
        {
          "output_type": "stream",
          "name": "stderr",
          "text": [
            "Train Loss: 0.4539\tTrain accuracy: 0.6667\tTrain precision: 0.7500\tTrain recall: 0.6000\tTrain F1: 0.6667: 100%|██████████| 32/32 [00:00<00:00, 32.31it/s]\n"
          ]
        },
        {
          "output_type": "stream",
          "name": "stdout",
          "text": [
            "+-----------+------------+------------+\n",
            "|           |   TRAIN    | VALIDATION |\n",
            "+-----------+------------+------------+\n",
            "|   Loss    |   0.507    |   0.731    |\n",
            "| Accuracy  |   0.737    |   0.543    |\n",
            "| Precision |   0.753    |   0.511    |\n",
            "|  Recall   |   0.737    |   0.546    |\n",
            "|    F1     |   0.742    |   0.527    |\n",
            "+-----------+------------+------------+\n",
            "\n",
            "\t[Epoch: 81] train loss = 0.5067 \t train accuracy = 0.7369\n",
            "\t[Epoch: 81] valid loss = 0.7306 \t valid accuracy = 0.5430\n",
            "\n",
            "####################################################################################################\n",
            " Epoch 82\n"
          ]
        },
        {
          "output_type": "stream",
          "name": "stderr",
          "text": [
            "Train Loss: 0.5284\tTrain accuracy: 0.6667\tTrain precision: 0.8000\tTrain recall: 0.6667\tTrain F1: 0.7273: 100%|██████████| 32/32 [00:00<00:00, 44.44it/s]\n"
          ]
        },
        {
          "output_type": "stream",
          "name": "stdout",
          "text": [
            "+-----------+------------+------------+\n",
            "|           |   TRAIN    | VALIDATION |\n",
            "+-----------+------------+------------+\n",
            "|   Loss    |   0.508    |   0.731    |\n",
            "| Accuracy  |   0.734    |   0.548    |\n",
            "| Precision |   0.743    |   0.532    |\n",
            "|  Recall   |   0.739    |   0.549    |\n",
            "|    F1     |   0.739    |    0.54    |\n",
            "+-----------+------------+------------+\n",
            "\n",
            "\t[Epoch: 82] train loss = 0.5080 \t train accuracy = 0.7337\n",
            "\t[Epoch: 82] valid loss = 0.7311 \t valid accuracy = 0.5478\n",
            "\n",
            "####################################################################################################\n",
            " Epoch 83\n"
          ]
        },
        {
          "output_type": "stream",
          "name": "stderr",
          "text": [
            "Train Loss: 0.5536\tTrain accuracy: 0.6667\tTrain precision: 0.6000\tTrain recall: 0.7500\tTrain F1: 0.6667: 100%|██████████| 32/32 [00:00<00:00, 43.20it/s]\n"
          ]
        },
        {
          "output_type": "stream",
          "name": "stdout",
          "text": [
            "+-----------+------------+------------+\n",
            "|           |   TRAIN    | VALIDATION |\n",
            "+-----------+------------+------------+\n",
            "|   Loss    |   0.503    |   0.748    |\n",
            "| Accuracy  |   0.746    |   0.524    |\n",
            "| Precision |   0.755    |   0.468    |\n",
            "|  Recall   |   0.751    |   0.526    |\n",
            "|    F1     |   0.751    |   0.495    |\n",
            "+-----------+------------+------------+\n",
            "\n",
            "\t[Epoch: 83] train loss = 0.5027 \t train accuracy = 0.7457\n",
            "\t[Epoch: 83] valid loss = 0.7476 \t valid accuracy = 0.5236\n",
            "\n",
            "####################################################################################################\n",
            " Epoch 84\n"
          ]
        },
        {
          "output_type": "stream",
          "name": "stderr",
          "text": [
            "Train Loss: 0.2462\tTrain accuracy: 1.0000\tTrain precision: 1.0000\tTrain recall: 1.0000\tTrain F1: 1.0000: 100%|██████████| 32/32 [00:00<00:00, 44.48it/s]\n"
          ]
        },
        {
          "output_type": "stream",
          "name": "stdout",
          "text": [
            "+-----------+------------+------------+\n",
            "|           |   TRAIN    | VALIDATION |\n",
            "+-----------+------------+------------+\n",
            "|   Loss    |   0.498    |   0.741    |\n",
            "| Accuracy  |   0.756    |   0.539    |\n",
            "| Precision |   0.766    |   0.511    |\n",
            "|  Recall   |   0.758    |   0.541    |\n",
            "|    F1     |    0.76    |   0.525    |\n",
            "+-----------+------------+------------+\n",
            "\n",
            "\t[Epoch: 84] train loss = 0.4983 \t train accuracy = 0.7561\n",
            "\t[Epoch: 84] valid loss = 0.7412 \t valid accuracy = 0.5391\n",
            "\n",
            "####################################################################################################\n",
            " Epoch 85\n"
          ]
        },
        {
          "output_type": "stream",
          "name": "stderr",
          "text": [
            "Train Loss: 0.6452\tTrain accuracy: 0.6667\tTrain precision: 0.5000\tTrain recall: 0.6667\tTrain F1: 0.5714: 100%|██████████| 32/32 [00:00<00:00, 46.26it/s]\n"
          ]
        },
        {
          "output_type": "stream",
          "name": "stdout",
          "text": [
            "+-----------+------------+------------+\n",
            "|           |   TRAIN    | VALIDATION |\n",
            "+-----------+------------+------------+\n",
            "|   Loss    |   0.506    |   0.742    |\n",
            "| Accuracy  |   0.745    |   0.548    |\n",
            "| Precision |   0.749    |   0.544    |\n",
            "|  Recall   |   0.748    |   0.548    |\n",
            "|    F1     |   0.745    |   0.545    |\n",
            "+-----------+------------+------------+\n",
            "\n",
            "\t[Epoch: 85] train loss = 0.5065 \t train accuracy = 0.7447\n",
            "\t[Epoch: 85] valid loss = 0.7415 \t valid accuracy = 0.5478\n",
            "\n",
            "####################################################################################################\n",
            " Epoch 86\n"
          ]
        },
        {
          "output_type": "stream",
          "name": "stderr",
          "text": [
            "Train Loss: 0.7808\tTrain accuracy: 0.5556\tTrain precision: 0.6000\tTrain recall: 0.6000\tTrain F1: 0.6000: 100%|██████████| 32/32 [00:00<00:00, 42.80it/s]\n"
          ]
        },
        {
          "output_type": "stream",
          "name": "stdout",
          "text": [
            "+-----------+------------+------------+\n",
            "|           |   TRAIN    | VALIDATION |\n",
            "+-----------+------------+------------+\n",
            "|   Loss    |   0.505    |   0.741    |\n",
            "| Accuracy  |   0.746    |   0.553    |\n",
            "| Precision |    0.75    |   0.631    |\n",
            "|  Recall   |   0.755    |   0.544    |\n",
            "|    F1     |    0.75    |   0.584    |\n",
            "+-----------+------------+------------+\n",
            "\n",
            "\t[Epoch: 86] train loss = 0.5054 \t train accuracy = 0.7461\n",
            "\t[Epoch: 86] valid loss = 0.7410 \t valid accuracy = 0.5526\n",
            "\n",
            "####################################################################################################\n",
            " Epoch 87\n"
          ]
        },
        {
          "output_type": "stream",
          "name": "stderr",
          "text": [
            "Train Loss: 0.5091\tTrain accuracy: 0.7778\tTrain precision: 0.6000\tTrain recall: 1.0000\tTrain F1: 0.7500: 100%|██████████| 32/32 [00:00<00:00, 43.34it/s]\n"
          ]
        },
        {
          "output_type": "stream",
          "name": "stdout",
          "text": [
            "+-----------+------------+------------+\n",
            "|           |   TRAIN    | VALIDATION |\n",
            "+-----------+------------+------------+\n",
            "|   Loss    |   0.505    |   0.733    |\n",
            "| Accuracy  |   0.739    |   0.542    |\n",
            "| Precision |   0.754    |   0.568    |\n",
            "|  Recall   |   0.743    |   0.539    |\n",
            "|    F1     |   0.745    |   0.553    |\n",
            "+-----------+------------+------------+\n",
            "\n",
            "\t[Epoch: 87] train loss = 0.5049 \t train accuracy = 0.7389\n",
            "\t[Epoch: 87] valid loss = 0.7334 \t valid accuracy = 0.5419\n",
            "\n",
            "####################################################################################################\n",
            " Epoch 88\n"
          ]
        },
        {
          "output_type": "stream",
          "name": "stderr",
          "text": [
            "Train Loss: 0.3733\tTrain accuracy: 0.7778\tTrain precision: 1.0000\tTrain recall: 0.6667\tTrain F1: 0.8000: 100%|██████████| 32/32 [00:00<00:00, 43.46it/s]\n"
          ]
        },
        {
          "output_type": "stream",
          "name": "stdout",
          "text": [
            "+-----------+------------+------------+\n",
            "|           |   TRAIN    | VALIDATION |\n",
            "+-----------+------------+------------+\n",
            "|   Loss    |   0.484    |   0.758    |\n",
            "| Accuracy  |   0.761    |   0.547    |\n",
            "| Precision |   0.767    |   0.701    |\n",
            "|  Recall   |   0.762    |   0.535    |\n",
            "|    F1     |   0.763    |   0.607    |\n",
            "+-----------+------------+------------+\n",
            "\n",
            "\t[Epoch: 88] train loss = 0.4840 \t train accuracy = 0.7609\n",
            "\t[Epoch: 88] valid loss = 0.7578 \t valid accuracy = 0.5467\n",
            "\n",
            "####################################################################################################\n",
            " Epoch 89\n"
          ]
        },
        {
          "output_type": "stream",
          "name": "stderr",
          "text": [
            "Train Loss: 0.7489\tTrain accuracy: 0.6667\tTrain precision: 0.5000\tTrain recall: 0.6667\tTrain F1: 0.5714: 100%|██████████| 32/32 [00:00<00:00, 44.76it/s]\n"
          ]
        },
        {
          "output_type": "stream",
          "name": "stdout",
          "text": [
            "Early stopping on epoch 89\n",
            "Keeping best accuracy validation weights (epoch 13)\n"
          ]
        }
      ],
      "source": [
        "# Train the LSTM model\n",
        "train_metrics,valid_metrics = trainer.train(training_dataloader,\n",
        "                                            validation_dataloader,\n",
        "                                            epochs=250,\n",
        "                                            early_stopper = 75,\n",
        "                                            best_val_acc=True)"
      ]
    },
    {
      "cell_type": "markdown",
      "metadata": {
        "id": "aml-6QfmTUEW"
      },
      "source": [
        "# Explaining the LSTM results"
      ]
    },
    {
      "cell_type": "code",
      "source": [
        "# Compute and print the final metrics for the train dataset\n",
        "train_loss, train_acc, train_precision, train_recall, train_f1 = trainer.evaluate(training_dataloader)\n",
        "print(\"Train loss {:.4f}, Train accuracy: {:.4f}, Train precision: {:.4f}, Train recall: {:.4f}, Train F1: {:.4f}\".format(train_loss, train_acc, train_precision, train_recall, train_f1))\n",
        "\n",
        "# Compute and print the final metrics for the valid dataset\n",
        "valid_loss, valid_acc, valid_precision, valid_recall, valid_f1 = trainer.evaluate(validation_dataloader)\n",
        "print(\"Valid loss {:.4f}, Valid accuracy: {:.4f}, Valid precision: {:.4f}, Valid recall: {:.4f}, Valid F1: {:.4f}\".format(valid_loss, valid_acc, valid_precision, valid_recall, valid_f1))\n",
        "\n",
        "# Compute and print the metrics for the test dataset\n",
        "test_loss, test_acc, test_precision, test_recall, test_f1 = trainer.evaluate(test_dataloader)\n",
        "print(\"Test loss {:.4f}, Test accuracy: {:.4f}, Test precision: {:.4f}, Test recall: {:.4f}, Test F1: {:.4f}\".format(test_loss,test_acc,test_precision, test_recall, test_f1))"
      ],
      "metadata": {
        "colab": {
          "base_uri": "https://localhost:8080/"
        },
        "id": "sErapWFkb9wl",
        "outputId": "da6a1549-5895-4275-d6e2-a7908b37e492"
      },
      "execution_count": 48,
      "outputs": [
        {
          "output_type": "stream",
          "name": "stdout",
          "text": [
            "Train loss 0.5800, Train accuracy: 0.6829, Train precision: 0.7578, Train recall: 0.6619, Train F1: 0.7055\n",
            "Valid loss 0.6653, Valid accuracy: 0.6321, Valid precision: 0.5883, Valid recall: 0.6407, Valid F1: 0.6128\n",
            "Test loss 0.6612, Test accuracy: 0.5775, Test precision: 0.7664, Test recall: 0.5730, Test F1: 0.6521\n"
          ]
        }
      ]
    },
    {
      "cell_type": "code",
      "execution_count": 66,
      "metadata": {
        "colab": {
          "base_uri": "https://localhost:8080/",
          "height": 878
        },
        "id": "8lSmXDA9TX6K",
        "outputId": "a75100ed-4d19-4aec-f2a2-c2aaf9611d1b"
      },
      "outputs": [
        {
          "output_type": "display_data",
          "data": {
            "text/plain": [
              "<Figure size 1400x1200 with 6 Axes>"
            ],
            "image/png": "[encoded data removed]"
          },
          "metadata": {}
        }
      ],
      "source": [
        "# Plot all the metrics evolution through the epochs\n",
        "\n",
        "# Create a figure with 3 rows and 2 columns of subplots\n",
        "fig, axis = plt.subplots(3, 2, figsize=(14, 12))\n",
        "fig.suptitle('Metrics Evolution Through Epochs', fontsize=16)\n",
        "\n",
        "# Plot the loss evolution\n",
        "axis[0, 0].set_title(\"Losses\", fontsize=14)\n",
        "axis[0, 0].plot(train_metrics[\"train_losses\"], label=\"Train\", color='blue')\n",
        "axis[0, 0].plot(valid_metrics[\"val_losses\"], label=\"Validation\", color='orange')\n",
        "axis[0, 0].axhline(test_loss, linestyle='--', color='red', label='Test')\n",
        "axis[0, 0].set_xlabel('Epochs', fontsize=12)\n",
        "axis[0, 0].set_ylabel('Loss', fontsize=12)\n",
        "axis[0, 0].legend()\n",
        "axis[0, 0].grid(True)\n",
        "\n",
        "# Plot the accuracy evolution\n",
        "axis[0, 1].set_title(\"Accuracy\", fontsize=14)\n",
        "axis[0, 1].plot(train_metrics[\"train_acc\"], label=\"Train Accuracy\", color='blue')\n",
        "axis[0, 1].plot(valid_metrics[\"val_acc\"], label=\"Validation Accuracy\", color='orange')\n",
        "axis[0, 1].axhline(test_acc, linestyle='--', color='red', label='Test Accuracy')\n",
        "# Add baseline accuracies\n",
        "axis[0, 1].axhline(random_choice_accuracy, linestyle=':', color='green', label='Random Choice')\n",
        "axis[0, 1].axhline(always_1_accuracy, linestyle=':', color='magenta', label='Always 1')\n",
        "axis[0, 1].axhline(always_0_accuracy, linestyle=':', color='blueviolet', label='Always 0')\n",
        "axis[0, 1].set_xlabel('Epochs', fontsize=12)\n",
        "axis[0, 1].set_ylabel('Accuracy', fontsize=12)\n",
        "axis[0, 1].legend()\n",
        "axis[0, 1].grid(True)\n",
        "\n",
        "# Plot the precision evolution\n",
        "axis[1, 0].set_title(\"Precision\", fontsize=14)\n",
        "axis[1, 0].plot(train_metrics[\"train_precision\"], label=\"Train Precision\", color='blue')\n",
        "axis[1, 0].plot(valid_metrics[\"val_precision\"], label=\"Validation Precision\", color='orange')\n",
        "axis[1, 0].axhline(test_precision, linestyle='--', color='red', label='Test Precision')\n",
        "axis[1, 0].set_xlabel('Epochs', fontsize=12)\n",
        "axis[1, 0].set_ylabel('Precision', fontsize=12)\n",
        "axis[1, 0].legend()\n",
        "axis[1, 0].grid(True)\n",
        "\n",
        "# Plot the recall evolution\n",
        "axis[1, 1].set_title(\"Recall\", fontsize=14)\n",
        "axis[1, 1].plot(train_metrics[\"train_recall\"], label=\"Train Recall\", color='blue')\n",
        "axis[1, 1].plot(valid_metrics[\"val_recall\"], label=\"Validation Recall\", color='orange')\n",
        "axis[1, 1].axhline(test_recall, linestyle='--', color='red', label='Test Recall')\n",
        "axis[1, 1].set_xlabel('Epochs', fontsize=12)\n",
        "axis[1, 1].set_ylabel('Recall', fontsize=12)\n",
        "axis[1, 1].legend()\n",
        "axis[1, 1].grid(True)\n",
        "\n",
        "# Plot the F1 score evolution\n",
        "axis[2, 0].set_title(\"F1 Score\", fontsize=14)\n",
        "axis[2, 0].plot(train_metrics[\"train_f1\"], label=\"Train F1\", color='blue')\n",
        "axis[2, 0].plot(valid_metrics[\"val_f1\"], label=\"Validation F1\", color='orange')\n",
        "axis[2, 0].axhline(test_f1, linestyle='--', color='red', label='Test F1')\n",
        "axis[2, 0].set_xlabel('Epochs', fontsize=12)\n",
        "axis[2, 0].set_ylabel('F1 Score', fontsize=12)\n",
        "axis[2, 0].legend()\n",
        "axis[2, 0].grid(True)\n",
        "\n",
        "# Hide the unused subplot\n",
        "axis[2, 1].axis('off')\n",
        "\n",
        "# Adjust layout to prevent overlap\n",
        "plt.tight_layout(rect=[0, 0, 1, 0.96])\n",
        "\n",
        "# Display the plot\n",
        "plt.show()"
      ]
    },
    {
      "cell_type": "markdown",
      "metadata": {
        "id": "wvE4mh-7hTB7"
      },
      "source": [
        "# GRU model"
      ]
    },
    {
      "cell_type": "code",
      "execution_count": 59,
      "metadata": {
        "id": "DAXw7SbbWMxz"
      },
      "outputs": [],
      "source": [
        "# Create the hyperparameters for the GRU model\n",
        "GRU_HP = HyperParametersClass(\n",
        "    embedding_dim=embedding_dim,\n",
        "    hidden_dim=64,\n",
        "    gru_layers=2,\n",
        "    gru_dropout=0.5,\n",
        "    num_classes=2,\n",
        "    padding_id=train_dataset.padding_id,\n",
        "    device=DEVICE,\n",
        "    bidirectional = True,\n",
        "    word2vec_embeddings = word_embeddings\n",
        ")"
      ]
    },
    {
      "cell_type": "code",
      "execution_count": 60,
      "metadata": {
        "id": "rjy18ZRoeDH8"
      },
      "outputs": [],
      "source": [
        "class GRUModel(nn.Module):\n",
        "    # Define the GRU model\n",
        "    def __init__(self, hparams) -> None:\n",
        "        super().__init__()\n",
        "\n",
        "        # Save the hyperparameters\n",
        "        self.hparams = hparams\n",
        "\n",
        "        # Create the embedding layer with pre-trained word2vec embeddings\n",
        "        # The weights of the embedding layer are frozen\n",
        "        self.embedding = nn.Embedding.from_pretrained(\n",
        "            self.hparams.word2vec_embeddings,\n",
        "            padding_idx=self.hparams.padding_id,\n",
        "            freeze=True\n",
        "        ).to(self.hparams.device)\n",
        "\n",
        "        # Create the GRU layers\n",
        "        self.gru = nn.GRU(\n",
        "            input_size=self.hparams.embedding_dim,\n",
        "            hidden_size=self.hparams.hidden_dim,\n",
        "            num_layers=self.hparams.gru_layers,\n",
        "            batch_first=True,\n",
        "            dropout=self.hparams.gru_dropout,\n",
        "            bidirectional=self.hparams.bidirectional,\n",
        "            device=self.hparams.device\n",
        "        )\n",
        "\n",
        "        # Determine the output dimension of the GRU\n",
        "        gru_output_dim = self.hparams.hidden_dim * 2 if self.hparams.bidirectional else self.hparams.hidden_dim\n",
        "\n",
        "        # Create the dropout layer\n",
        "        self.dropout = nn.Dropout(self.hparams.gru_dropout)\n",
        "\n",
        "        # Create the projection layer for the classification\n",
        "        self.projection = nn.Linear(\n",
        "            in_features=gru_output_dim,\n",
        "            out_features=self.hparams.num_classes,\n",
        "            device=self.hparams.device\n",
        "        )\n",
        "\n",
        "    def forward(self, batch: tuple[torch.Tensor, torch.Tensor]) -> torch.Tensor:\n",
        "        # Get the sequence lengths and input IDs from the batch\n",
        "        sequence_lengths, input_ids = batch\n",
        "\n",
        "        # Embed the input tokens and apply dropout\n",
        "        embeds = self.embedding(input_ids)\n",
        "        embeds = self.dropout(embeds)\n",
        "\n",
        "        # Pack the sequence for the GRU\n",
        "        packed = pack_padded_sequence(embeds, sequence_lengths, batch_first=True, enforce_sorted=False)\n",
        "\n",
        "        # Pass the packed sequence through the GRU\n",
        "        packed_output, hidden_state = self.gru(packed)\n",
        "\n",
        "        # If bidirectional, concatenate the final forward and backward hidden states\n",
        "        if self.hparams.bidirectional:\n",
        "            hidden = torch.cat((hidden_state[-2, :, :], hidden_state[-1, :, :]), dim=1)\n",
        "        else:\n",
        "            hidden = hidden_state[-1, :, :]\n",
        "\n",
        "        # Apply dropout to the hidden state and project to the number of classes\n",
        "        hidden = self.dropout(hidden)\n",
        "        logits = self.projection(hidden)\n",
        "\n",
        "        # Return the logits of each class\n",
        "        return logits\n"
      ]
    },
    {
      "cell_type": "markdown",
      "metadata": {
        "id": "Ste4_ViZiXAT"
      },
      "source": [
        "# Training GRU"
      ]
    },
    {
      "cell_type": "code",
      "execution_count": 61,
      "metadata": {
        "id": "4YzcMwzQiXAV"
      },
      "outputs": [],
      "source": [
        "# Create the GRU model\n",
        "irony_tagger_gru = GRUModel(GRU_HP)"
      ]
    },
    {
      "cell_type": "code",
      "execution_count": 62,
      "metadata": {
        "id": "vjb-MAlJiXAV"
      },
      "outputs": [],
      "source": [
        "# Create the Trainer for the GRU model\n",
        "trainer_gru = Trainer(\n",
        "    model=irony_tagger_gru,\n",
        "    optimizer=torch.optim.Adam(irony_tagger_gru.parameters(), lr=0.00010),\n",
        ")"
      ]
    },
    {
      "cell_type": "code",
      "execution_count": 63,
      "metadata": {
        "id": "R4gCUNZZiXAW",
        "colab": {
          "base_uri": "https://localhost:8080/"
        },
        "outputId": "421fc77b-b07d-4359-b64d-fffc434d6141"
      },
      "outputs": [
        {
          "output_type": "stream",
          "name": "stdout",
          "text": [
            "Training ...\n",
            "####################################################################################################\n",
            " Epoch  1\n"
          ]
        },
        {
          "output_type": "stream",
          "name": "stderr",
          "text": [
            "Train Loss: 0.7471\tTrain accuracy: 0.3333\tTrain precision: 0.2500\tTrain recall: 0.2500\tTrain F1: 0.2500: 100%|██████████| 32/32 [00:00<00:00, 48.16it/s]\n"
          ]
        },
        {
          "output_type": "stream",
          "name": "stdout",
          "text": [
            "+-----------+------------+------------+\n",
            "|           |   TRAIN    | VALIDATION |\n",
            "+-----------+------------+------------+\n",
            "|   Loss    |    0.7     |   0.692    |\n",
            "| Accuracy  |   0.496    |   0.505    |\n",
            "| Precision |   0.429    |   0.913    |\n",
            "|  Recall   |   0.504    |   0.502    |\n",
            "|    F1     |   0.459    |   0.648    |\n",
            "+-----------+------------+------------+\n",
            "\n",
            "\t[Epoch:  1] train loss = 0.6995 \t train accuracy = 0.4963\n",
            "\t[Epoch:  1] valid loss = 0.6920 \t valid accuracy = 0.5050\n",
            "\n",
            "####################################################################################################\n",
            " Epoch  2\n"
          ]
        },
        {
          "output_type": "stream",
          "name": "stderr",
          "text": [
            "Train Loss: 0.6956\tTrain accuracy: 0.5556\tTrain precision: 0.5000\tTrain recall: 0.5000\tTrain F1: 0.5000: 100%|██████████| 32/32 [00:00<00:00, 43.70it/s]\n"
          ]
        },
        {
          "output_type": "stream",
          "name": "stdout",
          "text": [
            "+-----------+------------+------------+\n",
            "|           |   TRAIN    | VALIDATION |\n",
            "+-----------+------------+------------+\n",
            "|   Loss    |   0.691    |    0.69    |\n",
            "| Accuracy  |   0.529    |   0.501    |\n",
            "| Precision |   0.578    |   0.926    |\n",
            "|  Recall   |   0.533    |    0.5     |\n",
            "|    F1     |   0.553    |   0.649    |\n",
            "+-----------+------------+------------+\n",
            "\n",
            "\t[Epoch:  2] train loss = 0.6910 \t train accuracy = 0.5288\n",
            "\t[Epoch:  2] valid loss = 0.6901 \t valid accuracy = 0.5011\n",
            "\n",
            "####################################################################################################\n",
            " Epoch  3\n"
          ]
        },
        {
          "output_type": "stream",
          "name": "stderr",
          "text": [
            "Train Loss: 0.7004\tTrain accuracy: 0.4444\tTrain precision: 0.5000\tTrain recall: 0.4000\tTrain F1: 0.4444: 100%|██████████| 32/32 [00:00<00:00, 45.79it/s]\n"
          ]
        },
        {
          "output_type": "stream",
          "name": "stdout",
          "text": [
            "+-----------+------------+------------+\n",
            "|           |   TRAIN    | VALIDATION |\n",
            "+-----------+------------+------------+\n",
            "|   Loss    |   0.688    |   0.688    |\n",
            "| Accuracy  |   0.536    |   0.525    |\n",
            "| Precision |   0.585    |   0.921    |\n",
            "|  Recall   |   0.538    |   0.514    |\n",
            "|    F1     |   0.559    |   0.659    |\n",
            "+-----------+------------+------------+\n",
            "\n",
            "\t[Epoch:  3] train loss = 0.6881 \t train accuracy = 0.5356\n",
            "\t[Epoch:  3] valid loss = 0.6880 \t valid accuracy = 0.5254\n",
            "\n",
            "####################################################################################################\n",
            " Epoch  4\n"
          ]
        },
        {
          "output_type": "stream",
          "name": "stderr",
          "text": [
            "Train Loss: 0.6365\tTrain accuracy: 0.5556\tTrain precision: 0.5000\tTrain recall: 0.5000\tTrain F1: 0.5000: 100%|██████████| 32/32 [00:00<00:00, 47.69it/s]\n"
          ]
        },
        {
          "output_type": "stream",
          "name": "stdout",
          "text": [
            "+-----------+------------+------------+\n",
            "|           |   TRAIN    | VALIDATION |\n",
            "+-----------+------------+------------+\n",
            "|   Loss    |   0.678    |   0.686    |\n",
            "| Accuracy  |   0.572    |   0.549    |\n",
            "| Precision |    0.62    |   0.909    |\n",
            "|  Recall   |   0.571    |   0.528    |\n",
            "|    F1     |   0.593    |   0.668    |\n",
            "+-----------+------------+------------+\n",
            "\n",
            "\t[Epoch:  4] train loss = 0.6783 \t train accuracy = 0.5718\n",
            "\t[Epoch:  4] valid loss = 0.6860 \t valid accuracy = 0.5487\n",
            "\n",
            "####################################################################################################\n",
            " Epoch  5\n"
          ]
        },
        {
          "output_type": "stream",
          "name": "stderr",
          "text": [
            "Train Loss: 0.6634\tTrain accuracy: 0.6667\tTrain precision: 0.3333\tTrain recall: 0.5000\tTrain F1: 0.4000: 100%|██████████| 32/32 [00:00<00:00, 44.23it/s]\n"
          ]
        },
        {
          "output_type": "stream",
          "name": "stdout",
          "text": [
            "+-----------+------------+------------+\n",
            "|           |   TRAIN    | VALIDATION |\n",
            "+-----------+------------+------------+\n",
            "|   Loss    |   0.673    |   0.683    |\n",
            "| Accuracy  |   0.592    |   0.573    |\n",
            "| Precision |   0.619    |   0.847    |\n",
            "|  Recall   |   0.589    |   0.547    |\n",
            "|    F1     |   0.601    |   0.664    |\n",
            "+-----------+------------+------------+\n",
            "\n",
            "\t[Epoch:  5] train loss = 0.6730 \t train accuracy = 0.5919\n",
            "\t[Epoch:  5] valid loss = 0.6831 \t valid accuracy = 0.5730\n",
            "\n",
            "####################################################################################################\n",
            " Epoch  6\n"
          ]
        },
        {
          "output_type": "stream",
          "name": "stderr",
          "text": [
            "Train Loss: 0.6569\tTrain accuracy: 0.5556\tTrain precision: 0.8000\tTrain recall: 0.5714\tTrain F1: 0.6667: 100%|██████████| 32/32 [00:00<00:00, 43.92it/s]\n"
          ]
        },
        {
          "output_type": "stream",
          "name": "stdout",
          "text": [
            "+-----------+------------+------------+\n",
            "|           |   TRAIN    | VALIDATION |\n",
            "+-----------+------------+------------+\n",
            "|   Loss    |   0.665    |   0.682    |\n",
            "| Accuracy  |   0.616    |   0.565    |\n",
            "| Precision |   0.649    |   0.907    |\n",
            "|  Recall   |    0.62    |   0.538    |\n",
            "|    F1     |   0.631    |   0.675    |\n",
            "+-----------+------------+------------+\n",
            "\n",
            "\t[Epoch:  6] train loss = 0.6646 \t train accuracy = 0.6162\n",
            "\t[Epoch:  6] valid loss = 0.6820 \t valid accuracy = 0.5652\n",
            "\n",
            "####################################################################################################\n",
            " Epoch  7\n"
          ]
        },
        {
          "output_type": "stream",
          "name": "stderr",
          "text": [
            "Train Loss: 0.5948\tTrain accuracy: 0.7778\tTrain precision: 0.8333\tTrain recall: 0.8333\tTrain F1: 0.8333: 100%|██████████| 32/32 [00:00<00:00, 45.06it/s]\n"
          ]
        },
        {
          "output_type": "stream",
          "name": "stdout",
          "text": [
            "+-----------+------------+------------+\n",
            "|           |   TRAIN    | VALIDATION |\n",
            "+-----------+------------+------------+\n",
            "|   Loss    |   0.654    |   0.678    |\n",
            "| Accuracy  |   0.639    |   0.584    |\n",
            "| Precision |   0.725    |   0.864    |\n",
            "|  Recall   |   0.627    |   0.553    |\n",
            "|    F1     |    0.67    |   0.674    |\n",
            "+-----------+------------+------------+\n",
            "\n",
            "\t[Epoch:  7] train loss = 0.6538 \t train accuracy = 0.6388\n",
            "\t[Epoch:  7] valid loss = 0.6784 \t valid accuracy = 0.5837\n",
            "\n",
            "####################################################################################################\n",
            " Epoch  8\n"
          ]
        },
        {
          "output_type": "stream",
          "name": "stderr",
          "text": [
            "Train Loss: 0.6636\tTrain accuracy: 0.5556\tTrain precision: 0.2500\tTrain recall: 0.5000\tTrain F1: 0.3333: 100%|██████████| 32/32 [00:00<00:00, 47.59it/s]\n"
          ]
        },
        {
          "output_type": "stream",
          "name": "stdout",
          "text": [
            "+-----------+------------+------------+\n",
            "|           |   TRAIN    | VALIDATION |\n",
            "+-----------+------------+------------+\n",
            "|   Loss    |   0.648    |   0.676    |\n",
            "| Accuracy  |   0.649    |   0.598    |\n",
            "| Precision |   0.711    |   0.864    |\n",
            "|  Recall   |   0.634    |   0.564    |\n",
            "|    F1     |   0.667    |   0.682    |\n",
            "+-----------+------------+------------+\n",
            "\n",
            "\t[Epoch:  8] train loss = 0.6480 \t train accuracy = 0.6492\n",
            "\t[Epoch:  8] valid loss = 0.6757 \t valid accuracy = 0.5983\n",
            "\n",
            "####################################################################################################\n",
            " Epoch  9\n"
          ]
        },
        {
          "output_type": "stream",
          "name": "stderr",
          "text": [
            "Train Loss: 0.6740\tTrain accuracy: 0.5556\tTrain precision: 0.6000\tTrain recall: 0.6000\tTrain F1: 0.6000: 100%|██████████| 32/32 [00:00<00:00, 46.25it/s]\n"
          ]
        },
        {
          "output_type": "stream",
          "name": "stdout",
          "text": [
            "+-----------+------------+------------+\n",
            "|           |   TRAIN    | VALIDATION |\n",
            "+-----------+------------+------------+\n",
            "|   Loss    |   0.634    |   0.671    |\n",
            "| Accuracy  |   0.657    |   0.601    |\n",
            "| Precision |   0.728    |   0.803    |\n",
            "|  Recall   |   0.645    |   0.572    |\n",
            "|    F1     |   0.682    |   0.668    |\n",
            "+-----------+------------+------------+\n",
            "\n",
            "\t[Epoch:  9] train loss = 0.6339 \t train accuracy = 0.6570\n",
            "\t[Epoch:  9] valid loss = 0.6714 \t valid accuracy = 0.6013\n",
            "\n",
            "####################################################################################################\n",
            " Epoch 10\n"
          ]
        },
        {
          "output_type": "stream",
          "name": "stderr",
          "text": [
            "Train Loss: 0.4662\tTrain accuracy: 0.8889\tTrain precision: 1.0000\tTrain recall: 0.7500\tTrain F1: 0.8571: 100%|██████████| 32/32 [00:00<00:00, 41.12it/s]\n"
          ]
        },
        {
          "output_type": "stream",
          "name": "stdout",
          "text": [
            "+-----------+------------+------------+\n",
            "|           |   TRAIN    | VALIDATION |\n",
            "+-----------+------------+------------+\n",
            "|   Loss    |   0.619    |   0.673    |\n",
            "| Accuracy  |   0.675    |   0.588    |\n",
            "| Precision |   0.737    |   0.829    |\n",
            "|  Recall   |   0.661    |   0.559    |\n",
            "|    F1     |   0.696    |   0.668    |\n",
            "+-----------+------------+------------+\n",
            "\n",
            "\t[Epoch: 10] train loss = 0.6189 \t train accuracy = 0.6755\n",
            "\t[Epoch: 10] valid loss = 0.6731 \t valid accuracy = 0.5885\n",
            "\n",
            "####################################################################################################\n",
            " Epoch 11\n"
          ]
        },
        {
          "output_type": "stream",
          "name": "stderr",
          "text": [
            "Train Loss: 0.5626\tTrain accuracy: 0.8889\tTrain precision: 0.8571\tTrain recall: 1.0000\tTrain F1: 0.9231: 100%|██████████| 32/32 [00:00<00:00, 35.24it/s]\n"
          ]
        },
        {
          "output_type": "stream",
          "name": "stdout",
          "text": [
            "+-----------+------------+------------+\n",
            "|           |   TRAIN    | VALIDATION |\n",
            "+-----------+------------+------------+\n",
            "|   Loss    |   0.613    |   0.668    |\n",
            "| Accuracy  |   0.681    |   0.618    |\n",
            "| Precision |   0.731    |   0.721    |\n",
            "|  Recall   |   0.674    |   0.596    |\n",
            "|    F1     |   0.699    |   0.652    |\n",
            "+-----------+------------+------------+\n",
            "\n",
            "\t[Epoch: 11] train loss = 0.6129 \t train accuracy = 0.6806\n",
            "\t[Epoch: 11] valid loss = 0.6680 \t valid accuracy = 0.6178\n",
            "\n",
            "####################################################################################################\n",
            " Epoch 12\n"
          ]
        },
        {
          "output_type": "stream",
          "name": "stderr",
          "text": [
            "Train Loss: 0.5428\tTrain accuracy: 0.6667\tTrain precision: 1.0000\tTrain recall: 0.5000\tTrain F1: 0.6667: 100%|██████████| 32/32 [00:00<00:00, 33.69it/s]\n"
          ]
        },
        {
          "output_type": "stream",
          "name": "stdout",
          "text": [
            "+-----------+------------+------------+\n",
            "|           |   TRAIN    | VALIDATION |\n",
            "+-----------+------------+------------+\n",
            "|   Loss    |   0.601    |    0.67    |\n",
            "| Accuracy  |   0.675    |   0.622    |\n",
            "| Precision |   0.742    |   0.667    |\n",
            "|  Recall   |   0.659    |   0.611    |\n",
            "|    F1     |   0.695    |   0.637    |\n",
            "+-----------+------------+------------+\n",
            "\n",
            "\t[Epoch: 12] train loss = 0.6008 \t train accuracy = 0.6751\n",
            "\t[Epoch: 12] valid loss = 0.6702 \t valid accuracy = 0.6217\n",
            "\n",
            "####################################################################################################\n",
            " Epoch 13\n"
          ]
        },
        {
          "output_type": "stream",
          "name": "stderr",
          "text": [
            "Train Loss: 0.7520\tTrain accuracy: 0.2222\tTrain precision: 0.5000\tTrain recall: 0.2857\tTrain F1: 0.3636: 100%|██████████| 32/32 [00:00<00:00, 32.64it/s]\n"
          ]
        },
        {
          "output_type": "stream",
          "name": "stdout",
          "text": [
            "+-----------+------------+------------+\n",
            "|           |   TRAIN    | VALIDATION |\n",
            "+-----------+------------+------------+\n",
            "|   Loss    |   0.606    |   0.682    |\n",
            "| Accuracy  |   0.661    |   0.568    |\n",
            "| Precision |   0.706    |   0.378    |\n",
            "|  Recall   |   0.657    |   0.606    |\n",
            "|    F1     |   0.677    |   0.464    |\n",
            "+-----------+------------+------------+\n",
            "\n",
            "\t[Epoch: 13] train loss = 0.6065 \t train accuracy = 0.6608\n",
            "\t[Epoch: 13] valid loss = 0.6820 \t valid accuracy = 0.5681\n",
            "\n",
            "####################################################################################################\n",
            " Epoch 14\n"
          ]
        },
        {
          "output_type": "stream",
          "name": "stderr",
          "text": [
            "Train Loss: 0.5665\tTrain accuracy: 0.5556\tTrain precision: 0.7500\tTrain recall: 0.5000\tTrain F1: 0.6000: 100%|██████████| 32/32 [00:00<00:00, 34.08it/s]\n"
          ]
        },
        {
          "output_type": "stream",
          "name": "stdout",
          "text": [
            "+-----------+------------+------------+\n",
            "|           |   TRAIN    | VALIDATION |\n",
            "+-----------+------------+------------+\n",
            "|   Loss    |   0.596    |   0.675    |\n",
            "| Accuracy  |   0.675    |   0.608    |\n",
            "| Precision |   0.709    |    0.55    |\n",
            "|  Recall   |   0.673    |   0.621    |\n",
            "|    F1     |   0.684    |   0.582    |\n",
            "+-----------+------------+------------+\n",
            "\n",
            "\t[Epoch: 14] train loss = 0.5962 \t train accuracy = 0.6748\n",
            "\t[Epoch: 14] valid loss = 0.6752 \t valid accuracy = 0.6080\n",
            "\n",
            "####################################################################################################\n",
            " Epoch 15\n"
          ]
        },
        {
          "output_type": "stream",
          "name": "stderr",
          "text": [
            "Train Loss: 0.5237\tTrain accuracy: 0.6667\tTrain precision: 0.6667\tTrain recall: 0.5000\tTrain F1: 0.5714: 100%|██████████| 32/32 [00:00<00:00, 44.95it/s]\n"
          ]
        },
        {
          "output_type": "stream",
          "name": "stdout",
          "text": [
            "+-----------+------------+------------+\n",
            "|           |   TRAIN    | VALIDATION |\n",
            "+-----------+------------+------------+\n",
            "|   Loss    |    0.59    |   0.675    |\n",
            "| Accuracy  |   0.684    |   0.616    |\n",
            "| Precision |   0.696    |   0.586    |\n",
            "|  Recall   |   0.684    |   0.624    |\n",
            "|    F1     |   0.686    |   0.603    |\n",
            "+-----------+------------+------------+\n",
            "\n",
            "\t[Epoch: 15] train loss = 0.5900 \t train accuracy = 0.6839\n",
            "\t[Epoch: 15] valid loss = 0.6750 \t valid accuracy = 0.6158\n",
            "\n",
            "####################################################################################################\n",
            " Epoch 16\n"
          ]
        },
        {
          "output_type": "stream",
          "name": "stderr",
          "text": [
            "Train Loss: 0.5421\tTrain accuracy: 0.8889\tTrain precision: 1.0000\tTrain recall: 0.8000\tTrain F1: 0.8889: 100%|██████████| 32/32 [00:00<00:00, 44.67it/s]\n"
          ]
        },
        {
          "output_type": "stream",
          "name": "stdout",
          "text": [
            "+-----------+------------+------------+\n",
            "|           |   TRAIN    | VALIDATION |\n",
            "+-----------+------------+------------+\n",
            "|   Loss    |   0.588    |   0.674    |\n",
            "| Accuracy  |   0.687    |   0.628    |\n",
            "| Precision |   0.699    |   0.655    |\n",
            "|  Recall   |   0.691    |   0.621    |\n",
            "|    F1     |   0.692    |   0.637    |\n",
            "+-----------+------------+------------+\n",
            "\n",
            "\t[Epoch: 16] train loss = 0.5883 \t train accuracy = 0.6874\n",
            "\t[Epoch: 16] valid loss = 0.6742 \t valid accuracy = 0.6285\n",
            "\n",
            "####################################################################################################\n",
            " Epoch 17\n"
          ]
        },
        {
          "output_type": "stream",
          "name": "stderr",
          "text": [
            "Train Loss: 0.6372\tTrain accuracy: 0.6667\tTrain precision: 1.0000\tTrain recall: 0.4000\tTrain F1: 0.5714: 100%|██████████| 32/32 [00:00<00:00, 47.33it/s]\n"
          ]
        },
        {
          "output_type": "stream",
          "name": "stdout",
          "text": [
            "+-----------+------------+------------+\n",
            "|           |   TRAIN    | VALIDATION |\n",
            "+-----------+------------+------------+\n",
            "|   Loss    |   0.588    |   0.676    |\n",
            "| Accuracy  |   0.686    |   0.631    |\n",
            "| Precision |   0.711    |   0.655    |\n",
            "|  Recall   |    0.68    |   0.624    |\n",
            "|    F1     |    0.69    |   0.639    |\n",
            "+-----------+------------+------------+\n",
            "\n",
            "\t[Epoch: 17] train loss = 0.5880 \t train accuracy = 0.6864\n",
            "\t[Epoch: 17] valid loss = 0.6763 \t valid accuracy = 0.6313\n",
            "\n",
            "####################################################################################################\n",
            " Epoch 18\n"
          ]
        },
        {
          "output_type": "stream",
          "name": "stderr",
          "text": [
            "Train Loss: 1.0052\tTrain accuracy: 0.2222\tTrain precision: 0.4000\tTrain recall: 0.3333\tTrain F1: 0.3636: 100%|██████████| 32/32 [00:00<00:00, 45.39it/s]\n"
          ]
        },
        {
          "output_type": "stream",
          "name": "stdout",
          "text": [
            "+-----------+------------+------------+\n",
            "|           |   TRAIN    | VALIDATION |\n",
            "+-----------+------------+------------+\n",
            "|   Loss    |   0.601    |   0.676    |\n",
            "| Accuracy  |   0.665    |   0.608    |\n",
            "| Precision |   0.673    |   0.671    |\n",
            "|  Recall   |   0.675    |   0.595    |\n",
            "|    F1     |   0.671    |    0.63    |\n",
            "+-----------+------------+------------+\n",
            "\n",
            "\t[Epoch: 18] train loss = 0.6012 \t train accuracy = 0.6649\n",
            "\t[Epoch: 18] valid loss = 0.6762 \t valid accuracy = 0.6080\n",
            "\n",
            "####################################################################################################\n",
            " Epoch 19\n"
          ]
        },
        {
          "output_type": "stream",
          "name": "stderr",
          "text": [
            "Train Loss: 0.7805\tTrain accuracy: 0.4444\tTrain precision: 0.3333\tTrain recall: 0.6667\tTrain F1: 0.4444: 100%|██████████| 32/32 [00:00<00:00, 44.89it/s]\n"
          ]
        },
        {
          "output_type": "stream",
          "name": "stdout",
          "text": [
            "+-----------+------------+------------+\n",
            "|           |   TRAIN    | VALIDATION |\n",
            "+-----------+------------+------------+\n",
            "|   Loss    |   0.586    |   0.676    |\n",
            "| Accuracy  |   0.679    |   0.623    |\n",
            "| Precision |   0.694    |   0.611    |\n",
            "|  Recall   |   0.686    |   0.625    |\n",
            "|    F1     |   0.687    |   0.617    |\n",
            "+-----------+------------+------------+\n",
            "\n",
            "\t[Epoch: 19] train loss = 0.5861 \t train accuracy = 0.6792\n",
            "\t[Epoch: 19] valid loss = 0.6764 \t valid accuracy = 0.6235\n",
            "\n",
            "####################################################################################################\n",
            " Epoch 20\n"
          ]
        },
        {
          "output_type": "stream",
          "name": "stderr",
          "text": [
            "Train Loss: 0.6344\tTrain accuracy: 0.5556\tTrain precision: 0.5000\tTrain recall: 0.5000\tTrain F1: 0.5000: 100%|██████████| 32/32 [00:00<00:00, 45.18it/s]\n"
          ]
        },
        {
          "output_type": "stream",
          "name": "stdout",
          "text": [
            "+-----------+------------+------------+\n",
            "|           |   TRAIN    | VALIDATION |\n",
            "+-----------+------------+------------+\n",
            "|   Loss    |   0.586    |   0.678    |\n",
            "| Accuracy  |   0.681    |   0.614    |\n",
            "| Precision |   0.695    |   0.571    |\n",
            "|  Recall   |   0.682    |   0.621    |\n",
            "|    F1     |   0.687    |   0.594    |\n",
            "+-----------+------------+------------+\n",
            "\n",
            "\t[Epoch: 20] train loss = 0.5864 \t train accuracy = 0.6812\n",
            "\t[Epoch: 20] valid loss = 0.6781 \t valid accuracy = 0.6137\n",
            "\n",
            "####################################################################################################\n",
            " Epoch 21\n"
          ]
        },
        {
          "output_type": "stream",
          "name": "stderr",
          "text": [
            "Train Loss: 0.3593\tTrain accuracy: 1.0000\tTrain precision: 1.0000\tTrain recall: 1.0000\tTrain F1: 1.0000: 100%|██████████| 32/32 [00:00<00:00, 47.12it/s]\n"
          ]
        },
        {
          "output_type": "stream",
          "name": "stdout",
          "text": [
            "+-----------+------------+------------+\n",
            "|           |   TRAIN    | VALIDATION |\n",
            "+-----------+------------+------------+\n",
            "|   Loss    |   0.579    |   0.678    |\n",
            "| Accuracy  |   0.692    |   0.616    |\n",
            "| Precision |    0.71    |   0.595    |\n",
            "|  Recall   |   0.694    |   0.618    |\n",
            "|    F1     |   0.699    |   0.606    |\n",
            "+-----------+------------+------------+\n",
            "\n",
            "\t[Epoch: 21] train loss = 0.5793 \t train accuracy = 0.6921\n",
            "\t[Epoch: 21] valid loss = 0.6780 \t valid accuracy = 0.6157\n",
            "\n",
            "####################################################################################################\n",
            " Epoch 22\n"
          ]
        },
        {
          "output_type": "stream",
          "name": "stderr",
          "text": [
            "Train Loss: 0.4308\tTrain accuracy: 0.8889\tTrain precision: 0.5000\tTrain recall: 1.0000\tTrain F1: 0.6667: 100%|██████████| 32/32 [00:00<00:00, 45.43it/s]\n"
          ]
        },
        {
          "output_type": "stream",
          "name": "stdout",
          "text": [
            "+-----------+------------+------------+\n",
            "|           |   TRAIN    | VALIDATION |\n",
            "+-----------+------------+------------+\n",
            "|   Loss    |   0.578    |    0.68    |\n",
            "| Accuracy  |   0.687    |   0.614    |\n",
            "| Precision |   0.706    |   0.543    |\n",
            "|  Recall   |   0.689    |   0.629    |\n",
            "|    F1     |   0.692    |   0.581    |\n",
            "+-----------+------------+------------+\n",
            "\n",
            "\t[Epoch: 22] train loss = 0.5778 \t train accuracy = 0.6867\n",
            "\t[Epoch: 22] valid loss = 0.6798 \t valid accuracy = 0.6137\n",
            "\n",
            "####################################################################################################\n",
            " Epoch 23\n"
          ]
        },
        {
          "output_type": "stream",
          "name": "stderr",
          "text": [
            "Train Loss: 0.6321\tTrain accuracy: 0.6667\tTrain precision: 0.0000\tTrain recall: 0.0000\tTrain F1: 0.0000: 100%|██████████| 32/32 [00:00<00:00, 44.73it/s]\n"
          ]
        },
        {
          "output_type": "stream",
          "name": "stdout",
          "text": [
            "+-----------+------------+------------+\n",
            "|           |   TRAIN    | VALIDATION |\n",
            "+-----------+------------+------------+\n",
            "|   Loss    |   0.584    |   0.677    |\n",
            "| Accuracy  |   0.681    |   0.619    |\n",
            "| Precision |   0.667    |    0.6     |\n",
            "|  Recall   |   0.669    |    0.62    |\n",
            "|    F1     |   0.663    |   0.609    |\n",
            "+-----------+------------+------------+\n",
            "\n",
            "\t[Epoch: 23] train loss = 0.5844 \t train accuracy = 0.6805\n",
            "\t[Epoch: 23] valid loss = 0.6773 \t valid accuracy = 0.6185\n",
            "\n",
            "####################################################################################################\n",
            " Epoch 24\n"
          ]
        },
        {
          "output_type": "stream",
          "name": "stderr",
          "text": [
            "Train Loss: 0.7687\tTrain accuracy: 0.5556\tTrain precision: 0.6667\tTrain recall: 0.6667\tTrain F1: 0.6667: 100%|██████████| 32/32 [00:00<00:00, 45.09it/s]\n"
          ]
        },
        {
          "output_type": "stream",
          "name": "stdout",
          "text": [
            "+-----------+------------+------------+\n",
            "|           |   TRAIN    | VALIDATION |\n",
            "+-----------+------------+------------+\n",
            "|   Loss    |   0.584    |   0.678    |\n",
            "| Accuracy  |   0.674    |   0.616    |\n",
            "| Precision |   0.671    |   0.555    |\n",
            "|  Recall   |   0.689    |   0.628    |\n",
            "|    F1     |   0.677    |   0.588    |\n",
            "+-----------+------------+------------+\n",
            "\n",
            "\t[Epoch: 24] train loss = 0.5845 \t train accuracy = 0.6736\n",
            "\t[Epoch: 24] valid loss = 0.6780 \t valid accuracy = 0.6157\n",
            "\n",
            "####################################################################################################\n",
            " Epoch 25\n"
          ]
        },
        {
          "output_type": "stream",
          "name": "stderr",
          "text": [
            "Train Loss: 0.6852\tTrain accuracy: 0.7778\tTrain precision: 1.0000\tTrain recall: 0.7143\tTrain F1: 0.8333: 100%|██████████| 32/32 [00:00<00:00, 46.38it/s]\n"
          ]
        },
        {
          "output_type": "stream",
          "name": "stdout",
          "text": [
            "+-----------+------------+------------+\n",
            "|           |   TRAIN    | VALIDATION |\n",
            "+-----------+------------+------------+\n",
            "|   Loss    |   0.577    |   0.679    |\n",
            "| Accuracy  |   0.701    |   0.603    |\n",
            "| Precision |   0.715    |   0.686    |\n",
            "|  Recall   |   0.701    |   0.587    |\n",
            "|    F1     |   0.706    |   0.632    |\n",
            "+-----------+------------+------------+\n",
            "\n",
            "\t[Epoch: 25] train loss = 0.5766 \t train accuracy = 0.7011\n",
            "\t[Epoch: 25] valid loss = 0.6790 \t valid accuracy = 0.6031\n",
            "\n",
            "####################################################################################################\n",
            " Epoch 26\n"
          ]
        },
        {
          "output_type": "stream",
          "name": "stderr",
          "text": [
            "Train Loss: 0.5188\tTrain accuracy: 0.7778\tTrain precision: 1.0000\tTrain recall: 0.7143\tTrain F1: 0.8333: 100%|██████████| 32/32 [00:00<00:00, 46.76it/s]\n"
          ]
        },
        {
          "output_type": "stream",
          "name": "stdout",
          "text": [
            "+-----------+------------+------------+\n",
            "|           |   TRAIN    | VALIDATION |\n",
            "+-----------+------------+------------+\n",
            "|   Loss    |   0.574    |   0.682    |\n",
            "| Accuracy  |   0.687    |   0.605    |\n",
            "| Precision |    0.71    |   0.509    |\n",
            "|  Recall   |   0.687    |   0.627    |\n",
            "|    F1     |   0.695    |   0.561    |\n",
            "+-----------+------------+------------+\n",
            "\n",
            "\t[Epoch: 26] train loss = 0.5739 \t train accuracy = 0.6867\n",
            "\t[Epoch: 26] valid loss = 0.6825 \t valid accuracy = 0.6050\n",
            "\n",
            "####################################################################################################\n",
            " Epoch 27\n"
          ]
        },
        {
          "output_type": "stream",
          "name": "stderr",
          "text": [
            "Train Loss: 0.3336\tTrain accuracy: 1.0000\tTrain precision: 1.0000\tTrain recall: 1.0000\tTrain F1: 1.0000: 100%|██████████| 32/32 [00:00<00:00, 43.41it/s]\n"
          ]
        },
        {
          "output_type": "stream",
          "name": "stdout",
          "text": [
            "+-----------+------------+------------+\n",
            "|           |   TRAIN    | VALIDATION |\n",
            "+-----------+------------+------------+\n",
            "|   Loss    |    0.57    |   0.678    |\n",
            "| Accuracy  |   0.701    |   0.609    |\n",
            "| Precision |    0.7     |   0.571    |\n",
            "|  Recall   |   0.709    |   0.615    |\n",
            "|    F1     |   0.703    |   0.591    |\n",
            "+-----------+------------+------------+\n",
            "\n",
            "\t[Epoch: 27] train loss = 0.5696 \t train accuracy = 0.7012\n",
            "\t[Epoch: 27] valid loss = 0.6778 \t valid accuracy = 0.6089\n",
            "\n",
            "####################################################################################################\n",
            " Epoch 28\n"
          ]
        },
        {
          "output_type": "stream",
          "name": "stderr",
          "text": [
            "Train Loss: 0.5923\tTrain accuracy: 0.8889\tTrain precision: 1.0000\tTrain recall: 0.8333\tTrain F1: 0.9091: 100%|██████████| 32/32 [00:00<00:00, 35.12it/s]\n"
          ]
        },
        {
          "output_type": "stream",
          "name": "stdout",
          "text": [
            "+-----------+------------+------------+\n",
            "|           |   TRAIN    | VALIDATION |\n",
            "+-----------+------------+------------+\n",
            "|   Loss    |   0.574    |    0.68    |\n",
            "| Accuracy  |   0.703    |   0.607    |\n",
            "| Precision |   0.724    |   0.524    |\n",
            "|  Recall   |   0.704    |   0.624    |\n",
            "|    F1     |   0.711    |   0.569    |\n",
            "+-----------+------------+------------+\n",
            "\n",
            "\t[Epoch: 28] train loss = 0.5738 \t train accuracy = 0.7033\n",
            "\t[Epoch: 28] valid loss = 0.6800 \t valid accuracy = 0.6070\n",
            "\n",
            "####################################################################################################\n",
            " Epoch 29\n"
          ]
        },
        {
          "output_type": "stream",
          "name": "stderr",
          "text": [
            "Train Loss: 0.5935\tTrain accuracy: 0.6667\tTrain precision: 0.6667\tTrain recall: 0.8000\tTrain F1: 0.7273: 100%|██████████| 32/32 [00:00<00:00, 33.22it/s]\n"
          ]
        },
        {
          "output_type": "stream",
          "name": "stdout",
          "text": [
            "+-----------+------------+------------+\n",
            "|           |   TRAIN    | VALIDATION |\n",
            "+-----------+------------+------------+\n",
            "|   Loss    |   0.571    |   0.678    |\n",
            "| Accuracy  |   0.691    |    0.61    |\n",
            "| Precision |   0.693    |   0.634    |\n",
            "|  Recall   |   0.702    |   0.602    |\n",
            "|    F1     |   0.695    |   0.617    |\n",
            "+-----------+------------+------------+\n",
            "\n",
            "\t[Epoch: 29] train loss = 0.5714 \t train accuracy = 0.6908\n",
            "\t[Epoch: 29] valid loss = 0.6778 \t valid accuracy = 0.6098\n",
            "\n",
            "####################################################################################################\n",
            " Epoch 30\n"
          ]
        },
        {
          "output_type": "stream",
          "name": "stderr",
          "text": [
            "Train Loss: 0.5901\tTrain accuracy: 0.6667\tTrain precision: 0.7500\tTrain recall: 0.6000\tTrain F1: 0.6667: 100%|██████████| 32/32 [00:00<00:00, 32.43it/s]\n"
          ]
        },
        {
          "output_type": "stream",
          "name": "stdout",
          "text": [
            "+-----------+------------+------------+\n",
            "|           |   TRAIN    | VALIDATION |\n",
            "+-----------+------------+------------+\n",
            "|   Loss    |    0.57    |   0.678    |\n",
            "| Accuracy  |   0.698    |   0.619    |\n",
            "| Precision |   0.713    |    0.63    |\n",
            "|  Recall   |   0.698    |   0.613    |\n",
            "|    F1     |   0.703    |   0.621    |\n",
            "+-----------+------------+------------+\n",
            "\n",
            "\t[Epoch: 30] train loss = 0.5695 \t train accuracy = 0.6976\n",
            "\t[Epoch: 30] valid loss = 0.6784 \t valid accuracy = 0.6185\n",
            "\n",
            "####################################################################################################\n",
            " Epoch 31\n"
          ]
        },
        {
          "output_type": "stream",
          "name": "stderr",
          "text": [
            "Train Loss: 0.6216\tTrain accuracy: 0.5556\tTrain precision: 0.6000\tTrain recall: 0.6000\tTrain F1: 0.6000: 100%|██████████| 32/32 [00:00<00:00, 33.84it/s]\n"
          ]
        },
        {
          "output_type": "stream",
          "name": "stdout",
          "text": [
            "+-----------+------------+------------+\n",
            "|           |   TRAIN    | VALIDATION |\n",
            "+-----------+------------+------------+\n",
            "|   Loss    |   0.568    |   0.681    |\n",
            "| Accuracy  |   0.691    |   0.619    |\n",
            "| Precision |   0.696    |   0.622    |\n",
            "|  Recall   |   0.699    |   0.615    |\n",
            "|    F1     |   0.695    |   0.617    |\n",
            "+-----------+------------+------------+\n",
            "\n",
            "\t[Epoch: 31] train loss = 0.5685 \t train accuracy = 0.6909\n",
            "\t[Epoch: 31] valid loss = 0.6807 \t valid accuracy = 0.6185\n",
            "\n",
            "####################################################################################################\n",
            " Epoch 32\n"
          ]
        },
        {
          "output_type": "stream",
          "name": "stderr",
          "text": [
            "Train Loss: 0.4851\tTrain accuracy: 0.7778\tTrain precision: 0.8000\tTrain recall: 0.8000\tTrain F1: 0.8000: 100%|██████████| 32/32 [00:00<00:00, 39.20it/s]\n"
          ]
        },
        {
          "output_type": "stream",
          "name": "stdout",
          "text": [
            "+-----------+------------+------------+\n",
            "|           |   TRAIN    | VALIDATION |\n",
            "+-----------+------------+------------+\n",
            "|   Loss    |   0.565    |   0.681    |\n",
            "| Accuracy  |   0.695    |   0.617    |\n",
            "| Precision |   0.701    |   0.609    |\n",
            "|  Recall   |   0.699    |   0.614    |\n",
            "|    F1     |   0.698    |    0.61    |\n",
            "+-----------+------------+------------+\n",
            "\n",
            "\t[Epoch: 32] train loss = 0.5648 \t train accuracy = 0.6947\n",
            "\t[Epoch: 32] valid loss = 0.6812 \t valid accuracy = 0.6166\n",
            "\n",
            "####################################################################################################\n",
            " Epoch 33\n"
          ]
        },
        {
          "output_type": "stream",
          "name": "stderr",
          "text": [
            "Train Loss: 0.4532\tTrain accuracy: 0.7778\tTrain precision: 0.7500\tTrain recall: 0.7500\tTrain F1: 0.7500: 100%|██████████| 32/32 [00:00<00:00, 44.41it/s]\n"
          ]
        },
        {
          "output_type": "stream",
          "name": "stdout",
          "text": [
            "+-----------+------------+------------+\n",
            "|           |   TRAIN    | VALIDATION |\n",
            "+-----------+------------+------------+\n",
            "|   Loss    |    0.56    |   0.685    |\n",
            "| Accuracy  |   0.699    |   0.612    |\n",
            "| Precision |   0.723    |   0.505    |\n",
            "|  Recall   |   0.697    |   0.639    |\n",
            "|    F1     |   0.708    |   0.563    |\n",
            "+-----------+------------+------------+\n",
            "\n",
            "\t[Epoch: 33] train loss = 0.5602 \t train accuracy = 0.6991\n",
            "\t[Epoch: 33] valid loss = 0.6848 \t valid accuracy = 0.6118\n",
            "\n",
            "####################################################################################################\n",
            " Epoch 34\n"
          ]
        },
        {
          "output_type": "stream",
          "name": "stderr",
          "text": [
            "Train Loss: 0.6458\tTrain accuracy: 0.6667\tTrain precision: 0.7143\tTrain recall: 0.8333\tTrain F1: 0.7692: 100%|██████████| 32/32 [00:00<00:00, 45.23it/s]\n"
          ]
        },
        {
          "output_type": "stream",
          "name": "stdout",
          "text": [
            "+-----------+------------+------------+\n",
            "|           |   TRAIN    | VALIDATION |\n",
            "+-----------+------------+------------+\n",
            "|   Loss    |   0.572    |   0.682    |\n",
            "| Accuracy  |   0.697    |   0.606    |\n",
            "| Precision |   0.694    |   0.608    |\n",
            "|  Recall   |   0.712    |   0.602    |\n",
            "|    F1     |   0.701    |   0.605    |\n",
            "+-----------+------------+------------+\n",
            "\n",
            "\t[Epoch: 34] train loss = 0.5723 \t train accuracy = 0.6971\n",
            "\t[Epoch: 34] valid loss = 0.6818 \t valid accuracy = 0.6059\n",
            "\n",
            "####################################################################################################\n",
            " Epoch 35\n"
          ]
        },
        {
          "output_type": "stream",
          "name": "stderr",
          "text": [
            "Train Loss: 0.6957\tTrain accuracy: 0.6667\tTrain precision: 0.6000\tTrain recall: 0.7500\tTrain F1: 0.6667: 100%|██████████| 32/32 [00:00<00:00, 47.42it/s]\n"
          ]
        },
        {
          "output_type": "stream",
          "name": "stdout",
          "text": [
            "+-----------+------------+------------+\n",
            "|           |   TRAIN    | VALIDATION |\n",
            "+-----------+------------+------------+\n",
            "|   Loss    |   0.565    |   0.681    |\n",
            "| Accuracy  |   0.704    |   0.599    |\n",
            "| Precision |   0.713    |   0.563    |\n",
            "|  Recall   |   0.709    |   0.604    |\n",
            "|    F1     |   0.709    |   0.582    |\n",
            "+-----------+------------+------------+\n",
            "\n",
            "\t[Epoch: 35] train loss = 0.5651 \t train accuracy = 0.7042\n",
            "\t[Epoch: 35] valid loss = 0.6812 \t valid accuracy = 0.5992\n",
            "\n",
            "####################################################################################################\n",
            " Epoch 36\n"
          ]
        },
        {
          "output_type": "stream",
          "name": "stderr",
          "text": [
            "Train Loss: 0.6315\tTrain accuracy: 0.5556\tTrain precision: 0.5000\tTrain recall: 0.5000\tTrain F1: 0.5000: 100%|██████████| 32/32 [00:00<00:00, 44.32it/s]\n"
          ]
        },
        {
          "output_type": "stream",
          "name": "stdout",
          "text": [
            "+-----------+------------+------------+\n",
            "|           |   TRAIN    | VALIDATION |\n",
            "+-----------+------------+------------+\n",
            "|   Loss    |    0.56    |   0.682    |\n",
            "| Accuracy  |   0.699    |   0.605    |\n",
            "| Precision |   0.699    |   0.579    |\n",
            "|  Recall   |   0.706    |   0.609    |\n",
            "|    F1     |    0.7     |   0.593    |\n",
            "+-----------+------------+------------+\n",
            "\n",
            "\t[Epoch: 36] train loss = 0.5602 \t train accuracy = 0.6995\n",
            "\t[Epoch: 36] valid loss = 0.6824 \t valid accuracy = 0.6050\n",
            "\n",
            "####################################################################################################\n",
            " Epoch 37\n"
          ]
        },
        {
          "output_type": "stream",
          "name": "stderr",
          "text": [
            "Train Loss: 0.6499\tTrain accuracy: 0.6667\tTrain precision: 0.6667\tTrain recall: 1.0000\tTrain F1: 0.8000: 100%|██████████| 32/32 [00:00<00:00, 44.80it/s]\n"
          ]
        },
        {
          "output_type": "stream",
          "name": "stdout",
          "text": [
            "+-----------+------------+------------+\n",
            "|           |   TRAIN    | VALIDATION |\n",
            "+-----------+------------+------------+\n",
            "|   Loss    |   0.563    |   0.683    |\n",
            "| Accuracy  |   0.701    |   0.598    |\n",
            "| Precision |    0.7     |   0.593    |\n",
            "|  Recall   |   0.719    |   0.596    |\n",
            "|    F1     |   0.706    |   0.593    |\n",
            "+-----------+------------+------------+\n",
            "\n",
            "\t[Epoch: 37] train loss = 0.5630 \t train accuracy = 0.7008\n",
            "\t[Epoch: 37] valid loss = 0.6826 \t valid accuracy = 0.5981\n",
            "\n",
            "####################################################################################################\n",
            " Epoch 38\n"
          ]
        },
        {
          "output_type": "stream",
          "name": "stderr",
          "text": [
            "Train Loss: 0.6137\tTrain accuracy: 0.5556\tTrain precision: 0.6667\tTrain recall: 0.4000\tTrain F1: 0.5000: 100%|██████████| 32/32 [00:00<00:00, 43.96it/s]\n"
          ]
        },
        {
          "output_type": "stream",
          "name": "stdout",
          "text": [
            "+-----------+------------+------------+\n",
            "|           |   TRAIN    | VALIDATION |\n",
            "+-----------+------------+------------+\n",
            "|   Loss    |   0.571    |   0.682    |\n",
            "| Accuracy  |   0.699    |   0.601    |\n",
            "| Precision |   0.728    |   0.618    |\n",
            "|  Recall   |   0.695    |   0.594    |\n",
            "|    F1     |   0.707    |   0.605    |\n",
            "+-----------+------------+------------+\n",
            "\n",
            "\t[Epoch: 38] train loss = 0.5709 \t train accuracy = 0.6995\n",
            "\t[Epoch: 38] valid loss = 0.6824 \t valid accuracy = 0.6010\n",
            "\n",
            "####################################################################################################\n",
            " Epoch 39\n"
          ]
        },
        {
          "output_type": "stream",
          "name": "stderr",
          "text": [
            "Train Loss: 0.5416\tTrain accuracy: 0.5556\tTrain precision: 0.5714\tTrain recall: 0.8000\tTrain F1: 0.6667: 100%|██████████| 32/32 [00:00<00:00, 46.87it/s]\n"
          ]
        },
        {
          "output_type": "stream",
          "name": "stdout",
          "text": [
            "+-----------+------------+------------+\n",
            "|           |   TRAIN    | VALIDATION |\n",
            "+-----------+------------+------------+\n",
            "|   Loss    |    0.56    |   0.685    |\n",
            "| Accuracy  |   0.697    |   0.604    |\n",
            "| Precision |   0.687    |   0.704    |\n",
            "|  Recall   |   0.717    |   0.583    |\n",
            "|    F1     |   0.699    |   0.638    |\n",
            "+-----------+------------+------------+\n",
            "\n",
            "\t[Epoch: 39] train loss = 0.5599 \t train accuracy = 0.6968\n",
            "\t[Epoch: 39] valid loss = 0.6854 \t valid accuracy = 0.6038\n",
            "\n",
            "####################################################################################################\n",
            " Epoch 40\n"
          ]
        },
        {
          "output_type": "stream",
          "name": "stderr",
          "text": [
            "Train Loss: 0.3841\tTrain accuracy: 0.8889\tTrain precision: 0.8333\tTrain recall: 1.0000\tTrain F1: 0.9091: 100%|██████████| 32/32 [00:00<00:00, 46.33it/s]\n"
          ]
        },
        {
          "output_type": "stream",
          "name": "stdout",
          "text": [
            "+-----------+------------+------------+\n",
            "|           |   TRAIN    | VALIDATION |\n",
            "+-----------+------------+------------+\n",
            "|   Loss    |   0.543    |   0.684    |\n",
            "| Accuracy  |   0.719    |   0.609    |\n",
            "| Precision |   0.737    |   0.638    |\n",
            "|  Recall   |   0.722    |    0.6     |\n",
            "|    F1     |   0.727    |   0.618    |\n",
            "+-----------+------------+------------+\n",
            "\n",
            "\t[Epoch: 40] train loss = 0.5428 \t train accuracy = 0.7187\n",
            "\t[Epoch: 40] valid loss = 0.6841 \t valid accuracy = 0.6088\n",
            "\n",
            "####################################################################################################\n",
            " Epoch 41\n"
          ]
        },
        {
          "output_type": "stream",
          "name": "stderr",
          "text": [
            "Train Loss: 0.3936\tTrain accuracy: 0.8889\tTrain precision: 0.7500\tTrain recall: 1.0000\tTrain F1: 0.8571: 100%|██████████| 32/32 [00:00<00:00, 45.13it/s]\n"
          ]
        },
        {
          "output_type": "stream",
          "name": "stdout",
          "text": [
            "+-----------+------------+------------+\n",
            "|           |   TRAIN    | VALIDATION |\n",
            "+-----------+------------+------------+\n",
            "|   Loss    |   0.554    |   0.686    |\n",
            "| Accuracy  |   0.712    |   0.602    |\n",
            "| Precision |   0.715    |   0.592    |\n",
            "|  Recall   |    0.72    |   0.601    |\n",
            "|    F1     |   0.715    |   0.596    |\n",
            "+-----------+------------+------------+\n",
            "\n",
            "\t[Epoch: 41] train loss = 0.5535 \t train accuracy = 0.7123\n",
            "\t[Epoch: 41] valid loss = 0.6862 \t valid accuracy = 0.6020\n",
            "\n",
            "####################################################################################################\n",
            " Epoch 42\n"
          ]
        },
        {
          "output_type": "stream",
          "name": "stderr",
          "text": [
            "Train Loss: 0.8966\tTrain accuracy: 0.2222\tTrain precision: 0.5000\tTrain recall: 0.2857\tTrain F1: 0.3636: 100%|██████████| 32/32 [00:00<00:00, 42.66it/s]\n"
          ]
        },
        {
          "output_type": "stream",
          "name": "stdout",
          "text": [
            "+-----------+------------+------------+\n",
            "|           |   TRAIN    | VALIDATION |\n",
            "+-----------+------------+------------+\n",
            "|   Loss    |   0.565    |   0.689    |\n",
            "| Accuracy  |   0.702    |   0.611    |\n",
            "| Precision |    0.71    |   0.559    |\n",
            "|  Recall   |   0.711    |    0.62    |\n",
            "|    F1     |   0.709    |   0.587    |\n",
            "+-----------+------------+------------+\n",
            "\n",
            "\t[Epoch: 42] train loss = 0.5647 \t train accuracy = 0.7018\n",
            "\t[Epoch: 42] valid loss = 0.6889 \t valid accuracy = 0.6107\n",
            "\n",
            "####################################################################################################\n",
            " Epoch 43\n"
          ]
        },
        {
          "output_type": "stream",
          "name": "stderr",
          "text": [
            "Train Loss: 0.6792\tTrain accuracy: 0.6667\tTrain precision: 0.6667\tTrain recall: 0.5000\tTrain F1: 0.5714: 100%|██████████| 32/32 [00:00<00:00, 44.82it/s]\n"
          ]
        },
        {
          "output_type": "stream",
          "name": "stdout",
          "text": [
            "+-----------+------------+------------+\n",
            "|           |   TRAIN    | VALIDATION |\n",
            "+-----------+------------+------------+\n",
            "|   Loss    |   0.552    |   0.689    |\n",
            "| Accuracy  |   0.709    |   0.605    |\n",
            "| Precision |   0.706    |   0.528    |\n",
            "|  Recall   |   0.715    |   0.619    |\n",
            "|    F1     |   0.708    |   0.568    |\n",
            "+-----------+------------+------------+\n",
            "\n",
            "\t[Epoch: 43] train loss = 0.5525 \t train accuracy = 0.7088\n",
            "\t[Epoch: 43] valid loss = 0.6886 \t valid accuracy = 0.6049\n",
            "\n",
            "####################################################################################################\n",
            " Epoch 44\n"
          ]
        },
        {
          "output_type": "stream",
          "name": "stderr",
          "text": [
            "Train Loss: 0.6593\tTrain accuracy: 0.5556\tTrain precision: 0.5000\tTrain recall: 0.7500\tTrain F1: 0.6000: 100%|██████████| 32/32 [00:00<00:00, 48.40it/s]\n"
          ]
        },
        {
          "output_type": "stream",
          "name": "stdout",
          "text": [
            "+-----------+------------+------------+\n",
            "|           |   TRAIN    | VALIDATION |\n",
            "+-----------+------------+------------+\n",
            "|   Loss    |   0.554    |   0.686    |\n",
            "| Accuracy  |   0.702    |   0.604    |\n",
            "| Precision |   0.688    |   0.613    |\n",
            "|  Recall   |   0.722    |    0.6     |\n",
            "|    F1     |   0.702    |   0.606    |\n",
            "+-----------+------------+------------+\n",
            "\n",
            "\t[Epoch: 44] train loss = 0.5537 \t train accuracy = 0.7022\n",
            "\t[Epoch: 44] valid loss = 0.6856 \t valid accuracy = 0.6040\n",
            "\n",
            "####################################################################################################\n",
            " Epoch 45\n"
          ]
        },
        {
          "output_type": "stream",
          "name": "stderr",
          "text": [
            "Train Loss: 0.4619\tTrain accuracy: 0.7778\tTrain precision: 0.8571\tTrain recall: 0.8571\tTrain F1: 0.8571: 100%|██████████| 32/32 [00:00<00:00, 35.36it/s]\n"
          ]
        },
        {
          "output_type": "stream",
          "name": "stdout",
          "text": [
            "+-----------+------------+------------+\n",
            "|           |   TRAIN    | VALIDATION |\n",
            "+-----------+------------+------------+\n",
            "|   Loss    |   0.555    |   0.684    |\n",
            "| Accuracy  |   0.703    |    0.61    |\n",
            "| Precision |   0.704    |   0.593    |\n",
            "|  Recall   |   0.714    |   0.612    |\n",
            "|    F1     |   0.706    |   0.601    |\n",
            "+-----------+------------+------------+\n",
            "\n",
            "\t[Epoch: 45] train loss = 0.5546 \t train accuracy = 0.7030\n",
            "\t[Epoch: 45] valid loss = 0.6841 \t valid accuracy = 0.6098\n",
            "\n",
            "####################################################################################################\n",
            " Epoch 46\n"
          ]
        },
        {
          "output_type": "stream",
          "name": "stderr",
          "text": [
            "Train Loss: 0.5870\tTrain accuracy: 0.6667\tTrain precision: 1.0000\tTrain recall: 0.6250\tTrain F1: 0.7692: 100%|██████████| 32/32 [00:01<00:00, 18.87it/s]\n"
          ]
        },
        {
          "output_type": "stream",
          "name": "stdout",
          "text": [
            "+-----------+------------+------------+\n",
            "|           |   TRAIN    | VALIDATION |\n",
            "+-----------+------------+------------+\n",
            "|   Loss    |   0.556    |   0.684    |\n",
            "| Accuracy  |   0.703    |    0.61    |\n",
            "| Precision |   0.717    |   0.601    |\n",
            "|  Recall   |   0.708    |    0.61    |\n",
            "|    F1     |   0.708    |   0.604    |\n",
            "+-----------+------------+------------+\n",
            "\n",
            "\t[Epoch: 46] train loss = 0.5559 \t train accuracy = 0.7027\n",
            "\t[Epoch: 46] valid loss = 0.6839 \t valid accuracy = 0.6098\n",
            "\n",
            "####################################################################################################\n",
            " Epoch 47\n"
          ]
        },
        {
          "output_type": "stream",
          "name": "stderr",
          "text": [
            "Train Loss: 0.8819\tTrain accuracy: 0.3333\tTrain precision: 1.0000\tTrain recall: 0.2500\tTrain F1: 0.4000: 100%|██████████| 32/32 [00:01<00:00, 20.22it/s]\n"
          ]
        },
        {
          "output_type": "stream",
          "name": "stdout",
          "text": [
            "+-----------+------------+------------+\n",
            "|           |   TRAIN    | VALIDATION |\n",
            "+-----------+------------+------------+\n",
            "|   Loss    |    0.56    |   0.685    |\n",
            "| Accuracy  |   0.699    |   0.612    |\n",
            "| Precision |   0.716    |   0.605    |\n",
            "|  Recall   |   0.704    |   0.612    |\n",
            "|    F1     |   0.701    |   0.607    |\n",
            "+-----------+------------+------------+\n",
            "\n",
            "\t[Epoch: 47] train loss = 0.5600 \t train accuracy = 0.6989\n",
            "\t[Epoch: 47] valid loss = 0.6851 \t valid accuracy = 0.6118\n",
            "\n",
            "####################################################################################################\n",
            " Epoch 48\n"
          ]
        },
        {
          "output_type": "stream",
          "name": "stderr",
          "text": [
            "Train Loss: 0.4909\tTrain accuracy: 0.6667\tTrain precision: 1.0000\tTrain recall: 0.5000\tTrain F1: 0.6667: 100%|██████████| 32/32 [00:00<00:00, 40.11it/s]\n"
          ]
        },
        {
          "output_type": "stream",
          "name": "stdout",
          "text": [
            "+-----------+------------+------------+\n",
            "|           |   TRAIN    | VALIDATION |\n",
            "+-----------+------------+------------+\n",
            "|   Loss    |   0.542    |   0.685    |\n",
            "| Accuracy  |   0.712    |   0.602    |\n",
            "| Precision |   0.712    |   0.538    |\n",
            "|  Recall   |    0.72    |   0.614    |\n",
            "|    F1     |    0.71    |   0.573    |\n",
            "+-----------+------------+------------+\n",
            "\n",
            "\t[Epoch: 48] train loss = 0.5419 \t train accuracy = 0.7118\n",
            "\t[Epoch: 48] valid loss = 0.6849 \t valid accuracy = 0.6020\n",
            "\n",
            "####################################################################################################\n",
            " Epoch 49\n"
          ]
        },
        {
          "output_type": "stream",
          "name": "stderr",
          "text": [
            "Train Loss: 0.8618\tTrain accuracy: 0.4444\tTrain precision: 0.6000\tTrain recall: 0.5000\tTrain F1: 0.5455: 100%|██████████| 32/32 [00:00<00:00, 46.27it/s]\n"
          ]
        },
        {
          "output_type": "stream",
          "name": "stdout",
          "text": [
            "+-----------+------------+------------+\n",
            "|           |   TRAIN    | VALIDATION |\n",
            "+-----------+------------+------------+\n",
            "|   Loss    |   0.559    |   0.687    |\n",
            "| Accuracy  |   0.698    |   0.615    |\n",
            "| Precision |   0.699    |   0.585    |\n",
            "|  Recall   |   0.711    |   0.619    |\n",
            "|    F1     |    0.7     |    0.6     |\n",
            "+-----------+------------+------------+\n",
            "\n",
            "\t[Epoch: 49] train loss = 0.5589 \t train accuracy = 0.6980\n",
            "\t[Epoch: 49] valid loss = 0.6867 \t valid accuracy = 0.6146\n",
            "\n",
            "####################################################################################################\n",
            " Epoch 50\n"
          ]
        },
        {
          "output_type": "stream",
          "name": "stderr",
          "text": [
            "Train Loss: 0.6019\tTrain accuracy: 0.5556\tTrain precision: 0.5714\tTrain recall: 0.8000\tTrain F1: 0.6667: 100%|██████████| 32/32 [00:00<00:00, 44.18it/s]\n"
          ]
        },
        {
          "output_type": "stream",
          "name": "stdout",
          "text": [
            "+-----------+------------+------------+\n",
            "|           |   TRAIN    | VALIDATION |\n",
            "+-----------+------------+------------+\n",
            "|   Loss    |   0.544    |   0.686    |\n",
            "| Accuracy  |   0.711    |    0.6     |\n",
            "| Precision |   0.688    |   0.601    |\n",
            "|  Recall   |   0.736    |   0.597    |\n",
            "|    F1     |   0.709    |   0.598    |\n",
            "+-----------+------------+------------+\n",
            "\n",
            "\t[Epoch: 50] train loss = 0.5441 \t train accuracy = 0.7110\n",
            "\t[Epoch: 50] valid loss = 0.6859 \t valid accuracy = 0.6001\n",
            "\n",
            "####################################################################################################\n",
            " Epoch 51\n"
          ]
        },
        {
          "output_type": "stream",
          "name": "stderr",
          "text": [
            "Train Loss: 0.7099\tTrain accuracy: 0.7778\tTrain precision: 0.8000\tTrain recall: 0.8000\tTrain F1: 0.8000: 100%|██████████| 32/32 [00:00<00:00, 44.13it/s]\n"
          ]
        },
        {
          "output_type": "stream",
          "name": "stdout",
          "text": [
            "+-----------+------------+------------+\n",
            "|           |   TRAIN    | VALIDATION |\n",
            "+-----------+------------+------------+\n",
            "|   Loss    |   0.554    |    0.69    |\n",
            "| Accuracy  |   0.704    |   0.579    |\n",
            "| Precision |    0.71    |   0.677    |\n",
            "|  Recall   |   0.714    |   0.564    |\n",
            "|    F1     |   0.708    |   0.615    |\n",
            "+-----------+------------+------------+\n",
            "\n",
            "\t[Epoch: 51] train loss = 0.5543 \t train accuracy = 0.7045\n",
            "\t[Epoch: 51] valid loss = 0.6899 \t valid accuracy = 0.5786\n",
            "\n",
            "####################################################################################################\n",
            " Epoch 52\n"
          ]
        },
        {
          "output_type": "stream",
          "name": "stderr",
          "text": [
            "Train Loss: 0.5204\tTrain accuracy: 0.7778\tTrain precision: 0.7500\tTrain recall: 0.7500\tTrain F1: 0.7500: 100%|██████████| 32/32 [00:00<00:00, 43.33it/s]\n"
          ]
        },
        {
          "output_type": "stream",
          "name": "stdout",
          "text": [
            "+-----------+------------+------------+\n",
            "|           |   TRAIN    | VALIDATION |\n",
            "+-----------+------------+------------+\n",
            "|   Loss    |   0.543    |   0.693    |\n",
            "| Accuracy  |   0.717    |   0.606    |\n",
            "| Precision |   0.737    |    0.51    |\n",
            "|  Recall   |   0.715    |   0.629    |\n",
            "|    F1     |   0.725    |   0.561    |\n",
            "+-----------+------------+------------+\n",
            "\n",
            "\t[Epoch: 52] train loss = 0.5427 \t train accuracy = 0.7169\n",
            "\t[Epoch: 52] valid loss = 0.6930 \t valid accuracy = 0.6059\n",
            "\n",
            "####################################################################################################\n",
            " Epoch 53\n"
          ]
        },
        {
          "output_type": "stream",
          "name": "stderr",
          "text": [
            "Train Loss: 0.4865\tTrain accuracy: 0.8889\tTrain precision: 0.6667\tTrain recall: 1.0000\tTrain F1: 0.8000: 100%|██████████| 32/32 [00:00<00:00, 47.03it/s]\n"
          ]
        },
        {
          "output_type": "stream",
          "name": "stdout",
          "text": [
            "+-----------+------------+------------+\n",
            "|           |   TRAIN    | VALIDATION |\n",
            "+-----------+------------+------------+\n",
            "|   Loss    |   0.543    |    0.69    |\n",
            "| Accuracy  |   0.723    |   0.603    |\n",
            "| Precision |   0.715    |   0.549    |\n",
            "|  Recall   |   0.736    |   0.611    |\n",
            "|    F1     |   0.722    |   0.576    |\n",
            "+-----------+------------+------------+\n",
            "\n",
            "\t[Epoch: 53] train loss = 0.5432 \t train accuracy = 0.7233\n",
            "\t[Epoch: 53] valid loss = 0.6904 \t valid accuracy = 0.6029\n",
            "\n",
            "####################################################################################################\n",
            " Epoch 54\n"
          ]
        },
        {
          "output_type": "stream",
          "name": "stderr",
          "text": [
            "Train Loss: 0.3379\tTrain accuracy: 0.7778\tTrain precision: 0.6667\tTrain recall: 1.0000\tTrain F1: 0.8000: 100%|██████████| 32/32 [00:00<00:00, 44.94it/s]\n"
          ]
        },
        {
          "output_type": "stream",
          "name": "stdout",
          "text": [
            "+-----------+------------+------------+\n",
            "|           |   TRAIN    | VALIDATION |\n",
            "+-----------+------------+------------+\n",
            "|   Loss    |   0.533    |   0.692    |\n",
            "| Accuracy  |   0.722    |   0.611    |\n",
            "| Precision |   0.706    |   0.589    |\n",
            "|  Recall   |    0.74    |   0.613    |\n",
            "|    F1     |    0.72    |   0.599    |\n",
            "+-----------+------------+------------+\n",
            "\n",
            "\t[Epoch: 54] train loss = 0.5326 \t train accuracy = 0.7216\n",
            "\t[Epoch: 54] valid loss = 0.6916 \t valid accuracy = 0.6107\n",
            "\n",
            "####################################################################################################\n",
            " Epoch 55\n"
          ]
        },
        {
          "output_type": "stream",
          "name": "stderr",
          "text": [
            "Train Loss: 0.3660\tTrain accuracy: 0.8889\tTrain precision: 0.5000\tTrain recall: 1.0000\tTrain F1: 0.6667: 100%|██████████| 32/32 [00:00<00:00, 44.10it/s]\n"
          ]
        },
        {
          "output_type": "stream",
          "name": "stdout",
          "text": [
            "+-----------+------------+------------+\n",
            "|           |   TRAIN    | VALIDATION |\n",
            "+-----------+------------+------------+\n",
            "|   Loss    |   0.541    |   0.694    |\n",
            "| Accuracy  |   0.717    |   0.609    |\n",
            "| Precision |   0.719    |    0.54    |\n",
            "|  Recall   |   0.723    |   0.623    |\n",
            "|    F1     |   0.717    |   0.577    |\n",
            "+-----------+------------+------------+\n",
            "\n",
            "\t[Epoch: 55] train loss = 0.5407 \t train accuracy = 0.7172\n",
            "\t[Epoch: 55] valid loss = 0.6939 \t valid accuracy = 0.6088\n",
            "\n",
            "####################################################################################################\n",
            " Epoch 56\n"
          ]
        },
        {
          "output_type": "stream",
          "name": "stderr",
          "text": [
            "Train Loss: 0.6197\tTrain accuracy: 0.6667\tTrain precision: 0.5000\tTrain recall: 0.3333\tTrain F1: 0.4000: 100%|██████████| 32/32 [00:00<00:00, 44.11it/s]\n"
          ]
        },
        {
          "output_type": "stream",
          "name": "stdout",
          "text": [
            "+-----------+------------+------------+\n",
            "|           |   TRAIN    | VALIDATION |\n",
            "+-----------+------------+------------+\n",
            "|   Loss    |   0.535    |   0.695    |\n",
            "| Accuracy  |   0.721    |   0.599    |\n",
            "| Precision |   0.712    |   0.549    |\n",
            "|  Recall   |    0.72    |   0.605    |\n",
            "|    F1     |   0.713    |   0.574    |\n",
            "+-----------+------------+------------+\n",
            "\n",
            "\t[Epoch: 56] train loss = 0.5348 \t train accuracy = 0.7208\n",
            "\t[Epoch: 56] valid loss = 0.6949 \t valid accuracy = 0.5990\n",
            "\n",
            "####################################################################################################\n",
            " Epoch 57\n"
          ]
        },
        {
          "output_type": "stream",
          "name": "stderr",
          "text": [
            "Train Loss: 0.5622\tTrain accuracy: 0.6667\tTrain precision: 0.8333\tTrain recall: 0.7143\tTrain F1: 0.7692: 100%|██████████| 32/32 [00:00<00:00, 44.84it/s]\n"
          ]
        },
        {
          "output_type": "stream",
          "name": "stdout",
          "text": [
            "+-----------+------------+------------+\n",
            "|           |   TRAIN    | VALIDATION |\n",
            "+-----------+------------+------------+\n",
            "|   Loss    |   0.542    |   0.695    |\n",
            "| Accuracy  |   0.711    |   0.599    |\n",
            "| Precision |   0.711    |   0.549    |\n",
            "|  Recall   |   0.723    |   0.605    |\n",
            "|    F1     |   0.714    |   0.574    |\n",
            "+-----------+------------+------------+\n",
            "\n",
            "\t[Epoch: 57] train loss = 0.5416 \t train accuracy = 0.7105\n",
            "\t[Epoch: 57] valid loss = 0.6949 \t valid accuracy = 0.5990\n",
            "\n",
            "####################################################################################################\n",
            " Epoch 58\n"
          ]
        },
        {
          "output_type": "stream",
          "name": "stderr",
          "text": [
            "Train Loss: 0.3705\tTrain accuracy: 0.8889\tTrain precision: 1.0000\tTrain recall: 0.8000\tTrain F1: 0.8889: 100%|██████████| 32/32 [00:00<00:00, 46.83it/s]\n"
          ]
        },
        {
          "output_type": "stream",
          "name": "stdout",
          "text": [
            "+-----------+------------+------------+\n",
            "|           |   TRAIN    | VALIDATION |\n",
            "+-----------+------------+------------+\n",
            "|   Loss    |   0.525    |   0.698    |\n",
            "| Accuracy  |   0.729    |   0.603    |\n",
            "| Precision |   0.723    |   0.524    |\n",
            "|  Recall   |   0.739    |   0.619    |\n",
            "|    F1     |   0.728    |   0.565    |\n",
            "+-----------+------------+------------+\n",
            "\n",
            "\t[Epoch: 58] train loss = 0.5253 \t train accuracy = 0.7294\n",
            "\t[Epoch: 58] valid loss = 0.6978 \t valid accuracy = 0.6029\n",
            "\n",
            "####################################################################################################\n",
            " Epoch 59\n"
          ]
        },
        {
          "output_type": "stream",
          "name": "stderr",
          "text": [
            "Train Loss: 0.6345\tTrain accuracy: 0.6667\tTrain precision: 0.4000\tTrain recall: 1.0000\tTrain F1: 0.5714: 100%|██████████| 32/32 [00:00<00:00, 43.93it/s]\n"
          ]
        },
        {
          "output_type": "stream",
          "name": "stdout",
          "text": [
            "+-----------+------------+------------+\n",
            "|           |   TRAIN    | VALIDATION |\n",
            "+-----------+------------+------------+\n",
            "|   Loss    |   0.535    |   0.697    |\n",
            "| Accuracy  |   0.718    |   0.597    |\n",
            "| Precision |   0.711    |   0.549    |\n",
            "|  Recall   |   0.737    |   0.603    |\n",
            "|    F1     |   0.718    |   0.573    |\n",
            "+-----------+------------+------------+\n",
            "\n",
            "\t[Epoch: 59] train loss = 0.5351 \t train accuracy = 0.7181\n",
            "\t[Epoch: 59] valid loss = 0.6969 \t valid accuracy = 0.5971\n",
            "\n",
            "####################################################################################################\n",
            " Epoch 60\n"
          ]
        },
        {
          "output_type": "stream",
          "name": "stderr",
          "text": [
            "Train Loss: 0.4680\tTrain accuracy: 0.7778\tTrain precision: 1.0000\tTrain recall: 0.7143\tTrain F1: 0.8333: 100%|██████████| 32/32 [00:00<00:00, 44.44it/s]\n"
          ]
        },
        {
          "output_type": "stream",
          "name": "stdout",
          "text": [
            "+-----------+------------+------------+\n",
            "|           |   TRAIN    | VALIDATION |\n",
            "+-----------+------------+------------+\n",
            "|   Loss    |   0.534    |   0.693    |\n",
            "| Accuracy  |   0.723    |   0.605    |\n",
            "| Precision |   0.729    |   0.593    |\n",
            "|  Recall   |   0.729    |   0.604    |\n",
            "|    F1     |   0.726    |   0.597    |\n",
            "+-----------+------------+------------+\n",
            "\n",
            "\t[Epoch: 60] train loss = 0.5338 \t train accuracy = 0.7225\n",
            "\t[Epoch: 60] valid loss = 0.6928 \t valid accuracy = 0.6049\n",
            "\n",
            "####################################################################################################\n",
            " Epoch 61\n"
          ]
        },
        {
          "output_type": "stream",
          "name": "stderr",
          "text": [
            "Train Loss: 0.5558\tTrain accuracy: 0.5556\tTrain precision: 0.6000\tTrain recall: 0.6000\tTrain F1: 0.6000: 100%|██████████| 32/32 [00:00<00:00, 33.73it/s]\n"
          ]
        },
        {
          "output_type": "stream",
          "name": "stdout",
          "text": [
            "+-----------+------------+------------+\n",
            "|           |   TRAIN    | VALIDATION |\n",
            "+-----------+------------+------------+\n",
            "|   Loss    |   0.529    |   0.703    |\n",
            "| Accuracy  |   0.719    |   0.576    |\n",
            "| Precision |   0.715    |   0.437    |\n",
            "|  Recall   |   0.729    |   0.602    |\n",
            "|    F1     |   0.721    |   0.504    |\n",
            "+-----------+------------+------------+\n",
            "\n",
            "\t[Epoch: 61] train loss = 0.5286 \t train accuracy = 0.7185\n",
            "\t[Epoch: 61] valid loss = 0.7034 \t valid accuracy = 0.5757\n",
            "\n",
            "####################################################################################################\n",
            " Epoch 62\n"
          ]
        },
        {
          "output_type": "stream",
          "name": "stderr",
          "text": [
            "Train Loss: 0.3004\tTrain accuracy: 0.8889\tTrain precision: 0.8000\tTrain recall: 1.0000\tTrain F1: 0.8889: 100%|██████████| 32/32 [00:00<00:00, 33.07it/s]\n"
          ]
        },
        {
          "output_type": "stream",
          "name": "stdout",
          "text": [
            "+-----------+------------+------------+\n",
            "|           |   TRAIN    | VALIDATION |\n",
            "+-----------+------------+------------+\n",
            "|   Loss    |   0.528    |    0.7     |\n",
            "| Accuracy  |   0.724    |    0.58    |\n",
            "| Precision |   0.712    |   0.474    |\n",
            "|  Recall   |   0.739    |    0.6     |\n",
            "|    F1     |   0.723    |   0.527    |\n",
            "+-----------+------------+------------+\n",
            "\n",
            "\t[Epoch: 62] train loss = 0.5276 \t train accuracy = 0.7236\n",
            "\t[Epoch: 62] valid loss = 0.6998 \t valid accuracy = 0.5796\n",
            "\n",
            "####################################################################################################\n",
            " Epoch 63\n"
          ]
        },
        {
          "output_type": "stream",
          "name": "stderr",
          "text": [
            "Train Loss: 0.2733\tTrain accuracy: 1.0000\tTrain precision: 1.0000\tTrain recall: 1.0000\tTrain F1: 1.0000: 100%|██████████| 32/32 [00:00<00:00, 32.32it/s]\n"
          ]
        },
        {
          "output_type": "stream",
          "name": "stdout",
          "text": [
            "+-----------+------------+------------+\n",
            "|           |   TRAIN    | VALIDATION |\n",
            "+-----------+------------+------------+\n",
            "|   Loss    |    0.53    |   0.697    |\n",
            "| Accuracy  |    0.73    |   0.587    |\n",
            "| Precision |   0.718    |   0.653    |\n",
            "|  Recall   |   0.743    |   0.575    |\n",
            "|    F1     |   0.728    |   0.611    |\n",
            "+-----------+------------+------------+\n",
            "\n",
            "\t[Epoch: 63] train loss = 0.5296 \t train accuracy = 0.7305\n",
            "\t[Epoch: 63] valid loss = 0.6968 \t valid accuracy = 0.5874\n",
            "\n",
            "####################################################################################################\n",
            " Epoch 64\n"
          ]
        },
        {
          "output_type": "stream",
          "name": "stderr",
          "text": [
            "Train Loss: 0.7034\tTrain accuracy: 0.4444\tTrain precision: 0.6000\tTrain recall: 0.5000\tTrain F1: 0.5455: 100%|██████████| 32/32 [00:01<00:00, 31.35it/s]\n"
          ]
        },
        {
          "output_type": "stream",
          "name": "stdout",
          "text": [
            "+-----------+------------+------------+\n",
            "|           |   TRAIN    | VALIDATION |\n",
            "+-----------+------------+------------+\n",
            "|   Loss    |   0.536    |   0.695    |\n",
            "| Accuracy  |   0.714    |   0.584    |\n",
            "| Precision |   0.723    |   0.633    |\n",
            "|  Recall   |   0.721    |   0.573    |\n",
            "|    F1     |   0.719    |   0.601    |\n",
            "+-----------+------------+------------+\n",
            "\n",
            "\t[Epoch: 64] train loss = 0.5357 \t train accuracy = 0.7138\n",
            "\t[Epoch: 64] valid loss = 0.6951 \t valid accuracy = 0.5835\n",
            "\n",
            "####################################################################################################\n",
            " Epoch 65\n"
          ]
        },
        {
          "output_type": "stream",
          "name": "stderr",
          "text": [
            "Train Loss: 0.6240\tTrain accuracy: 0.5556\tTrain precision: 0.4000\tTrain recall: 0.6667\tTrain F1: 0.5000: 100%|██████████| 32/32 [00:00<00:00, 43.70it/s]\n"
          ]
        },
        {
          "output_type": "stream",
          "name": "stdout",
          "text": [
            "+-----------+------------+------------+\n",
            "|           |   TRAIN    | VALIDATION |\n",
            "+-----------+------------+------------+\n",
            "|   Loss    |   0.533    |   0.698    |\n",
            "| Accuracy  |   0.722    |   0.584    |\n",
            "| Precision |   0.716    |   0.645    |\n",
            "|  Recall   |   0.734    |   0.572    |\n",
            "|    F1     |   0.722    |   0.606    |\n",
            "+-----------+------------+------------+\n",
            "\n",
            "\t[Epoch: 65] train loss = 0.5334 \t train accuracy = 0.7217\n",
            "\t[Epoch: 65] valid loss = 0.6979 \t valid accuracy = 0.5835\n",
            "\n",
            "####################################################################################################\n",
            " Epoch 66\n"
          ]
        },
        {
          "output_type": "stream",
          "name": "stderr",
          "text": [
            "Train Loss: 0.8807\tTrain accuracy: 0.4444\tTrain precision: 0.6000\tTrain recall: 0.5000\tTrain F1: 0.5455: 100%|██████████| 32/32 [00:00<00:00, 43.22it/s]\n"
          ]
        },
        {
          "output_type": "stream",
          "name": "stdout",
          "text": [
            "+-----------+------------+------------+\n",
            "|           |   TRAIN    | VALIDATION |\n",
            "+-----------+------------+------------+\n",
            "|   Loss    |   0.541    |   0.697    |\n",
            "| Accuracy  |   0.719    |   0.601    |\n",
            "| Precision |   0.732    |   0.573    |\n",
            "|  Recall   |   0.725    |   0.603    |\n",
            "|    F1     |   0.725    |   0.586    |\n",
            "+-----------+------------+------------+\n",
            "\n",
            "\t[Epoch: 66] train loss = 0.5414 \t train accuracy = 0.7190\n",
            "\t[Epoch: 66] valid loss = 0.6968 \t valid accuracy = 0.6010\n",
            "\n",
            "####################################################################################################\n",
            " Epoch 67\n"
          ]
        },
        {
          "output_type": "stream",
          "name": "stderr",
          "text": [
            "Train Loss: 0.7784\tTrain accuracy: 0.4444\tTrain precision: 0.5000\tTrain recall: 0.4000\tTrain F1: 0.4444: 100%|██████████| 32/32 [00:00<00:00, 47.19it/s]\n"
          ]
        },
        {
          "output_type": "stream",
          "name": "stdout",
          "text": [
            "+-----------+------------+------------+\n",
            "|           |   TRAIN    | VALIDATION |\n",
            "+-----------+------------+------------+\n",
            "|   Loss    |   0.531    |   0.699    |\n",
            "| Accuracy  |   0.722    |   0.583    |\n",
            "| Precision |    0.7     |   0.573    |\n",
            "|  Recall   |   0.739    |    0.58    |\n",
            "|    F1     |   0.717    |   0.576    |\n",
            "+-----------+------------+------------+\n",
            "\n",
            "\t[Epoch: 67] train loss = 0.5307 \t train accuracy = 0.7221\n",
            "\t[Epoch: 67] valid loss = 0.6986 \t valid accuracy = 0.5834\n",
            "\n",
            "####################################################################################################\n",
            " Epoch 68\n"
          ]
        },
        {
          "output_type": "stream",
          "name": "stderr",
          "text": [
            "Train Loss: 0.7203\tTrain accuracy: 0.4444\tTrain precision: 0.5000\tTrain recall: 0.6000\tTrain F1: 0.5455: 100%|██████████| 32/32 [00:00<00:00, 44.30it/s]\n"
          ]
        },
        {
          "output_type": "stream",
          "name": "stdout",
          "text": [
            "+-----------+------------+------------+\n",
            "|           |   TRAIN    | VALIDATION |\n",
            "+-----------+------------+------------+\n",
            "|   Loss    |   0.534    |   0.699    |\n",
            "| Accuracy  |   0.722    |   0.585    |\n",
            "| Precision |   0.715    |   0.597    |\n",
            "|  Recall   |   0.739    |   0.579    |\n",
            "|    F1     |   0.724    |   0.587    |\n",
            "+-----------+------------+------------+\n",
            "\n",
            "\t[Epoch: 68] train loss = 0.5336 \t train accuracy = 0.7217\n",
            "\t[Epoch: 68] valid loss = 0.6990 \t valid accuracy = 0.5853\n",
            "\n",
            "####################################################################################################\n",
            " Epoch 69\n"
          ]
        },
        {
          "output_type": "stream",
          "name": "stderr",
          "text": [
            "Train Loss: 0.5110\tTrain accuracy: 0.7778\tTrain precision: 0.7500\tTrain recall: 0.7500\tTrain F1: 0.7500: 100%|██████████| 32/32 [00:00<00:00, 43.03it/s]\n"
          ]
        },
        {
          "output_type": "stream",
          "name": "stdout",
          "text": [
            "+-----------+------------+------------+\n",
            "|           |   TRAIN    | VALIDATION |\n",
            "+-----------+------------+------------+\n",
            "|   Loss    |   0.524    |   0.695    |\n",
            "| Accuracy  |   0.731    |   0.591    |\n",
            "| Precision |   0.734    |   0.605    |\n",
            "|  Recall   |   0.734    |   0.585    |\n",
            "|    F1     |   0.732    |   0.594    |\n",
            "+-----------+------------+------------+\n",
            "\n",
            "\t[Epoch: 69] train loss = 0.5236 \t train accuracy = 0.7311\n",
            "\t[Epoch: 69] valid loss = 0.6953 \t valid accuracy = 0.5912\n",
            "\n",
            "####################################################################################################\n",
            " Epoch 70\n"
          ]
        },
        {
          "output_type": "stream",
          "name": "stderr",
          "text": [
            "Train Loss: 0.5899\tTrain accuracy: 0.6667\tTrain precision: 0.8000\tTrain recall: 0.6667\tTrain F1: 0.7273: 100%|██████████| 32/32 [00:00<00:00, 43.61it/s]\n"
          ]
        },
        {
          "output_type": "stream",
          "name": "stdout",
          "text": [
            "+-----------+------------+------------+\n",
            "|           |   TRAIN    | VALIDATION |\n",
            "+-----------+------------+------------+\n",
            "|   Loss    |   0.529    |   0.695    |\n",
            "| Accuracy  |   0.724    |   0.589    |\n",
            "| Precision |   0.724    |   0.569    |\n",
            "|  Recall   |   0.733    |   0.588    |\n",
            "|    F1     |   0.727    |   0.577    |\n",
            "+-----------+------------+------------+\n",
            "\n",
            "\t[Epoch: 70] train loss = 0.5288 \t train accuracy = 0.7244\n",
            "\t[Epoch: 70] valid loss = 0.6952 \t valid accuracy = 0.5892\n",
            "\n",
            "####################################################################################################\n",
            " Epoch 71\n"
          ]
        },
        {
          "output_type": "stream",
          "name": "stderr",
          "text": [
            "Train Loss: 0.2853\tTrain accuracy: 1.0000\tTrain precision: 1.0000\tTrain recall: 1.0000\tTrain F1: 1.0000: 100%|██████████| 32/32 [00:00<00:00, 43.62it/s]\n"
          ]
        },
        {
          "output_type": "stream",
          "name": "stdout",
          "text": [
            "+-----------+------------+------------+\n",
            "|           |   TRAIN    | VALIDATION |\n",
            "+-----------+------------+------------+\n",
            "|   Loss    |   0.512    |   0.701    |\n",
            "| Accuracy  |   0.731    |   0.589    |\n",
            "| Precision |   0.726    |   0.541    |\n",
            "|  Recall   |   0.741    |   0.594    |\n",
            "|    F1     |   0.731    |   0.564    |\n",
            "+-----------+------------+------------+\n",
            "\n",
            "\t[Epoch: 71] train loss = 0.5122 \t train accuracy = 0.7307\n",
            "\t[Epoch: 71] valid loss = 0.7008 \t valid accuracy = 0.5892\n",
            "\n",
            "####################################################################################################\n",
            " Epoch 72\n"
          ]
        },
        {
          "output_type": "stream",
          "name": "stderr",
          "text": [
            "Train Loss: 0.4913\tTrain accuracy: 0.8889\tTrain precision: 0.8333\tTrain recall: 1.0000\tTrain F1: 0.9091: 100%|██████████| 32/32 [00:00<00:00, 46.53it/s]\n"
          ]
        },
        {
          "output_type": "stream",
          "name": "stdout",
          "text": [
            "+-----------+------------+------------+\n",
            "|           |   TRAIN    | VALIDATION |\n",
            "+-----------+------------+------------+\n",
            "|   Loss    |   0.525    |    0.7     |\n",
            "| Accuracy  |   0.744    |   0.593    |\n",
            "| Precision |   0.725    |   0.609    |\n",
            "|  Recall   |   0.764    |   0.587    |\n",
            "|    F1     |   0.741    |   0.597    |\n",
            "+-----------+------------+------------+\n",
            "\n",
            "\t[Epoch: 72] train loss = 0.5249 \t train accuracy = 0.7441\n",
            "\t[Epoch: 72] valid loss = 0.7004 \t valid accuracy = 0.5931\n",
            "\n",
            "####################################################################################################\n",
            " Epoch 73\n"
          ]
        },
        {
          "output_type": "stream",
          "name": "stderr",
          "text": [
            "Train Loss: 0.3975\tTrain accuracy: 0.6667\tTrain precision: 0.6000\tTrain recall: 0.7500\tTrain F1: 0.6667: 100%|██████████| 32/32 [00:00<00:00, 44.24it/s]\n"
          ]
        },
        {
          "output_type": "stream",
          "name": "stdout",
          "text": [
            "+-----------+------------+------------+\n",
            "|           |   TRAIN    | VALIDATION |\n",
            "+-----------+------------+------------+\n",
            "|   Loss    |   0.519    |   0.697    |\n",
            "| Accuracy  |   0.732    |   0.598    |\n",
            "| Precision |    0.73    |   0.658    |\n",
            "|  Recall   |    0.74    |   0.584    |\n",
            "|    F1     |   0.733    |   0.618    |\n",
            "+-----------+------------+------------+\n",
            "\n",
            "\t[Epoch: 73] train loss = 0.5185 \t train accuracy = 0.7320\n",
            "\t[Epoch: 73] valid loss = 0.6965 \t valid accuracy = 0.5980\n",
            "\n",
            "####################################################################################################\n",
            " Epoch 74\n"
          ]
        },
        {
          "output_type": "stream",
          "name": "stderr",
          "text": [
            "Train Loss: 0.3970\tTrain accuracy: 0.8889\tTrain precision: 1.0000\tTrain recall: 0.7500\tTrain F1: 0.8571: 100%|██████████| 32/32 [00:00<00:00, 43.40it/s]\n"
          ]
        },
        {
          "output_type": "stream",
          "name": "stdout",
          "text": [
            "+-----------+------------+------------+\n",
            "|           |   TRAIN    | VALIDATION |\n",
            "+-----------+------------+------------+\n",
            "|   Loss    |   0.517    |   0.704    |\n",
            "| Accuracy  |   0.738    |   0.568    |\n",
            "| Precision |   0.749    |   0.431    |\n",
            "|  Recall   |    0.74    |   0.591    |\n",
            "|    F1     |   0.741    |   0.498    |\n",
            "+-----------+------------+------------+\n",
            "\n",
            "\t[Epoch: 74] train loss = 0.5174 \t train accuracy = 0.7382\n",
            "\t[Epoch: 74] valid loss = 0.7045 \t valid accuracy = 0.5679\n",
            "\n",
            "####################################################################################################\n",
            " Epoch 75\n"
          ]
        },
        {
          "output_type": "stream",
          "name": "stderr",
          "text": [
            "Train Loss: 0.5645\tTrain accuracy: 0.7778\tTrain precision: 0.7500\tTrain recall: 1.0000\tTrain F1: 0.8571: 100%|██████████| 32/32 [00:00<00:00, 42.81it/s]\n"
          ]
        },
        {
          "output_type": "stream",
          "name": "stdout",
          "text": [
            "+-----------+------------+------------+\n",
            "|           |   TRAIN    | VALIDATION |\n",
            "+-----------+------------+------------+\n",
            "|   Loss    |   0.532    |   0.695    |\n",
            "| Accuracy  |   0.724    |   0.595    |\n",
            "| Precision |    0.71    |   0.617    |\n",
            "|  Recall   |   0.744    |   0.587    |\n",
            "|    F1     |   0.724    |   0.601    |\n",
            "+-----------+------------+------------+\n",
            "\n",
            "\t[Epoch: 75] train loss = 0.5317 \t train accuracy = 0.7238\n",
            "\t[Epoch: 75] valid loss = 0.6946 \t valid accuracy = 0.5951\n",
            "\n",
            "####################################################################################################\n",
            " Epoch 76\n"
          ]
        },
        {
          "output_type": "stream",
          "name": "stderr",
          "text": [
            "Train Loss: 0.4335\tTrain accuracy: 0.6667\tTrain precision: 0.7500\tTrain recall: 0.6000\tTrain F1: 0.6667: 100%|██████████| 32/32 [00:00<00:00, 45.16it/s]\n"
          ]
        },
        {
          "output_type": "stream",
          "name": "stdout",
          "text": [
            "+-----------+------------+------------+\n",
            "|           |   TRAIN    | VALIDATION |\n",
            "+-----------+------------+------------+\n",
            "|   Loss    |   0.518    |   0.694    |\n",
            "| Accuracy  |   0.731    |   0.592    |\n",
            "| Precision |   0.751    |   0.626    |\n",
            "|  Recall   |   0.731    |   0.582    |\n",
            "|    F1     |   0.736    |   0.603    |\n",
            "+-----------+------------+------------+\n",
            "\n",
            "\t[Epoch: 76] train loss = 0.5179 \t train accuracy = 0.7313\n",
            "\t[Epoch: 76] valid loss = 0.6945 \t valid accuracy = 0.5921\n",
            "\n",
            "####################################################################################################\n",
            " Epoch 77\n"
          ]
        },
        {
          "output_type": "stream",
          "name": "stderr",
          "text": [
            "Train Loss: 0.5671\tTrain accuracy: 0.6667\tTrain precision: 0.7500\tTrain recall: 0.6000\tTrain F1: 0.6667: 100%|██████████| 32/32 [00:00<00:00, 39.55it/s]\n"
          ]
        },
        {
          "output_type": "stream",
          "name": "stdout",
          "text": [
            "+-----------+------------+------------+\n",
            "|           |   TRAIN    | VALIDATION |\n",
            "+-----------+------------+------------+\n",
            "|   Loss    |   0.526    |   0.695    |\n",
            "| Accuracy  |   0.728    |   0.581    |\n",
            "| Precision |   0.731    |   0.638    |\n",
            "|  Recall   |   0.733    |   0.568    |\n",
            "|    F1     |   0.729    |    0.6     |\n",
            "+-----------+------------+------------+\n",
            "\n",
            "\t[Epoch: 77] train loss = 0.5260 \t train accuracy = 0.7284\n",
            "\t[Epoch: 77] valid loss = 0.6955 \t valid accuracy = 0.5805\n",
            "\n",
            "####################################################################################################\n",
            " Epoch 78\n"
          ]
        },
        {
          "output_type": "stream",
          "name": "stderr",
          "text": [
            "Train Loss: 0.3455\tTrain accuracy: 1.0000\tTrain precision: 1.0000\tTrain recall: 1.0000\tTrain F1: 1.0000: 100%|██████████| 32/32 [00:00<00:00, 32.35it/s]\n"
          ]
        },
        {
          "output_type": "stream",
          "name": "stdout",
          "text": [
            "+-----------+------------+------------+\n",
            "|           |   TRAIN    | VALIDATION |\n",
            "+-----------+------------+------------+\n",
            "|   Loss    |   0.517    |   0.695    |\n",
            "| Accuracy  |   0.746    |   0.592    |\n",
            "| Precision |    0.75    |   0.595    |\n",
            "|  Recall   |   0.751    |   0.586    |\n",
            "|    F1     |   0.749    |   0.589    |\n",
            "+-----------+------------+------------+\n",
            "\n",
            "\t[Epoch: 78] train loss = 0.5172 \t train accuracy = 0.7458\n",
            "\t[Epoch: 78] valid loss = 0.6952 \t valid accuracy = 0.5921\n",
            "\n",
            "####################################################################################################\n",
            " Epoch 79\n"
          ]
        },
        {
          "output_type": "stream",
          "name": "stderr",
          "text": [
            "Train Loss: 0.5527\tTrain accuracy: 0.7778\tTrain precision: 0.7500\tTrain recall: 0.7500\tTrain F1: 0.7500: 100%|██████████| 32/32 [00:00<00:00, 34.05it/s]\n"
          ]
        },
        {
          "output_type": "stream",
          "name": "stdout",
          "text": [
            "+-----------+------------+------------+\n",
            "|           |   TRAIN    | VALIDATION |\n",
            "+-----------+------------+------------+\n",
            "|   Loss    |   0.516    |   0.702    |\n",
            "| Accuracy  |   0.747    |    0.59    |\n",
            "| Precision |    0.75    |   0.587    |\n",
            "|  Recall   |   0.752    |   0.585    |\n",
            "|    F1     |   0.749    |   0.584    |\n",
            "+-----------+------------+------------+\n",
            "\n",
            "\t[Epoch: 79] train loss = 0.5160 \t train accuracy = 0.7470\n",
            "\t[Epoch: 79] valid loss = 0.7018 \t valid accuracy = 0.5901\n",
            "\n",
            "####################################################################################################\n",
            " Epoch 80\n"
          ]
        },
        {
          "output_type": "stream",
          "name": "stderr",
          "text": [
            "Train Loss: 0.6579\tTrain accuracy: 0.5556\tTrain precision: 0.2500\tTrain recall: 0.5000\tTrain F1: 0.3333: 100%|██████████| 32/32 [00:01<00:00, 30.09it/s]\n"
          ]
        },
        {
          "output_type": "stream",
          "name": "stdout",
          "text": [
            "+-----------+------------+------------+\n",
            "|           |   TRAIN    | VALIDATION |\n",
            "+-----------+------------+------------+\n",
            "|   Loss    |   0.522    |   0.712    |\n",
            "| Accuracy  |   0.737    |   0.567    |\n",
            "| Precision |   0.727    |    0.5     |\n",
            "|  Recall   |   0.745    |    0.57    |\n",
            "|    F1     |   0.731    |   0.531    |\n",
            "+-----------+------------+------------+\n",
            "\n",
            "\t[Epoch: 80] train loss = 0.5220 \t train accuracy = 0.7368\n",
            "\t[Epoch: 80] valid loss = 0.7121 \t valid accuracy = 0.5669\n",
            "\n",
            "####################################################################################################\n",
            " Epoch 81\n"
          ]
        },
        {
          "output_type": "stream",
          "name": "stderr",
          "text": [
            "Train Loss: 0.3780\tTrain accuracy: 0.8889\tTrain precision: 0.8571\tTrain recall: 1.0000\tTrain F1: 0.9231: 100%|██████████| 32/32 [00:00<00:00, 38.94it/s]\n"
          ]
        },
        {
          "output_type": "stream",
          "name": "stdout",
          "text": [
            "+-----------+------------+------------+\n",
            "|           |   TRAIN    | VALIDATION |\n",
            "+-----------+------------+------------+\n",
            "|   Loss    |   0.516    |   0.704    |\n",
            "| Accuracy  |   0.734    |   0.579    |\n",
            "| Precision |   0.731    |   0.554    |\n",
            "|  Recall   |   0.745    |   0.578    |\n",
            "|    F1     |   0.736    |   0.564    |\n",
            "+-----------+------------+------------+\n",
            "\n",
            "\t[Epoch: 81] train loss = 0.5159 \t train accuracy = 0.7343\n",
            "\t[Epoch: 81] valid loss = 0.7042 \t valid accuracy = 0.5795\n",
            "\n",
            "####################################################################################################\n",
            " Epoch 82\n"
          ]
        },
        {
          "output_type": "stream",
          "name": "stderr",
          "text": [
            "Train Loss: 0.4286\tTrain accuracy: 0.6667\tTrain precision: 0.5714\tTrain recall: 1.0000\tTrain F1: 0.7273: 100%|██████████| 32/32 [00:00<00:00, 45.32it/s]\n"
          ]
        },
        {
          "output_type": "stream",
          "name": "stdout",
          "text": [
            "+-----------+------------+------------+\n",
            "|           |   TRAIN    | VALIDATION |\n",
            "+-----------+------------+------------+\n",
            "|   Loss    |   0.508    |   0.709    |\n",
            "| Accuracy  |   0.736    |   0.583    |\n",
            "| Precision |    0.74    |   0.607    |\n",
            "|  Recall   |    0.75    |   0.575    |\n",
            "|    F1     |   0.742    |   0.589    |\n",
            "+-----------+------------+------------+\n",
            "\n",
            "\t[Epoch: 82] train loss = 0.5082 \t train accuracy = 0.7362\n",
            "\t[Epoch: 82] valid loss = 0.7093 \t valid accuracy = 0.5834\n",
            "\n",
            "####################################################################################################\n",
            " Epoch 83\n"
          ]
        },
        {
          "output_type": "stream",
          "name": "stderr",
          "text": [
            "Train Loss: 0.4835\tTrain accuracy: 0.7778\tTrain precision: 0.8000\tTrain recall: 0.8000\tTrain F1: 0.8000: 100%|██████████| 32/32 [00:00<00:00, 42.79it/s]\n"
          ]
        },
        {
          "output_type": "stream",
          "name": "stdout",
          "text": [
            "+-----------+------------+------------+\n",
            "|           |   TRAIN    | VALIDATION |\n",
            "+-----------+------------+------------+\n",
            "|   Loss    |   0.523    |    0.71    |\n",
            "| Accuracy  |   0.735    |   0.562    |\n",
            "| Precision |   0.754    |   0.491    |\n",
            "|  Recall   |   0.734    |   0.568    |\n",
            "|    F1     |   0.742    |   0.525    |\n",
            "+-----------+------------+------------+\n",
            "\n",
            "\t[Epoch: 83] train loss = 0.5234 \t train accuracy = 0.7348\n",
            "\t[Epoch: 83] valid loss = 0.7096 \t valid accuracy = 0.5620\n",
            "\n",
            "####################################################################################################\n",
            " Epoch 84\n"
          ]
        },
        {
          "output_type": "stream",
          "name": "stderr",
          "text": [
            "Train Loss: 0.3637\tTrain accuracy: 0.8889\tTrain precision: 1.0000\tTrain recall: 0.6667\tTrain F1: 0.8000: 100%|██████████| 32/32 [00:00<00:00, 42.90it/s]\n"
          ]
        },
        {
          "output_type": "stream",
          "name": "stdout",
          "text": [
            "+-----------+------------+------------+\n",
            "|           |   TRAIN    | VALIDATION |\n",
            "+-----------+------------+------------+\n",
            "|   Loss    |   0.512    |   0.718    |\n",
            "| Accuracy  |   0.741    |   0.554    |\n",
            "| Precision |   0.747    |   0.437    |\n",
            "|  Recall   |    0.74    |   0.567    |\n",
            "|    F1     |   0.741    |   0.492    |\n",
            "+-----------+------------+------------+\n",
            "\n",
            "\t[Epoch: 84] train loss = 0.5120 \t train accuracy = 0.7412\n",
            "\t[Epoch: 84] valid loss = 0.7184 \t valid accuracy = 0.5542\n",
            "\n",
            "####################################################################################################\n",
            " Epoch 85\n"
          ]
        },
        {
          "output_type": "stream",
          "name": "stderr",
          "text": [
            "Train Loss: 0.2205\tTrain accuracy: 0.8889\tTrain precision: 1.0000\tTrain recall: 0.8000\tTrain F1: 0.8889: 100%|██████████| 32/32 [00:00<00:00, 43.51it/s]\n"
          ]
        },
        {
          "output_type": "stream",
          "name": "stdout",
          "text": [
            "+-----------+------------+------------+\n",
            "|           |   TRAIN    | VALIDATION |\n",
            "+-----------+------------+------------+\n",
            "|   Loss    |   0.499    |   0.713    |\n",
            "| Accuracy  |   0.746    |   0.567    |\n",
            "| Precision |   0.726    |    0.5     |\n",
            "|  Recall   |   0.763    |   0.571    |\n",
            "|    F1     |   0.741    |   0.531    |\n",
            "+-----------+------------+------------+\n",
            "\n",
            "\t[Epoch: 85] train loss = 0.4985 \t train accuracy = 0.7456\n",
            "\t[Epoch: 85] valid loss = 0.7127 \t valid accuracy = 0.5669\n",
            "\n",
            "####################################################################################################\n",
            " Epoch 86\n"
          ]
        },
        {
          "output_type": "stream",
          "name": "stderr",
          "text": [
            "Train Loss: 0.5685\tTrain accuracy: 0.5556\tTrain precision: 1.0000\tTrain recall: 0.4286\tTrain F1: 0.6000: 100%|██████████| 32/32 [00:00<00:00, 44.85it/s]\n"
          ]
        },
        {
          "output_type": "stream",
          "name": "stdout",
          "text": [
            "+-----------+------------+------------+\n",
            "|           |   TRAIN    | VALIDATION |\n",
            "+-----------+------------+------------+\n",
            "|   Loss    |   0.508    |    0.71    |\n",
            "| Accuracy  |   0.731    |   0.588    |\n",
            "| Precision |   0.751    |   0.552    |\n",
            "|  Recall   |   0.732    |   0.588    |\n",
            "|    F1     |   0.736    |   0.566    |\n",
            "+-----------+------------+------------+\n",
            "\n",
            "\t[Epoch: 86] train loss = 0.5085 \t train accuracy = 0.7312\n",
            "\t[Epoch: 86] valid loss = 0.7098 \t valid accuracy = 0.5882\n",
            "\n",
            "####################################################################################################\n",
            " Epoch 87\n"
          ]
        },
        {
          "output_type": "stream",
          "name": "stderr",
          "text": [
            "Train Loss: 0.3437\tTrain accuracy: 0.7778\tTrain precision: 0.8571\tTrain recall: 0.8571\tTrain F1: 0.8571: 100%|██████████| 32/32 [00:00<00:00, 44.68it/s]\n"
          ]
        },
        {
          "output_type": "stream",
          "name": "stdout",
          "text": [
            "+-----------+------------+------------+\n",
            "|           |   TRAIN    | VALIDATION |\n",
            "+-----------+------------+------------+\n",
            "|   Loss    |   0.513    |   0.708    |\n",
            "| Accuracy  |   0.737    |   0.567    |\n",
            "| Precision |    0.73    |   0.483    |\n",
            "|  Recall   |   0.752    |   0.575    |\n",
            "|    F1     |   0.738    |   0.523    |\n",
            "+-----------+------------+------------+\n",
            "\n",
            "\t[Epoch: 87] train loss = 0.5125 \t train accuracy = 0.7370\n",
            "\t[Epoch: 87] valid loss = 0.7085 \t valid accuracy = 0.5669\n",
            "\n",
            "####################################################################################################\n",
            " Epoch 88\n"
          ]
        },
        {
          "output_type": "stream",
          "name": "stderr",
          "text": [
            "Train Loss: 0.4796\tTrain accuracy: 0.7778\tTrain precision: 1.0000\tTrain recall: 0.6000\tTrain F1: 0.7500: 100%|██████████| 32/32 [00:00<00:00, 42.90it/s]\n"
          ]
        },
        {
          "output_type": "stream",
          "name": "stdout",
          "text": [
            "+-----------+------------+------------+\n",
            "|           |   TRAIN    | VALIDATION |\n",
            "+-----------+------------+------------+\n",
            "|   Loss    |   0.515    |   0.704    |\n",
            "| Accuracy  |   0.737    |   0.585    |\n",
            "| Precision |   0.742    |   0.603    |\n",
            "|  Recall   |   0.738    |   0.577    |\n",
            "|    F1     |   0.736    |   0.588    |\n",
            "+-----------+------------+------------+\n",
            "\n",
            "\t[Epoch: 88] train loss = 0.5148 \t train accuracy = 0.7367\n",
            "\t[Epoch: 88] valid loss = 0.7043 \t valid accuracy = 0.5853\n",
            "\n",
            "####################################################################################################\n",
            " Epoch 89\n"
          ]
        },
        {
          "output_type": "stream",
          "name": "stderr",
          "text": [
            "Train Loss: 0.3134\tTrain accuracy: 0.7778\tTrain precision: 0.3333\tTrain recall: 1.0000\tTrain F1: 0.5000: 100%|██████████| 32/32 [00:00<00:00, 42.35it/s]\n"
          ]
        },
        {
          "output_type": "stream",
          "name": "stdout",
          "text": [
            "+-----------+------------+------------+\n",
            "|           |   TRAIN    | VALIDATION |\n",
            "+-----------+------------+------------+\n",
            "|   Loss    |   0.494    |   0.709    |\n",
            "| Accuracy  |   0.752    |   0.587    |\n",
            "| Precision |    0.72    |   0.607    |\n",
            "|  Recall   |   0.775    |   0.579    |\n",
            "|    F1     |    0.74    |   0.591    |\n",
            "+-----------+------------+------------+\n",
            "\n",
            "\t[Epoch: 89] train loss = 0.4945 \t train accuracy = 0.7516\n",
            "\t[Epoch: 89] valid loss = 0.7085 \t valid accuracy = 0.5873\n",
            "\n",
            "####################################################################################################\n",
            " Epoch 90\n"
          ]
        },
        {
          "output_type": "stream",
          "name": "stderr",
          "text": [
            "Train Loss: 0.3348\tTrain accuracy: 1.0000\tTrain precision: 1.0000\tTrain recall: 1.0000\tTrain F1: 1.0000: 100%|██████████| 32/32 [00:00<00:00, 43.67it/s]\n"
          ]
        },
        {
          "output_type": "stream",
          "name": "stdout",
          "text": [
            "+-----------+------------+------------+\n",
            "|           |   TRAIN    | VALIDATION |\n",
            "+-----------+------------+------------+\n",
            "|   Loss    |   0.503    |   0.718    |\n",
            "| Accuracy  |   0.749    |   0.553    |\n",
            "| Precision |   0.753    |   0.482    |\n",
            "|  Recall   |   0.754    |   0.559    |\n",
            "|    F1     |   0.751    |   0.516    |\n",
            "+-----------+------------+------------+\n",
            "\n",
            "\t[Epoch: 90] train loss = 0.5025 \t train accuracy = 0.7488\n",
            "\t[Epoch: 90] valid loss = 0.7177 \t valid accuracy = 0.5533\n",
            "\n",
            "####################################################################################################\n",
            " Epoch 91\n"
          ]
        },
        {
          "output_type": "stream",
          "name": "stderr",
          "text": [
            "Train Loss: 0.7032\tTrain accuracy: 0.7778\tTrain precision: 0.6667\tTrain recall: 0.6667\tTrain F1: 0.6667: 100%|██████████| 32/32 [00:01<00:00, 28.41it/s]\n"
          ]
        },
        {
          "output_type": "stream",
          "name": "stdout",
          "text": [
            "+-----------+------------+------------+\n",
            "|           |   TRAIN    | VALIDATION |\n",
            "+-----------+------------+------------+\n",
            "|   Loss    |    0.51    |   0.719    |\n",
            "| Accuracy  |    0.75    |   0.558    |\n",
            "| Precision |   0.739    |   0.522    |\n",
            "|  Recall   |   0.756    |    0.56    |\n",
            "|    F1     |   0.746    |   0.539    |\n",
            "+-----------+------------+------------+\n",
            "\n",
            "\t[Epoch: 91] train loss = 0.5101 \t train accuracy = 0.7496\n",
            "\t[Epoch: 91] valid loss = 0.7194 \t valid accuracy = 0.5583\n",
            "\n",
            "####################################################################################################\n",
            " Epoch 92\n"
          ]
        },
        {
          "output_type": "stream",
          "name": "stderr",
          "text": [
            "Train Loss: 0.2629\tTrain accuracy: 0.8889\tTrain precision: 1.0000\tTrain recall: 0.8333\tTrain F1: 0.9091: 100%|██████████| 32/32 [00:00<00:00, 43.62it/s]\n"
          ]
        },
        {
          "output_type": "stream",
          "name": "stdout",
          "text": [
            "+-----------+------------+------------+\n",
            "|           |   TRAIN    | VALIDATION |\n",
            "+-----------+------------+------------+\n",
            "|   Loss    |   0.491    |   0.714    |\n",
            "| Accuracy  |   0.754    |   0.583    |\n",
            "| Precision |   0.749    |   0.614    |\n",
            "|  Recall   |   0.765    |   0.573    |\n",
            "|    F1     |   0.755    |   0.592    |\n",
            "+-----------+------------+------------+\n",
            "\n",
            "\t[Epoch: 92] train loss = 0.4911 \t train accuracy = 0.7536\n",
            "\t[Epoch: 92] valid loss = 0.7139 \t valid accuracy = 0.5834\n",
            "\n",
            "####################################################################################################\n",
            " Epoch 93\n"
          ]
        },
        {
          "output_type": "stream",
          "name": "stderr",
          "text": [
            "Train Loss: 0.4416\tTrain accuracy: 0.7778\tTrain precision: 0.7500\tTrain recall: 1.0000\tTrain F1: 0.8571: 100%|██████████| 32/32 [00:00<00:00, 36.53it/s]\n"
          ]
        },
        {
          "output_type": "stream",
          "name": "stdout",
          "text": [
            "Early stopping on epoch 93\n",
            "Keeping best accuracy validation weights (epoch 17)\n"
          ]
        }
      ],
      "source": [
        "# Train the GRU model\n",
        "train_metrics_gru,valid_metrics_gru = trainer_gru.train(training_dataloader,\n",
        "                                            validation_dataloader,\n",
        "                                            epochs=250,\n",
        "                                            early_stopper = 75,\n",
        "                                            best_val_acc=True)"
      ]
    },
    {
      "cell_type": "markdown",
      "metadata": {
        "id": "uTm8sJ4LikGT"
      },
      "source": [
        "# Interpreting GRU Model Results"
      ]
    },
    {
      "cell_type": "code",
      "source": [
        "# Compute and print the final metrics for the train dataset\n",
        "train_loss_gru, train_acc_gru, train_precision_gru, train_recall_gru, train_f1_gru = trainer_gru.evaluate(training_dataloader)\n",
        "print(f\"Train loss: {train_loss_gru:.4f}, Train accuracy: {train_acc_gru:.4f}, Train precision: {train_precision_gru:.4f}, Train recall: {train_recall_gru:.4f}, Train F1: {train_f1_gru:.4f}\")\n",
        "\n",
        "# Compute and print the final metrics for the validation dataset\n",
        "valid_loss_gru, valid_acc_gru, valid_precision_gru, valid_recall_gru, valid_f1_gru = trainer_gru.evaluate(validation_dataloader)\n",
        "print(f\"Validation loss: {valid_loss_gru:.4f}, Validation accuracy: {valid_acc_gru:.4f}, Validation precision: {valid_precision_gru:.4f}, Validation recall: {valid_recall_gru:.4f}, Validation F1: {valid_f1_gru:.4f}\")\n",
        "\n",
        "# Compute and print the metrics for the test dataset\n",
        "test_loss_gru, test_acc_gru, test_precision_gru, test_recall_gru, test_f1_gru = trainer_gru.evaluate(test_dataloader)\n",
        "print(f\"Test loss: {test_loss_gru:.4f}, Test accuracy: {test_acc_gru:.4f}, Test precision: {test_precision_gru:.4f}, Test recall: {test_recall_gru:.4f}, Test F1: {test_f1_gru:.4f}\")"
      ],
      "metadata": {
        "colab": {
          "base_uri": "https://localhost:8080/"
        },
        "id": "Um6-z5LudIXV",
        "outputId": "2dfcdb3d-1dbe-4392-e5ad-ebb74259fb02"
      },
      "execution_count": 64,
      "outputs": [
        {
          "output_type": "stream",
          "name": "stdout",
          "text": [
            "Train loss: 0.5616, Train accuracy: 0.7026, Train precision: 0.7622, Train recall: 0.6851, Train F1: 0.7205\n",
            "Validation loss: 0.6763, Validation accuracy: 0.6313, Validation precision: 0.6554, Validation recall: 0.6238, Validation F1: 0.6388\n",
            "Test loss: 0.6620, Test accuracy: 0.5980, Test precision: 0.7940, Test recall: 0.5852, Test F1: 0.6704\n"
          ]
        }
      ]
    },
    {
      "cell_type": "code",
      "execution_count": 65,
      "metadata": {
        "id": "E-T_K0jcikGm",
        "colab": {
          "base_uri": "https://localhost:8080/",
          "height": 884
        },
        "outputId": "94e6300a-7e45-420e-d09f-05e232dab0b9"
      },
      "outputs": [
        {
          "output_type": "display_data",
          "data": {
            "text/plain": [
              "<Figure size 1400x1200 with 6 Axes>"
            ],
            "image/png": "[encoded data removed]"
          },
          "metadata": {}
        }
      ],
      "source": [
        "# Plot all the metrics evolution through the epochs of the GRU model\n",
        "\n",
        "# Create a figure with 3 rows and 2 columns of subplots\n",
        "fig, axis = plt.subplots(3, 2, figsize=(14, 12))\n",
        "\n",
        "# Enhance the plot with grid lines, titles, labels, and different color\n",
        "# Plot the loss evolution\n",
        "axis[0, 0].set_title(\"Losses\", fontsize=14)\n",
        "axis[0, 0].plot(train_metrics_gru[\"train_losses\"], label=\"Train\", color='blue')\n",
        "axis[0, 0].plot(valid_metrics_gru[\"val_losses\"], label=\"Validation\", color='orange')\n",
        "axis[0, 0].axhline(test_loss_gru, linestyle='--', color='red', label='Test')\n",
        "axis[0, 0].set_xlabel('Epochs', fontsize=12)\n",
        "axis[0, 0].set_ylabel('Loss', fontsize=12)\n",
        "axis[0, 0].legend()\n",
        "axis[0, 0].grid(True)\n",
        "\n",
        "# Plot the accuracy evolution\n",
        "axis[0, 1].set_title(\"Accuracy\", fontsize=14)\n",
        "axis[0, 1].plot(train_metrics_gru[\"train_acc\"], label=\"Train Accuracy\", color='blue')\n",
        "axis[0, 1].plot(valid_metrics_gru[\"val_acc\"], label=\"Validation Accuracy\", color='orange')\n",
        "axis[0, 1].axhline(test_acc_gru, linestyle='--', color='red', label='Test Accuracy')\n",
        "axis[0, 1].axhline(random_choice_accuracy, linestyle=':', color='green', label='Random Choice')\n",
        "axis[0, 1].axhline(always_1_accuracy, linestyle=':', color='magenta', label='Always 1')\n",
        "axis[0, 1].axhline(always_0_accuracy, linestyle=':', color='blueviolet', label='Always 0')\n",
        "axis[0, 1].set_xlabel('Epochs', fontsize=12)\n",
        "axis[0, 1].set_ylabel('Accuracy', fontsize=12)\n",
        "axis[0, 1].legend()\n",
        "axis[0, 1].grid(True)\n",
        "\n",
        "# Plot the precision evolution\n",
        "axis[1, 0].set_title(\"Precision\", fontsize=14)\n",
        "axis[1, 0].plot(train_metrics_gru[\"train_precision\"], label=\"Train Precision\", color='blue')\n",
        "axis[1, 0].plot(valid_metrics_gru[\"val_precision\"], label=\"Validation Precision\", color='orange')\n",
        "axis[1, 0].axhline(test_precision_gru, linestyle='--', color='red', label='Test Precision')\n",
        "axis[1, 0].set_xlabel('Epochs', fontsize=12)\n",
        "axis[1, 0].set_ylabel('Precision', fontsize=12)\n",
        "axis[1, 0].legend()\n",
        "axis[1, 0].grid(True)\n",
        "\n",
        "# Plot the recall evolution\n",
        "axis[1, 1].set_title(\"Recall\", fontsize=14)\n",
        "axis[1, 1].plot(train_metrics_gru[\"train_recall\"], label=\"Train Recall\", color='blue')\n",
        "axis[1, 1].plot(valid_metrics_gru[\"val_recall\"], label=\"Validation Recall\", color='orange')\n",
        "axis[1, 1].axhline(test_recall_gru, linestyle='--', color='red', label='Test Recall')\n",
        "axis[1, 1].set_xlabel('Epochs', fontsize=12)\n",
        "axis[1, 1].set_ylabel('Recall', fontsize=12)\n",
        "axis[1, 1].legend()\n",
        "axis[1, 1].grid(True)\n",
        "\n",
        "# Plot the F1 score evolution\n",
        "axis[2, 0].set_title(\"F1 Score\", fontsize=14)\n",
        "axis[2, 0].plot(train_metrics_gru[\"train_f1\"], label=\"Train F1\", color='blue')\n",
        "axis[2, 0].plot(valid_metrics_gru[\"val_f1\"], label=\"Validation F1\", color='orange')\n",
        "axis[2, 0].axhline(test_f1_gru, linestyle='--', color='red', label='Test F1')\n",
        "axis[2, 0].set_xlabel('Epochs', fontsize=12)\n",
        "axis[2, 0].set_ylabel('F1 Score', fontsize=12)\n",
        "axis[2, 0].legend()\n",
        "axis[2, 0].grid(True)\n",
        "\n",
        "# Hide the unused subplot\n",
        "axis[2, 1].axis('off')\n",
        "\n",
        "# Adjust layout to prevent overlap\n",
        "plt.tight_layout()\n",
        "\n",
        "# Display the plot\n",
        "plt.show()"
      ]
    }
  ],
  "metadata": {
    "accelerator": "GPU",
    "colab": {
      "gpuType": "T4",
      "provenance": []
    },
    "kernelspec": {
      "display_name": "Python 3",
      "name": "python3"
    },
    "language_info": {
      "name": "python"
    }
  },
  "nbformat": 4,
  "nbformat_minor": 0
}